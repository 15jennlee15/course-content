{
 "cells": [
  {
   "cell_type": "markdown",
   "metadata": {
    "colab_type": "text",
    "id": "view-in-github"
   },
   "source": [
    "<a href=\"https://colab.research.google.com/github/NeuromatchAcademy/course-content/blob/master/tutorials/W1D3-ModelFitting/student/W1D3_Tutorial7.ipynb\" target=\"_parent\"><img src=\"https://colab.research.google.com/assets/colab-badge.svg\" alt=\"Open In Colab\"/></a>"
   ]
  },
  {
   "cell_type": "markdown",
   "metadata": {
    "colab_type": "text",
    "id": "fDXAYdIHuyCV"
   },
   "source": [
    "\n",
    "# Neuromatch Academy: Week 1, Day 3, Tutorial 7\n",
    "# Model Selection: AIC & cross validation"
   ]
  },
  {
   "cell_type": "markdown",
   "metadata": {
    "colab_type": "text",
    "id": "aCD9LPJ7amih"
   },
   "source": [
    "#Tutorial Objectives\n",
    "\n",
    "This is Tutorial 7 of a series on fitting models to data. We start with simple linear regression, using least squares optimization (Tutorial 1) and Maximum Likelihood Estimation (Tutorial 2). We will use bootstrapping to build confidence intervals around the inferred linear model parameters (Tutorial 3). We'll finish our exploration of linear models by  generalizing to multiple linear regression (Tutorial 4). We then move on to polynomial regression (Tutorial 5). We end by learning how to choose between these various models. We discuss the bias-variance trade-off (Tutorial 6) and two common methods for model selection, AIC and Cross Validation (Tutorial 7).\n",
    "\n",
    "In this tutorial, we will learn about model selection and two methods to accomplish model selection (AIC and cross-validation).\n",
    "\n",
    "Tutorial objectives:\n",
    "\n",
    "* Implement AIC and use it to compare polynomial regression models\n",
    "\n",
    "* Implement cross-validation and use it to compare polynomial regression model"
   ]
  },
  {
   "cell_type": "code",
   "execution_count": 1,
   "metadata": {
    "cellView": "form",
    "colab": {
     "base_uri": "https://localhost:8080/",
     "height": 517
    },
    "colab_type": "code",
    "id": "vYGJZXA9wKSF",
    "outputId": "3628c4fa-c42f-4378-98dd-be67a25204d5"
   },
   "outputs": [
    {
     "name": "stdout",
     "output_type": "stream",
     "text": [
      "Video available at https://youtube.com/watch?v=EZAiR2frE7Y\n"
     ]
    },
    {
     "data": {
      "image/jpeg": "[encoded data removed]",
      "text/html": [
       "\n",
       "        <iframe\n",
       "            width=\"854\"\n",
       "            height=\"480\"\n",
       "            src=\"https://www.youtube.com/embed/EZAiR2frE7Y?fs=1\"\n",
       "            frameborder=\"0\"\n",
       "            allowfullscreen\n",
       "        ></iframe>\n",
       "        "
      ],
      "text/plain": [
       "<IPython.lib.display.YouTubeVideo at 0x7f89183de3d0>"
      ]
     },
     "execution_count": 1,
     "metadata": {},
     "output_type": "execute_result"
    }
   ],
   "source": [
    "#@title Video Cross-Validation\n",
    "from IPython.display import YouTubeVideo\n",
    "video = YouTubeVideo(id=\"EZAiR2frE7Y\", width=854, height=480, fs=1)\n",
    "print(\"Video available at https://youtube.com/watch?v=\" + video.id)\n",
    "video"
   ]
  },
  {
   "cell_type": "markdown",
   "metadata": {
    "colab_type": "text",
    "id": "QWj51UczQ2av"
   },
   "source": [
    "# Setup"
   ]
  },
  {
   "cell_type": "code",
   "execution_count": 2,
   "metadata": {
    "cellView": "form",
    "colab": {},
    "colab_type": "code",
    "id": "JXOrOqhQRDSi"
   },
   "outputs": [],
   "source": [
    "#@title  Imports\n",
    "import numpy as np\n",
    "import matplotlib.pyplot as plt\n",
    "from sklearn.model_selection import KFold\n",
    "%matplotlib inline"
   ]
  },
  {
   "cell_type": "code",
   "execution_count": 3,
   "metadata": {
    "cellView": "form",
    "colab": {},
    "colab_type": "code",
    "id": "-i1swxnYRQ-B"
   },
   "outputs": [],
   "source": [
    "#@title Helper functions\n",
    "def ordinary_least_squares(x, y):\n",
    "  \"\"\"Ordinary least squares estimator for linear regression.\n",
    "\n",
    "  Args:\n",
    "    x (ndarray): design matrix of shape (n_samples, n_regressors)\n",
    "    y (ndarray): vecto\"r of measurements of shape (n_samples)\n",
    "  \n",
    "  Returns:\n",
    "    ndarray: estimated parameter values of shape (n_regressors)\n",
    "  \"\"\"\n",
    "  return np.linalg.inv(x.T @ x) @ x.T @ y\n",
    "\n",
    "def make_design_matrix(x, order):\n",
    "  \"\"\"Create the design matrix of inputs for use in polynomial regression\n",
    "  \n",
    "  Args:\n",
    "    x (ndarray): An array of shape (samples,) that contains the input values.\n",
    "    max_order (scalar): The order of the polynomial we want to fit\n",
    "\n",
    "  Returns:\n",
    "    numpy array: The design matrix containing x raised to different powers\n",
    "  \"\"\"\n",
    "\n",
    "  # Broadcast to shape (n x 1) if shape (n, ) so this function generalizes to multiple inputs\n",
    "  if x.ndim == 1:\n",
    "    x = x[:,None]\n",
    "\n",
    "  #if x has more than one feature, we don't want multiple columns of ones so we assign\n",
    "  # x^0 here\n",
    "  design_matrix = np.ones((x.shape[0],1)) \n",
    "\n",
    "  # Loop through rest of degrees and stack columns\n",
    "  for degree in range(1, order+1):\n",
    "      design_matrix = np.hstack((design_matrix, x**degree))\n",
    "\n",
    "  return design_matrix\n",
    "\n",
    "\n",
    "def solve_poly_reg(x, y, max_order):\n",
    "  \"\"\"Fit a polynomial regression model for each order 0 through max_order.\n",
    "  \n",
    "  Args:\n",
    "    x (ndarray): An array of shape (samples, ) that contains the input values \n",
    "    y (ndarray): An array of shape (samples, ) that contains the output values\n",
    "    max_order (scalar): The order of the polynomial we want to fit\n",
    "\n",
    "  Returns:\n",
    "    numpy array: (input_features, max_order+1) Each column contains the fitted \n",
    "    weights for that order of polynomial regression\n",
    "  \"\"\"\n",
    "\n",
    "  # Create a dictionary with polynomial order as keys, and np array of theta \n",
    "  # (weights) as the values\n",
    "  theta_hat = {}\n",
    "\n",
    "  # Loop over polynomial orders from 0 through max_order\n",
    "  for order in range(max_order+1):\n",
    "\n",
    "    X = make_design_matrix(x, order)\n",
    "    this_theta = ordinary_least_squares(X, y)\n",
    "\n",
    "    theta_hat[order] = this_theta\n",
    "\n",
    "  return theta_hat\n"
   ]
  },
  {
   "cell_type": "markdown",
   "metadata": {
    "colab_type": "text",
    "id": "YKG1_6gSkHFU"
   },
   "source": [
    "# Model Selection\n",
    "\n",
    "We now have multiple choices for which model to use for a given problem: we could use linear regression, order 2 polynomial regression, order 3 polynomial regression, etc. As we saw in Tutorial 6, different models will have different quality of predictions, both on the training data and on the test data. We need to be able to choose between models without looking at any test data. In fact, we should never look at or use the test data in any way when modeling.  If we do, we would then be unable to report a true indication of how well the model generalizes to new data. We will cover two different methods for model selection in the next two sections. We will explore both methods using the same train/test data and polynomial regression models as in Tutorial 6 (generated below)."
   ]
  },
  {
   "cell_type": "code",
   "execution_count": 4,
   "metadata": {
    "colab": {},
    "colab_type": "code",
    "id": "VliUfiNPSiiG"
   },
   "outputs": [],
   "source": [
    "# You've seen this code before!\n",
    "\n",
    "### Generate training data\n",
    "np.random.seed(0)\n",
    "n_samples = 50\n",
    "x_train = np.random.uniform(-2, 2.5, n_samples) # sample from a uniform distribution over [-2, 2.5)\n",
    "noise = np.random.randn(n_samples) # sample from a standard normal distribution\n",
    "y_train =  x_train**2 - x_train - 2 + noise\n",
    "\n",
    "### Generate testing data\n",
    "n_samples = 20\n",
    "x_test = np.random.uniform(-3, 3, n_samples) # sample from a uniform distribution over [-2, 2.5)\n",
    "noise = np.random.randn(n_samples) # sample from a standard normal distribution\n",
    "y_test =  x_test**2 - x_test - 2 + noise\n",
    "\n",
    "### Fit polynomial regression models\n",
    "max_order = 5\n",
    "theta_hat = solve_poly_reg(x_train, y_train, max_order)"
   ]
  },
  {
   "cell_type": "markdown",
   "metadata": {
    "colab_type": "text",
    "id": "kHKyP5i6qfXb"
   },
   "source": [
    "## Akaike's Information Criterion (AIC)\n",
    "\n",
    "In order to choose the best model for a given problem, we can ask how likely the data is under a given model. We want to choose a model that assigns high probability to the data. A commonly used method for model selection that uses this approach is **Akaike’s Information Criterion (AIC)**.\n",
    "\n",
    "Essentially, AIC estimates how much information would be lost if the model predictions were used instead of the true data (the relative information value of the model). We compute the AIC for each model and choose the model with the lowest AIC. Note that AIC only tells us relative qualities, not absolute - we do not know from AIC how good our model is independent of others.\n",
    "\n",
    "AIC strives for a good tradeoff between overfitting and underfitting by taking into account the complexity of the model and the information lost. AIC is calculated as:\n",
    "\n",
    "$$ AIC = 2K - 2 log(L)$$\n",
    "\n",
    "where K is the number of parameters in your model and L is the likelihood that the model could have produced the output data. \n"
   ]
  },
  {
   "cell_type": "markdown",
   "metadata": {
    "colab_type": "text",
    "id": "GXBqn09emIdj"
   },
   "source": [
    "### AIC for Polynomial Regression"
   ]
  },
  {
   "cell_type": "markdown",
   "metadata": {
    "colab_type": "text",
    "id": "F6i_20bomLCQ"
   },
   "source": [
    "Now we know what AIC is, we want to use it to pick between our polynomial regression models. We haven't been thinking in terms of likelihoods though - so how will we calculate L? \n",
    "\n",
    "As we saw in Tutorial 2, there is a link between mean squared error and the likelihood estimates for linear regression models that we can take advantage of. \n",
    "\n",
    "*Derivation time!*\n",
    "\n",
    "We start with our formula for AIC from above:\n",
    "\n",
    "$$ AIC = 2k - 2 log L $$\n",
    "\n",
    "For a model with normal errors, we can use the log likelihood of the normal distribution:\n",
    "\n",
    "$$ \\log L = -\\frac{n}{2} \\log(2 \\pi) -\\frac{n}{2}log(\\sigma^2) - \\sum_i^n \\frac{1}{2 \\sigma^2} (y_i - \\tilde y_i)^2$$\n",
    "\n",
    "We can drop the first and last terms as both are constants and we're only assessing relative information with AIC. Once we drop those terms and incorporate into the AIC formula we get:\n",
    "\n",
    "$$AIC = 2k + nlog(\\sigma^2)$$\n",
    "\n",
    "We can replace $\\sigma^2$ with the computation for variance (the sum of squared errors divided by number of samples). Thus, we end up with the following formula for AIC for linear and polynomial regression:\n",
    "\n",
    "$$ AIC = 2K + n log(\\frac{SSE}{n})$$\n",
    "\n",
    "where k is the number of parameters, n is the number of samples, and SSE is the summed squared error.\n"
   ]
  },
  {
   "cell_type": "markdown",
   "metadata": {
    "colab_type": "text",
    "id": "ZqWlEviJ7rbf"
   },
   "source": [
    "#### Exercise: Compute and compare AIC"
   ]
  },
  {
   "cell_type": "code",
   "execution_count": 5,
   "metadata": {
    "colab": {
     "base_uri": "https://localhost:8080/",
     "height": 340
    },
    "colab_type": "code",
    "id": "wL1zAH7DqeUN",
    "outputId": "fdc541b5-6562-4f7f-8140-98ec57dd65be"
   },
   "outputs": [
    {
     "data": {
      "image/png": "[encoded data removed]",
      "text/plain": [
       "<Figure size 432x288 with 1 Axes>"
      ]
     },
     "metadata": {},
     "output_type": "display_data"
    }
   ],
   "source": [
    "AIC = np.zeros((max_order+1))\n",
    "for order in range(0, max_order+1):\n",
    "\n",
    "  # Compute predictions for this model \n",
    "  X_design = make_design_matrix(x_train, order)\n",
    "  y_hat = np.dot(X_design, theta_hat[order])\n",
    "\n",
    "  #####################################################################################################\n",
    "  ## TODO for students: Compute AIC for this order polynomial regression model\n",
    "  # 1) Compute sum of squared errors given prediction y_hat and y_train (SSE in formula above)\n",
    "  # 2) Identify number of parameters in this model (K in formula above)\n",
    "  # 3) Compute AIC (call this_AIC) according to formula above\n",
    "  #####################################################################################################\n",
    "\n",
    "    # Compute SSE\n",
    "\n",
    "\n",
    "    # Get K\n",
    "\n",
    "\n",
    "    # Compute AIC\n",
    "    # AIC[order] = ...\n",
    "\n",
    "with plt.xkcd():\n",
    "  plt.bar(range(max_order+1), AIC);\n",
    "  plt.ylabel('AIC')\n",
    "  plt.xlabel('polynomial order')\n",
    "  plt.title('comparing polynomial fits');"
   ]
  },
  {
   "cell_type": "markdown",
   "metadata": {
    "colab": {
     "base_uri": "https://localhost:8080/",
     "height": 304
    },
    "colab_type": "text",
    "id": "kx8LtxGh067t",
    "outputId": "2579d7dc-77a6-4154-bed5-e9fc500a9b98"
   },
   "source": [
    "**Example output:**\n",
    "\n",
    "![Solution hint](https://raw.githubusercontent.com/NeuromatchAcademy/course-content/master/tutorials/W1D3-ModelFitting/static/W1D3_Tutorial7_Solution_0251b23c_0.png)\n",
    "\n"
   ]
  },
  {
   "cell_type": "markdown",
   "metadata": {
    "colab_type": "text",
    "id": "pXlhin28wHpe"
   },
   "source": [
    "Which model would we choose based on AIC? "
   ]
  },
  {
   "cell_type": "markdown",
   "metadata": {
    "colab_type": "text",
    "id": "EthmSy3RpLwQ"
   },
   "source": [
    "## Cross Validation\n",
    "\n",
    "AIC is just one method for model selection - another commonly used method is **cross validation**. AIC gives a measure of how likely the training data is given the model. Cross-validation takes a different approach to the model selection problem and asks how well the model predicts new data that it hasn't seen yet. \n",
    "\n",
    "Instead of looking at test data, we want to use held-out data set that will not be used for the final evaluation, **validation data**. We often have a limited amount of data though (especially in neuroscience), so we do not want to further reduce our potential training data by reassigning some as validation. Luckily, we can use **k-fold cross-validation**! In k-fold cross validation, we divide up the data into k subsets, train a model on k-1 subsets, and compute error on the held-out subset (our validation data). In total, we train k instances of each model. Each of these k instances has a different subset excluded from fitting and labeled as validation. We then average the error of each of the k trained models on its validation subset - this is the validation error of this model type. \n",
    "\n",
    "To make this explicit, let's say we have 1000 samples of training data and choose 4-fold cross-validation. Samples 0 - 250 would be subset 1, samples 250 - 500 subset 2, samples 500 - 750 subset 3, and samples 750-1000 subset 4. First, we train an order 3 polynomial regression on subsets 1,2,3 and evaluate on subset 4. Next, we train an order 3 polynomial model on subsets 1,2,4 and evalute on subset 3. We continue until we have 4 instances of a trained order 3 polynomial regression model, each with a different subset as validation data, and average the validation error from each instance.\n",
    "\n",
    "We can now compare the validation error of different models to pick a model that generalizes well to held-out data. We can choose the measure of prediction quality to report error on the validation subsets to suit our purposes. We will use MSE here but we could also use log likelihood of the data and so on. As a final step, we retrain this model on all of the training data (without subset divisions) to get our final model that we will evaluate on test data. This approach allows us to evaluate the quality of predictions on new data without sacrificing any of our precious training data. \n",
    "\n",
    "These steps are summarized in this diagram from SkLearn (https://scikit-learn.org/stable/modules/cross_validation.html)\n"
   ]
  },
  {
   "cell_type": "markdown",
   "metadata": {
    "colab_type": "text",
    "id": "mVDh-wrQmBLU"
   },
   "source": [
    "![Diagram from Sklearn](https://scikit-learn.org/stable/_images/grid_search_workflow.png)"
   ]
  },
  {
   "cell_type": "markdown",
   "metadata": {
    "colab_type": "text",
    "id": "oX6sVvpCh7GN"
   },
   "source": [
    "\n",
    "\n",
    "Importantly, we need to be very careful when dividing the data into subsets.  The validation subset should not be used in any way to fit the model. We should not do any preprocessing (e.g. normalization) before we divide into subsets or the validation subset could influence the training subsets. A lot of false-positives in crossvalidation come from wrongly dividing. \n",
    "\n",
    "An important consideration in the choice of model selection method are the relevant biases. If we just fit using MSE on training data, we will generally find that fits get better as we add more parameters because the model will overfit the data, as we saw in Tutorial 6. When using cross-validation, the bias is the other way round. Models with more parameters are more affected by noise so cross-validation will generally prefer models with fewer parameters.\n",
    "\n",
    "\n"
   ]
  },
  {
   "cell_type": "markdown",
   "metadata": {
    "colab_type": "text",
    "id": "L4fyrY3vAmGC"
   },
   "source": [
    "### Exercise: implement cross-validation\n",
    "\n",
    "Given our set of models to evaluate (polynomial regression models with orders 0 through 5), we will use cross-validation to determine which model has the best predictions on new data according to MSE. \n",
    "\n",
    "In this code, we split the data into 10 subsets using `Kfold` (from `sklearn.model_selection`). `KFold` handles cross-validation subset splitting and train/val assignments.  In particular, the `Kfold.split` method returns an iterator which we can loop through. On each loop, this iterator assigns a different subset as validation and returns new training and validation indices with which to split the data. \n",
    "\n",
    "We will loop through the 10 train/validation splits and fit several different polynomial regression models (with different orders) for each split. You will need to use the `solve_poly_reg` method from Tutorial 5 (already implemented in this notebook)."
   ]
  },
  {
   "cell_type": "code",
   "execution_count": 7,
   "metadata": {
    "colab": {},
    "colab_type": "code",
    "id": "MxytZyErpLwR"
   },
   "outputs": [],
   "source": [
    "max_order = 5\n",
    "\n",
    "# Initialize the split method\n",
    "n_splits = 10\n",
    "kfold_iterator = KFold(n_splits)\n",
    "\n",
    "# Initialize np array mse values for all models for each split\n",
    "mse_all = np.zeros((n_splits, max_order+1))\n",
    "\n",
    "for i_split, (train_indices, val_indices) in enumerate(kfold_iterator.split(x_train)):\n",
    "\n",
    "    # Split up the overall training data into cross-validation training and validation sets\n",
    "    x_cv_train = x_train[train_indices]\n",
    "    y_cv_train = y_train[train_indices]\n",
    "    x_cv_val = x_train[val_indices]\n",
    "    y_cv_val = y_train[val_indices]\n",
    "\n",
    "    #############################################################################\n",
    "    ## TODO for students: Fill in missing ... in code below to choose which data\n",
    "    ## to fit to and compute MSE for\n",
    "    #############################################################################\n",
    "\n",
    "    # # Fit models\n",
    "    # theta_hat = solve_poly_reg(..., ..., max_order)\n",
    "\n",
    "    # # Compute MSE\n",
    "    # mse_this_split = np.zeros((max_order+1))\n",
    "    # for order in range(0, max_order+1):\n",
    "    #    X_design= make_design_matrix(..., order)\n",
    "    #    y_hat = np.dot(X_design, theta_hat[order])\n",
    "    #    mse_this_split[order] = np.mean((... - y_hat) ** 2)\n",
    "\n",
    "    # mse_all[i_split] = mse_this_split"
   ]
  },
  {
   "cell_type": "markdown",
   "metadata": {
    "colab_type": "text",
    "id": "lmORzt0CzOYk"
   },
   "source": [
    "Use the following code to visualize the cross-validated MSE. Which polynomial order do you think is a better model of the data?"
   ]
  },
  {
   "cell_type": "code",
   "execution_count": 9,
   "metadata": {
    "colab": {
     "base_uri": "https://localhost:8080/",
     "height": 294
    },
    "colab_type": "code",
    "id": "UwMTQ6U-cUL0",
    "outputId": "ecac36a2-84d0-47db-90c0-7389c61ac7fb"
   },
   "outputs": [
    {
     "data": {
      "image/png": "[encoded data removed]",
      "text/plain": [
       "<Figure size 432x288 with 1 Axes>"
      ]
     },
     "metadata": {
      "needs_background": "light"
     },
     "output_type": "display_data"
    }
   ],
   "source": [
    "plt.figure()\n",
    "plt.boxplot(mse_all, labels=np.arange(0,max_order+1))\n",
    "plt.xlabel('Polynomial Order')\n",
    "plt.ylabel('Validation MSE')\n",
    "plt.title(f'Validation MSE over {n_splits} splits of the data');"
   ]
  },
  {
   "cell_type": "markdown",
   "metadata": {
    "colab_type": "text",
    "id": "aP6W9rOQBUOn"
   },
   "source": [
    "Which model would you choose based on cross-validation? Is it the same or different than what you would choose based on AIC?"
   ]
  },
  {
   "cell_type": "markdown",
   "metadata": {
    "colab_type": "text",
    "id": "FohJAKL1Bkkd"
   },
   "source": [
    "# Summary\n",
    "\n",
    "We need to use model selection methods, such as AIC and cross-validation, to determine the best model to use for a given problem. \n",
    "\n",
    "AIC focuses on how likely the data is given the model. \n",
    "\n",
    "Cross-validation focuses on how well the model predicts new data."
   ]
  }
 ],
 "metadata": {
  "colab": {
   "collapsed_sections": [],
   "include_colab_link": true,
   "name": "W1D3-ModelFitting-Tutorial7_v2.ipynb",
   "provenance": [],
   "toc_visible": true
  },
  "kernelspec": {
   "display_name": "Python 3",
   "language": "python",
   "name": "python3"
  },
  "language_info": {
   "codemirror_mode": {
    "name": "ipython",
    "version": 3
   },
   "file_extension": ".py",
   "mimetype": "text/x-python",
   "name": "python",
   "nbconvert_exporter": "python",
   "pygments_lexer": "ipython3",
   "version": "3.7.7"
  },
  "toc-autonumbering": true
 },
 "nbformat": 4,
 "nbformat_minor": 0
}
