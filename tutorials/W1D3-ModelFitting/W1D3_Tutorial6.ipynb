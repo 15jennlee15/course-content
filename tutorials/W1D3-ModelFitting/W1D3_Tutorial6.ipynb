{
  "nbformat": 4,
  "nbformat_minor": 0,
  "metadata": {
    "colab": {
      "name": "W1D3-ModelFitting-Tutorial6_v2.ipynb",
      "provenance": [],
      "collapsed_sections": [],
      "toc_visible": true,
      "include_colab_link": true
    },
    "kernelspec": {
      "display_name": "Python 3",
      "language": "python",
      "name": "python3"
    },
    "language_info": {
      "codemirror_mode": {
        "name": "ipython",
        "version": 3
      },
      "file_extension": ".py",
      "mimetype": "text/x-python",
      "name": "python",
      "nbconvert_exporter": "python",
      "pygments_lexer": "ipython3",
      "version": "3.7.7"
    },
    "toc-autonumbering": true
  },
  "cells": [
    {
      "cell_type": "markdown",
      "metadata": {
        "id": "view-in-github",
        "colab_type": "text"
      },
      "source": [
        "<a href=\"https://colab.research.google.com/github/NeuromatchAcademy/course-content/blob/W1D3/tutorials/W1D3-ModelFitting/W1D3_Tutorial6.ipynb\" target=\"_parent\"><img src=\"https://colab.research.google.com/assets/colab-badge.svg\" alt=\"Open In Colab\"/></a>"
      ]
    },
    {
      "cell_type": "markdown",
      "metadata": {
        "id": "fDXAYdIHuyCV",
        "colab_type": "text"
      },
      "source": [
        "\n",
        "# Neuromatch Academy: Week 1, Day 3, Tutorial 6\n",
        "# MOdel Selection: Bias-variance trade-off\n"
      ]
    },
    {
      "cell_type": "markdown",
      "metadata": {
        "id": "YfiTGyEaaLrP",
        "colab_type": "text"
      },
      "source": [
        "#Tutorial Objectives\n",
        "\n",
        "This is Tutorial 6 of a series on fitting models to data. We start with simple linear regression, using least squares optimization (Tutorial 1) and Maximum Likelihood Estimation (Tutorial 2). We will use bootstrapping to build confidence intervals around the inferred linear model parameters (Tutorial 3). We'll finish our exploration of linear models by  generalizing to multiple linear regression (Tutorial 4). We then move on to polynomial regression (Tutorial 5). We end by learning how to choose between these various models. We discuss the bias-variance trade-off (Tutorial 6) and two common methods for model selection, AIC and Cross Validation (Tutorial 7). \n",
        "\n",
        "\n",
        "In this tutorial, we will learn about the bias-variance tradeoff and see it in action using polynomial regression models.\n",
        "\n",
        "Tutorial objectives:\n",
        "\n",
        "* Understand difference between test and train data\n",
        "* Compare train and test error for models of varying complexity\n",
        "* Understand how bias-variance tradeoff relates to what model we choose"
      ]
    },
    {
      "cell_type": "code",
      "metadata": {
        "id": "ThcPwgvzvV-6",
        "colab_type": "code",
        "cellView": "form",
        "colab": {
          "base_uri": "https://localhost:8080/",
          "height": 518
        },
        "outputId": "6480f3d6-3319-4236-e06e-f3aa21c3582c"
      },
      "source": [
        "#@title Video Bias Variance Tradeoff\n",
        "from IPython.display import YouTubeVideo\n",
        "video = YouTubeVideo(id=\"c6EjIrhkUpc\", width=854, height=480, fs=1)\n",
        "print(\"Video available at https://youtube.com/watch?v=\" + video.id)\n",
        "video\n"
      ],
      "execution_count": null,
      "outputs": [
        {
          "output_type": "stream",
          "text": [
            "Video available at https://youtube.com/watch?v=c6EjIrhkUpc\n"
          ],
          "name": "stdout"
        },
        {
          "output_type": "execute_result",
          "data": {
            "text/html": [
              "\n",
              "        <iframe\n",
              "            width=\"854\"\n",
              "            height=\"480\"\n",
              "            src=\"https://www.youtube.com/embed/c6EjIrhkUpc?fs=1\"\n",
              "            frameborder=\"0\"\n",
              "            allowfullscreen\n",
              "        ></iframe>\n",
              "        "
            ],
            "text/plain": [
              "<IPython.lib.display.YouTubeVideo at 0x7fcabeda8358>"
            ],
            "image/jpeg": "[encoded data removed]"
          },
          "metadata": {
            "tags": []
          },
          "execution_count": 1
        }
      ]
    },
    {
      "cell_type": "markdown",
      "metadata": {
        "id": "Jj5ChX3NGWfN",
        "colab_type": "text"
      },
      "source": [
        "# Setup"
      ]
    },
    {
      "cell_type": "code",
      "metadata": {
        "id": "3Yuh005kCT0v",
        "colab_type": "code",
        "cellView": "both",
        "colab": {}
      },
      "source": [
        "#@title  Imports\n",
        "import numpy as np\n",
        "import matplotlib.pyplot as plt\n",
        "%matplotlib inline"
      ],
      "execution_count": null,
      "outputs": []
    },
    {
      "cell_type": "code",
      "metadata": {
        "id": "s4IASbPMGbPX",
        "colab_type": "code",
        "cellView": "form",
        "colab": {}
      },
      "source": [
        "#@title Helper functions\n",
        "def ordinary_least_squares(x, y):\n",
        "  \"\"\"Ordinary least squares estimator for linear regression.\n",
        "\n",
        "  Args:\n",
        "    x (ndarray): design matrix of shape (n_samples, n_regressors)\n",
        "    y (ndarray): vecto\"r of measurements of shape (n_samples)\n",
        "  \n",
        "  Returns:\n",
        "    ndarray: estimated parameter values of shape (n_regressors)\n",
        "  \"\"\"\n",
        "  return np.linalg.inv(x.T @ x) @ x.T @ y\n",
        "\n",
        "def make_design_matrix(x, order):\n",
        "  \"\"\"Create the design matrix of inputs for use in polynomial regression\n",
        "  \n",
        "  Args:\n",
        "    x (ndarray): An array of shape (samples,) that contains the input values.\n",
        "    max_order (scalar): The order of the polynomial we want to fit\n",
        "\n",
        "  Returns:\n",
        "    numpy array: The design matrix containing x raised to different powers\n",
        "  \"\"\"\n",
        "\n",
        "  # Broadcast to shape (n x 1) if shape (n, ) so this function generalizes to multiple inputs\n",
        "  if x.ndim == 1:\n",
        "    x = x[:,None]\n",
        "\n",
        "  #if x has more than one feature, we don't want multiple columns of ones so we assign\n",
        "  # x^0 here\n",
        "  design_matrix = np.ones((x.shape[0],1)) \n",
        "\n",
        "  # Loop through rest of degrees and stack columns\n",
        "  for degree in range(1, order+1):\n",
        "      design_matrix = np.hstack((design_matrix, x**degree))\n",
        "\n",
        "  return design_matrix\n",
        "\n",
        "\n",
        "def solve_poly_reg(x, y, max_order):\n",
        "  \"\"\"Fit a polynomial regression model for each order 0 through max_order.\n",
        "  \n",
        "  Args:\n",
        "    x (ndarray): An array of shape (samples, ) that contains the input values \n",
        "    y (ndarray): An array of shape (samples, ) that contains the output values\n",
        "    max_order (scalar): The order of the polynomial we want to fit\n",
        "\n",
        "  Returns:\n",
        "    numpy array: (input_features, max_order+1) Each column contains the fitted \n",
        "    weights for that order of polynomial regression\n",
        "  \"\"\"\n",
        "\n",
        "  # Create a dictionary with polynomial order as keys, and np array of theta \n",
        "  # (weights) as the values\n",
        "  theta_hat = {}\n",
        "\n",
        "  # Loop over polynomial orders from 0 through max_order\n",
        "  for order in range(max_order+1):\n",
        "\n",
        "    X = make_design_matrix(x, order)\n",
        "    this_theta = ordinary_least_squares(X, y)\n",
        "\n",
        "    theta_hat[order] = this_theta\n",
        "\n",
        "  return theta_hat\n"
      ],
      "execution_count": null,
      "outputs": []
    },
    {
      "cell_type": "markdown",
      "metadata": {
        "id": "hCrPK1gMk-MR",
        "colab_type": "text"
      },
      "source": [
        ""
      ]
    },
    {
      "cell_type": "markdown",
      "metadata": {
        "id": "T87elEDuk-Jb",
        "colab_type": "text"
      },
      "source": [
        ""
      ]
    },
    {
      "cell_type": "markdown",
      "metadata": {
        "id": "XDrVC2QUGjYm",
        "colab_type": "text"
      },
      "source": [
        "# Train vs test data\n",
        "\n",
        " The data used for the fitting procedure for a given model is the **training data**. In tutorial 5, we computed MSE on the training data of our polynomial regression models and compared training MSE across models. An additional important type of data is **test data**. This is held-out data that is not used (in any way) during the fitting procedure. When fitting models, we often want to consider both the train error (the quality of prediction on the training data) and the test error (the quality of prediction on the test data) as we will see in the next section.\n"
      ]
    },
    {
      "cell_type": "markdown",
      "metadata": {
        "colab_type": "text",
        "id": "PViOfczipLwN"
      },
      "source": [
        "# Bias-variance tradeoff\n",
        "\n",
        "Finding a good model can be difficult. One of the most important concepts to keep in mind when modeling is the **bias-variance tradeoff**. \n",
        "\n",
        "**Bias** is the difference between the prediction of the model and the corresponding true output variables you are trying to predict. Models with high bias will not fit the training data well since the predictions are quite different from the true data. These high bias models are overly simplified - they do not have enough parameters and complexity to accurately capture the patterns in the data and are thus **underfitting**.\n",
        "\n",
        "\n",
        "**Variance** refers to the variability of model predictions for a given input. Essentially, do the model predictions change a lot with changes in the exact training data used? Models with high variance are highly dependent on the exact training data used - they will not generalize well to test data. These high variance models are **overfitting** to the data.\n",
        "\n",
        "In essence:\n",
        "\n",
        "* High bias, low variance models have high train and test error.\n",
        "* Low bias, high variance models have low train error, high test error\n",
        "*Low bias, low variance models have low train and test error\n",
        "\n",
        "\n",
        "As we can see from this list, we ideally want low bias and low variance models! These goals can be in conflict though - models with enough complexity to have low bias also tend to overfit and depend on the training data more. We need to decide on the correct tradeoff.\n",
        "\n",
        "In this section, we will see the bias-variance tradeoff in action with polynomial regression models of different orders.\n"
      ]
    },
    {
      "cell_type": "markdown",
      "metadata": {
        "id": "VeNPDxXU1rC4",
        "colab_type": "text"
      },
      "source": [
        "### Data generation & model fitting\n",
        "\n",
        "We first generate some noisy data using a similar process as in Tutorial 5. \n",
        "\n",
        "We will generate our training data the exact same way as in Tutorial 5. However, now we will also generate test data. We want to see how our model generalizes beyond the range of values see in the training phase. To accomplish this, we will generate x from a wider range of values ([-3, 3]). We then plot the train and test data together.\n",
        "\n",
        "We will then fit polynomial regression models of orders 0-5 just as we did in Tutorial 5. "
      ]
    },
    {
      "cell_type": "code",
      "metadata": {
        "id": "NQ5S5rdacdJ8",
        "colab_type": "code",
        "colab": {
          "base_uri": "https://localhost:8080/",
          "height": 295
        },
        "outputId": "76e3a8fe-aa85-4896-e5a5-a0e08fa13bc9"
      },
      "source": [
        "### Generate training data\n",
        "np.random.seed(0)\n",
        "n_samples = 50\n",
        "x_train = np.random.uniform(-2, 2.5, n_samples) # sample from a uniform distribution over [-2, 2.5)\n",
        "noise = np.random.randn(n_samples) # sample from a standard normal distribution\n",
        "y_train =  x_train**2 - x_train - 2 + noise\n",
        "\n",
        "### Generate testing data\n",
        "n_samples = 20\n",
        "x_test = np.random.uniform(-3, 3, n_samples) # sample from a uniform distribution over [-2, 2.5)\n",
        "noise = np.random.randn(n_samples) # sample from a standard normal distribution\n",
        "y_test =  x_test**2 - x_test - 2 + noise\n",
        "\n",
        "## Plot both train and test data\n",
        "fig, ax = plt.subplots()\n",
        "plt.title('Training & Test Data')\n",
        "plt.plot(x_train, y_train, '.', label='Training')\n",
        "plt.plot(x_test, y_test, 'g+', label='Test')\n",
        "plt.legend()\n",
        "plt.xlabel('x')\n",
        "plt.ylabel('y');"
      ],
      "execution_count": null,
      "outputs": [
        {
          "output_type": "display_data",
          "data": {
            "image/png": "[encoded data removed]",
            "text/plain": [
              "<Figure size 432x288 with 1 Axes>"
            ]
          },
          "metadata": {
            "tags": [],
            "needs_background": "light"
          }
        }
      ]
    },
    {
      "cell_type": "code",
      "metadata": {
        "id": "RA8j7rA2KUMr",
        "colab_type": "code",
        "colab": {}
      },
      "source": [
        "# Let's fit some models!\n",
        "max_order = 5\n",
        "theta_hat = solve_poly_reg(x_train, y_train, max_order)"
      ],
      "execution_count": null,
      "outputs": []
    },
    {
      "cell_type": "markdown",
      "metadata": {
        "id": "d_VBZm0G3_7E",
        "colab_type": "text"
      },
      "source": [
        "#### Exercise: Compute and compare train vs test error\n",
        "\n",
        "We will use MSE as our error metric again. Compute MSE on training data ($x_{train},y_{train}$) and test data ($x_{test}, y_{test}$ for each polynomial regression model (orders 0-5). Hint: we computed MSE on train data in Tutorial 5 so port those concepts/code here\n",
        "\n",
        "*Please think about after completing exercise before reading the following text! Do you think the order 0 model has high or low bias? High or low variance? How about the order 5 model?*"
      ]
    },
    {
      "cell_type": "code",
      "metadata": {
        "id": "8iebjIx24g7o",
        "colab_type": "code",
        "colab": {}
      },
      "source": [
        "#################################################################################\n",
        "## TODO for students: Compute train MSE for each polynomial regression model  \n",
        "## (orders 0 through 5). The output should be *mse_train*, a numpy array of size(max_order+1,)) \n",
        "###################################################################################\n",
        "\n",
        "\n",
        "\n",
        "\n",
        "#################################################################################\n",
        "## TODO for students: Compute test MSE for each polynomial regression model  \n",
        "## (orders 0 through 5). The output should be *mse_test*, a numpy array of size(max_order+1,)) \n",
        "###################################################################################\n",
        "\n",
        "# Uncomment once exercise complete\n",
        "# with plt.xkcd():\n",
        "#   width = .35\n",
        "#   plt.figure()\n",
        "#   plt.bar(np.arange(max_order+1) - width/2, mse_train, width, label=\"train MSE\")\n",
        "#   plt.bar(np.arange(max_order+1) + width/2, mse_test , width, label=\"test MSE\")\n",
        "#   plt.legend()\n",
        "#   plt.xlabel('polynomial order')\n",
        "#   plt.ylabel('MSE')\n",
        "#   plt.title('comparing polynomial fits');"
      ],
      "execution_count": null,
      "outputs": []
    },
    {
      "cell_type": "code",
      "metadata": {
        "id": "43rGelCd49hQ",
        "colab_type": "code",
        "cellView": "both",
        "colab": {
          "base_uri": "https://localhost:8080/",
          "height": 304
        },
        "outputId": "0e544df5-457d-47df-eb05-621996831c71"
      },
      "source": [
        "# to_remove solution\n",
        "\n",
        "mse_train = np.zeros((max_order+1))\n",
        "for order in range(0, max_order+1):\n",
        "  X_design_train = make_design_matrix(x_train, order)\n",
        "  y_hat = np.dot(X_design_train, theta_hat[order])\n",
        "  residuals = y_train - y_hat\n",
        "  mse_train[order] = np.mean(residuals ** 2)\n",
        "\n",
        "mse_test = np.zeros((max_order+1))\n",
        "for order in range(0, max_order+1):\n",
        "  X_design_test = make_design_matrix(x_test, order)\n",
        "  y_hat = np.dot(X_design_test, theta_hat[order])\n",
        "  residuals = y_test - y_hat\n",
        "  mse_test[order] = np.mean(residuals ** 2)\n",
        "\n",
        "with plt.xkcd():\n",
        "  width = .35\n",
        "  plt.figure()\n",
        "  plt.bar(np.arange(max_order+1) - width/2, mse_train, width, label=\"train MSE\")\n",
        "  plt.bar(np.arange(max_order+1) + width/2, mse_test , width, label=\"test MSE\")\n",
        "  plt.legend()\n",
        "  plt.xlabel('polynomial order')\n",
        "  plt.ylabel('MSE')\n",
        "  plt.title('comparing polynomial fits');\n"
      ],
      "execution_count": null,
      "outputs": [
        {
          "output_type": "display_data",
          "data": {
            "image/png": "[encoded data removed]",
            "text/plain": [
              "<Figure size 432x288 with 1 Axes>"
            ]
          },
          "metadata": {
            "tags": []
          }
        }
      ]
    },
    {
      "cell_type": "markdown",
      "metadata": {
        "id": "EYAfAFFg5Oyd",
        "colab_type": "text"
      },
      "source": [
        "As we can see from the plot above, more complex models (higher order polynomials) have lower MSE for training data. The overly simplified models (orders 0 and 1) have high MSE on the training data. As we add complexity to the model, we go from high bias to low bias. \n",
        "\n",
        "The MSE on test data follows a different pattern. The best test MSE is for an order 2 model. Both simple models and more complex models have higher test MSE. \n",
        "\n",
        "So to recap:\n",
        "\n",
        "Order 0 model: High bias, low variance\n",
        "\n",
        "Order 5 model: Low bias, high variance\n",
        "\n",
        "Order 2 model: Just right, low bias, low variance\n"
      ]
    },
    {
      "cell_type": "markdown",
      "metadata": {
        "id": "K8k32Ks3N38G",
        "colab_type": "text"
      },
      "source": [
        "# Summary\n",
        "\n",
        "Training data is the data used for fitting, test data is held-out data.\n",
        "\n",
        "We need to strike the right balance between bias and variance. \n",
        "\n",
        "Too complex models have low bias and high variance. Too simple models have high bias and low variance. We want to find a model with optimal model complexity that has both low bias and low variance"
      ]
    },
    {
      "cell_type": "code",
      "metadata": {
        "id": "oxVs-fqSOL9q",
        "colab_type": "code",
        "colab": {}
      },
      "source": [
        ""
      ],
      "execution_count": null,
      "outputs": []
    }
  ]
}