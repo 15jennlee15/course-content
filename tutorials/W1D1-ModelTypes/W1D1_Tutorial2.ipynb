{
  "nbformat": 4,
  "nbformat_minor": 0,
  "metadata": {
    "kernelspec": {
      "display_name": "Python 3",
      "language": "python",
      "name": "python3"
    },
    "language_info": {
      "codemirror_mode": {
        "name": "ipython",
        "version": 3
      },
      "file_extension": ".py",
      "mimetype": "text/x-python",
      "name": "python",
      "nbconvert_exporter": "python",
      "pygments_lexer": "ipython3",
      "version": "3.7.2"
    },
    "colab": {
      "name": "W1D1-Tutorial2.ipynb",
      "provenance": [],
      "collapsed_sections": [],
      "toc_visible": true,
      "include_colab_link": true
    },
    "widgets": {
      "application/vnd.jupyter.widget-state+json": {
        "ceba379285d8420eab122d92e37cf614": {
          "model_module": "@jupyter-widgets/controls",
          "model_name": "VBoxModel",
          "state": {
            "_view_name": "VBoxView",
            "_dom_classes": [
              "widget-interact"
            ],
            "_model_name": "VBoxModel",
            "_view_module": "@jupyter-widgets/controls",
            "_model_module_version": "1.5.0",
            "_view_count": null,
            "_view_module_version": "1.5.0",
            "box_style": "",
            "layout": "IPY_MODEL_ce36febaaf2d4393b40ea270eea78bda",
            "_model_module": "@jupyter-widgets/controls",
            "children": [
              "IPY_MODEL_335dc79d7de5472b8feab6962ba2c5d8",
              "IPY_MODEL_f03f445c87fd41daa39efbe68c55afe6",
              "IPY_MODEL_91bbca9d32e44b579f90cc2c57af6162",
              "IPY_MODEL_1251eebb98c44304bb2b44b5967e04ed"
            ]
          }
        },
        "ce36febaaf2d4393b40ea270eea78bda": {
          "model_module": "@jupyter-widgets/base",
          "model_name": "LayoutModel",
          "state": {
            "_view_name": "LayoutView",
            "grid_template_rows": null,
            "right": null,
            "justify_content": null,
            "_view_module": "@jupyter-widgets/base",
            "overflow": null,
            "_model_module_version": "1.2.0",
            "_view_count": null,
            "flex_flow": null,
            "width": null,
            "min_width": null,
            "border": null,
            "align_items": null,
            "bottom": null,
            "_model_module": "@jupyter-widgets/base",
            "top": null,
            "grid_column": null,
            "overflow_y": null,
            "overflow_x": null,
            "grid_auto_flow": null,
            "grid_area": null,
            "grid_template_columns": null,
            "flex": null,
            "_model_name": "LayoutModel",
            "justify_items": null,
            "grid_row": null,
            "max_height": null,
            "align_content": null,
            "visibility": null,
            "align_self": null,
            "height": null,
            "min_height": null,
            "padding": null,
            "grid_auto_rows": null,
            "grid_gap": null,
            "max_width": null,
            "order": null,
            "_view_module_version": "1.2.0",
            "grid_template_areas": null,
            "object_position": null,
            "object_fit": null,
            "grid_auto_columns": null,
            "margin": null,
            "display": null,
            "left": null
          }
        },
        "335dc79d7de5472b8feab6962ba2c5d8": {
          "model_module": "@jupyter-widgets/controls",
          "model_name": "FloatLogSliderModel",
          "state": {
            "_view_name": "FloatLogSliderView",
            "orientation": "horizontal",
            "_view_module": "@jupyter-widgets/controls",
            "_model_module_version": "1.5.0",
            "_view_count": null,
            "disabled": false,
            "readout_format": ".3g",
            "_model_module": "@jupyter-widgets/controls",
            "style": "IPY_MODEL_13178c66d344425e8033ccb71d5952cd",
            "layout": "IPY_MODEL_bfbb00cee53142b0be230d2911200e78",
            "min": 2,
            "continuous_update": true,
            "description_tooltip": null,
            "_dom_classes": [],
            "description": "n_steps",
            "_model_name": "FloatLogSliderModel",
            "max": 4,
            "readout": true,
            "step": 0.1,
            "base": 10,
            "value": 1000,
            "_view_module_version": "1.5.0"
          }
        },
        "f03f445c87fd41daa39efbe68c55afe6": {
          "model_module": "@jupyter-widgets/controls",
          "model_name": "FloatLogSliderModel",
          "state": {
            "_view_name": "FloatLogSliderView",
            "orientation": "horizontal",
            "_view_module": "@jupyter-widgets/controls",
            "_model_module_version": "1.5.0",
            "_view_count": null,
            "disabled": false,
            "readout_format": ".3g",
            "_model_module": "@jupyter-widgets/controls",
            "style": "IPY_MODEL_98600f1df3694f7f8f395241786bf8ec",
            "layout": "IPY_MODEL_ecb5043cdcd045459f0d2f465d32e697",
            "min": -4,
            "continuous_update": true,
            "description_tooltip": null,
            "_dom_classes": [],
            "description": "alpha",
            "_model_name": "FloatLogSliderModel",
            "max": -1,
            "readout": true,
            "step": 0.1,
            "base": 10,
            "value": 0.01,
            "_view_module_version": "1.5.0"
          }
        },
        "91bbca9d32e44b579f90cc2c57af6162": {
          "model_module": "@jupyter-widgets/controls",
          "model_name": "IntSliderModel",
          "state": {
            "_view_name": "IntSliderView",
            "style": "IPY_MODEL_08eb3e8bd87e4a5cb948b77c693f3355",
            "_dom_classes": [],
            "description": "rate",
            "step": 1,
            "_model_name": "IntSliderModel",
            "orientation": "horizontal",
            "max": 20,
            "_view_module": "@jupyter-widgets/controls",
            "_model_module_version": "1.5.0",
            "value": 10,
            "_view_count": null,
            "disabled": false,
            "_view_module_version": "1.5.0",
            "min": 1,
            "continuous_update": true,
            "readout_format": "d",
            "description_tooltip": null,
            "readout": true,
            "_model_module": "@jupyter-widgets/controls",
            "layout": "IPY_MODEL_d660979bd65949ff86436c25f2971593"
          }
        },
        "1251eebb98c44304bb2b44b5967e04ed": {
          "model_module": "@jupyter-widgets/output",
          "model_name": "OutputModel",
          "state": {
            "_view_name": "OutputView",
            "msg_id": "",
            "_dom_classes": [],
            "_model_name": "OutputModel",
            "outputs": [
              {
                "output_type": "display_data",
                "metadata": {
                  "tags": [],
                  "needs_background": "light"
                },
                "image/png": "iVBORw0KGgoAAAANSUhEUgAAAtsAAAE9CAYAAADaha6qAAAABHNCSVQICAgIfAhkiAAAAAlwSFlzAAALEgAACxIB0t1+/AAAADh0RVh0U29mdHdhcmUAbWF0cGxvdGxpYiB2ZXJzaW9uMy4yLjEsIGh0dHA6Ly9tYXRwbG90bGliLm9yZy+j8jraAAAgAElEQVR4nOy9eXhkd3Xm/55b2tUtqdWrem+vYLPYprHNsDmGZIAEk4WwDclAeHACgRCS8GDysMPEzg+Ihy0MJhAgw+4wwRAYQghLzICh29gGN5sXqVsttVQq1b4v5/fHvbeqVKrlLt/vvdWq83meftpdKvl7qqRuvffc97yHmBmCIAiCIAiCIKjHCLsAQRAEQRAEQdiqiNgWBEEQBEEQBE2I2BYEQRAEQRAETYjYFgRBEARBEARNiNgWBEEQBEEQBE2I2BYEQRAEQRAETQyFXYBbdu3axUePHg27jK4sFBYAAEfGjmz5s7f6eWGdG+b3UD/UsVX/Dp08eXKNmXcr/x/3MefDv9nCALBg/r3GkXD/TRXOP1T8u33eie2jR4/ixIkTYZfRlRt/eSMA4LZLbtvyZ2/188I6N8zvoX6oY6v+HSKiBeX/0z7nfPg3WxgA3vAG8/ebbw63DuG8Q8W/2+ed2BYEQRAEQXCFiGwhRMSzLQiCIAiCIAiaELEtCIIgCMLW5qUvNX8JQgiIjUQQBEEQhK3NoUNhVyAMMCK2BUEQBEHY2rz97WFXIAwwYiMRBEEQBEEQBE2I2BYEQRAEYWvz4hebvwQhBLSJbSL6GBGtEtFPO3yciOh9RPQAEd1HRFfpqkUQBEEQhAHm0kvNX4IQAjo92x8H8AEAn+zw8WcCuNj6dQ2AD1m/C4IgCIIgqONNbwq7AmGA0dbZZubvAljv8pTnAPgkm/wAwAwRzemqR1DHj0/HkciVwi5DEARBEASh7wnTs30AwJmmPy9aj22CiG4kohNEdCIajQZSnNCeYqWK53/4B/jUXafDLkUQBEEQnPGCF5i/BCEEzovoP2a+DcBtAHD8+HEOuZyBZiVZRKlaQ65UCbsUQRAEQXDGFVeEXYEwwIQpts8CaE6ZP2g9JvQxS8k8AKBaC7kQQRC0QURjAL4LYBTmz4nbmfktRPRxAE8FkLSe+hJmviecKgXBBTfdFHYFwgATpti+A8CriOizMAcjk8y8HGI9ggOWLbFdY7nBIAhbmCKA65k5Q0TDAO4koq9ZH3sdM98eYm2CIAjnFdrENhF9BsB1AHYR0SKAtwAYBgBm/l8AvgrgWQAeAJAD8FJdtQjqWEoUAADV2tYX2+VqDd84tYJnPmpf2KUIQqAwMwPIWH8ctn5t/b/0wtbl937P/P2f/zncOoSBRJvYZuYX9vg4A/hTXecLejiXHByx/c2freCVn7obX3vNk8MuRRACh4giAE4CuAjAB5n5LiJ6BYD/QURvBvBNADcxc7HN594I4EYAOHz4cIBVC0IHnvCEsCsQBhjZICm4YpBsJItx87UWytWQKxGE4GHmKjNfAXOe5moiehSANwB4BIDHA5gF8PoOn3sbMx9n5uO7d+8OrGZB6Mhf/ZX5SxBCQMT2FuAPPnoXvnDiTO8nKmCQbCT2ax2ECwtB6AQzJwB8C8AzmHnZ2o1QBPCPAK4OtzpBEIT+R8T2eU6xUsV//moN9y+lAjlvkDrbjdcaciGCEDBEtJuIZqz/Hgfw6wB+bi8eIyIC8NsAfhpelYLgghtuMH8JQgicFznbQmdWU6ZdMgjxmy9VEc+VzfMGIPpvaYD86f3CHfcu4ckX7Qq7DAGYA/AJy7dtAPg8M3+FiP6DiHYDIAD3APiTMIsUBMc87WlhVyAMMCK2z3NWUsEJQrvTCwDVQehsJ6zOtojtQFhNF/Bnn/kx3v6cy4GdYVcz2DDzfQCubPP49SGUIwj+ec1rwq5AGGDERnKesxJgZ3vZ6vQCW1+Alio1RDPmezsIFxb9gH2XplQZgNsmgiAIwsAgne3znCA720tWpzdi0JYXoCupAuyXWK2xedNc0Eo0bV3cbPELOUEQguHTd53Gl+4xF1Pf9P6/AADc8uq/c/z5z7niAF50jURXCv4RsX2e0xDb+s+yO9v7psa2vCDa0MVnEdtBUBfbW/xCThCEYPjSPWdx72ICc9Pj+M4l1wAAVtObYuHbYtsmRWwLKhCxrYgfn44jXajgKZcEmylri+1gbCR57JwcwfhIJNA0ks/96DSeeske7JseC+zMDf70GsRwFQC2bWerW5QEQQiOuelxvPzJFwBPNjvbL3f4eR/5z4f0FSUMHCIhFPG+b/4Kt3zt54Gfa3u2g7GRFDA3M4YIUWCd7bVMEa//55/gjnvPBnKejZ2xDYitISgaNpKQCxEEQRAEhYjYVkQ8V0YlhDy8uo0koM723PQ4DIMCE0S2T7xcDVbwNne2ByFTvJlKtQYO4TWLjUQQBF1c/6oX4fpXvSjsMoQBRcS2IhK5Uigd0LqNJIjov0QB+6fHEDGCE6D1LY4Bv7dLiQKGI6ZRe9A62y/6yF14yx33B36uLbbFRiIIgmoWnv5sLDz92WGXIQwo4tlWRCJfxo6JkUDPzBQryJaqAPQLwnShjHSxgrmZcUTOJAIT2+esDnPQ3c5zqTz2z4xjIZYbqM72/UtJ/HB+HdvHgv+nQaIWBUHQxYO//cKwSxAGGOlsK6BWYyTz5cA7oOdaEzM0YqdzzE2PgQL0bNvnBt3tXE4UcHDHOIDB6mx/4cQigHAE72qAd2kEQRAEIShEbCsgXaiAOXhRZosTQP/Ztnd6/8w4IgYFZyNJBudJtymUq4hlSzg4M2GePSDir1Sp1TNpg37N2QDv0giCMHg87RXPx9Ne8fywyxAGFLGRKCCRLwEIfpDunCW2p8aGoHt+sLmzHWQaib0yPciECvuOgd3ZHhQbyX/8fBXxXBnDkeAupmzWMo3sW7GRCIKgmod+87lhlyAMMCK2FZDIlQEAlYA7cnbs3/6Zce233pcTeRABe6fGYBhAUMErtsivBpj0smT5xA/O2jaSwI4OldtPnsHeqVEc3DEReHc52rRoQmwkgiCo5uHf+v2wSxAGGLGRKCCRN8V20CJhJVXA9tEhbB8b0m8jSRawZ/sohiNGYOvaqzWud++DFLzLCbuzbdlIBqDTGk0X8a1fRPE7Vx40O9sBX2A0i+1BeL8FQQgWqpRBlXLYZQgDiohtBSRypo0kaJGwkipgz9QoDNIvfu2MbQDmeQFcWETTxfo5Qdoa7IztAzOWjSSgi6jVdAHv/MopVEJopX/pnrOo1hjPfdzBwC6mmrGTSCIBZrg3E8sU8fYvn0J5UG5jCMKAcf2rX4zrX/3isMsQBhQR2wpIWp3toG+9r6QK2Ds1Zg4saj77oWgWR3eand6gBiSXNqxMD+69XUoWMDs5gomRSKBnf/3+FfzDnQ9jPpYL5Lxmfnw6gaM7J3DRnm2BXUw1E00XETEIs5MjodhIvnFqBR/73sP41Uom8LMFQdDPgzc8Hw/eIAOSQjiIZ1sB8WxYNpIirjk2i2imqLUTuZ4tYTlZwGX7pwAgsAHJ5eaV6UF2thN5zE2PwTDMpTZBddXtYdAwBjKXknkcsAZCze5y8GJ75+QIhkLoqgPAYjy8914QBP3MP/N3wy5BGGCks60AO40kSJFQqzFW0wXsmRqDQXo726eWUgCAy/dPA4C1rj2Y9fAAMDZsBHohs5wsYG56HBEKdoNkYxg0eMG3nCjUbUJBps3YRNNF7N4+CiOAuzTtWIybdxMkdlAQtiaRQh6RQr73EwVBAyK2FZDM2Z3t4M6M50ooVxl7p0a1e2xPLScBAI+cMzvbBgFBXFcsJQqYGIlgx8RIsDaSRB77Z0x7DhDcRdRSPeYwWMFXqdawmi5g//QYAPNiKugO76oltsPwiwONzrYMZwrC1uS6174E1732JWGXIQwoYiNRgJ1GEuQPajv2b5/V2dY513VqKYW56THMTprr6IMSROZQ5hgK5Vpg7222WEGqUMHc9DgMq7Md1Je1vi0z6EHbdBE1BuasgdChkGwkj9i3HadjuVC6y3UbiXS2BWFL8qvfleFIITxEbCugnkYS4A/qFSsSb8/UGCKGXpFwajmFy6yuNgDtthWbJcvOcXo9F5gIsq0rGzrbAZxdq3F9mU7QYtP2is81dbaDtkStZZpsJAFfbBQrVaykw7PwCIKgn9O//uywSxAGGLGRKMDubAPBdcZssa3bRlIoV/FgNIvL9zfEdmCdbWtQ0TxP+3EATOsKAKuzbT4WhACLZUsoWbcnghZ8S5bI3z/T8GwH2eFN5Muo1Ni0kYTgF19KFOp3L0RsC8LWZDiTwnAmFXYZwoAiYlsBtmcbCM5KYttI9mzXOyD5i3NpVGtcTyIBghmgK1VqiGaKmJsxRW/Qne256TEQkXl2QJYZm7A720H7pu2FNnZnO+ioa3s4EhDPtiBsVZ7yupfjKa97edhlCAOK2Eh8wsxI5Mv1uLSghNK5VAE7J0cwMqR3o+OpZbMTcNncdP2xIBIjVlJmt3G/3dkO6H1dShRABOxrFp5BWGZCijkETK+4uYl0GIBtEwrufFts79luWaKYA+0C2H5twLrQoQAPFwQhEH7xvJeEXYIwwIjY9kmmWEHVugXevPFQN6spM/YP0NtpPrWUwvbRIRy0Mpjr52nfWGnZOWbGETGMwATocjKP3dvMtfQAAtnOaZ9rE/Sq9KVEHnMzY/U/R4xgu+vRjPm1braRBPkPU3Nnu8YitgVhK7L4a88MuwRhgBEbiU8SloVkp5XUEZQoPJvIb4xq0ySO7l9K4pH7p+oLXuzzdN/qrw8qTo8FKv6Wk4V6KgeAQLZzAqgPRwLhdLbtjG3AfM2VIMV2i40k6AHJjZ3tQI8WBCEgRhPrGE2sh12GMKCI2PaJLbbtWLwghBkz42w8j0Oz1vp0Td3Xao3x83PpDUkkAOq3+nVSH1ScGQ90aG6p6SIGgPZYxfq5zWI74Nb2ctLMFbcxKFjBG00XMT4cweRIJJQByTPrOcxMmBaaoN97QRCC4UlveAWe9IZXhF2GMKCIjcQn9vZIW2wHIRRS+QrSxUrd2qGr07wQyyJXqm4YjgSstArtNpI8to8NYdvoUGDdTmbGcrKAp1yyu/5YYAOSiTy2jQ5ZtiQEdhlcrFSxlilt6mwHKXjthTZEFNh20mYW43kcmZ1AIpeUzrYgbFF+/iIZjhTCQzrbPgnDRnLG8pjaYltXp7kxHLlRbFMA3celRAH7A14fnspXkCtV6+cCwQnP5WSh/vUMNK89aVo45qabPdvBRv/Zq9oBc6FOkF31QrmK1XQRR3ZOApA0kmaIaIyIfkhE9xLR/UT0NuvxY0R0FxE9QESfI6KRsGsVhF6cffLTcfbJTw+7DGFAEbHtEztje3bSFAtB3IVerIvtJhuJBnF0aimFIYNw8d5tGx4PQowtJxtDe0F1O5fs2L+ZjcJTtwCr1hjnUoX61zNIsblUX+IT7ABsM9F0Ebu2NW0nDVDoL1mxh0d2Wu+95Gw3UwRwPTM/FsAVAJ5BRNcC+FsAtzLzRQDiAF4WYo2C4Iix2CrGYqthlyEMKCK2fZK0tkfObguus20PdNmdUNKUs302kceBHeMYHYpseFy3AGVmnF7P4VDTxUSQWdfNloogtmXaKTb21zPI4cTmXHGboAVvNFPEnu3WhRUFt8AIaPxdsjvbQb73/Q6bZKw/Dlu/GMD1AG63Hv8EgN8OoTxBcMUT3/hqPPGNrw67DGFAEc+2TxK5MiZGIhgbMq9bguiMLcZNf+/0uDnUpUv8RtNF7N42uulx3TnMiVwZ6UKl3m2MGIRiJbis6/2tnW3dlpnkxounILurzRszbYJMBClWqkjkythj2UiCtrA0xLZ0tttBRBEAJwFcBOCDAB4EkGDmivWURQAHQipPEBxz6g9lOFIIDxHbPknky5gZH0bEisYLoiO4GM/h4I5xEJln6hKE0XQRF+3ZtunxiKG3g/9wLAsAOLbL7DYaAa1rX07mETGo3mUFgsnZXrYEr20jCbKrvJzMY8fEMMZHGncvgkwEiWXMO0O2Z9sIOI3kTDyHIYPqnX3xbG+EmasAriCiGQD/B8AjnHweEd0I4EYAOHz4sL4CBcEhy0+4LuwShAFGbCQ+SeRKmJ4YaYjtgGwktjAD9EW1RTONwbVmdIuxBUts27f2IwGta19OFLB3+2j9awkE508HgEOz1oBkgIJvObExYxuwO9umnUc3zRnbQDCxks0sxvPYPzOOEWuJUdBJKOcLzJwA8C0ATwAwQ0R2o+YggLNtnn8bMx9n5uO7d+9u/bAgBM7EyhImVpbCLkMYUERs+ySRMzvbhtVl1i3MmNkS282JGepFgn17v62NxND7WufXciBqiM/AVqYn8xsW2tTP1nz0UqKAiZEIdkwEl9VePztZ2ODXBsyLKSAY4bm6SWwH29lejOdwaHa8foEV9EKdfoaIdlsdbRDROIBfB/AzmKL7udbT/juAL4VToSA45wlvfS2e8NbXhl2GMKCIjcQniXwZl+zdhqGAOtuJXBmZpoxtwB4gVNuJXGu5vd9MXYxpeq0LsSz2TzcGM4NasrKcLODRB6Y3PGYE0FVfTuYxNz1WF3xBD0g+7sjMhsesJm8gHfbWznYQtp1mFuN5XH/pnsZ7H+R0Zv8zB+ATlm/bAPB5Zv4KEZ0C8FkieieAHwP4aJhFCoITfvpSGY4UwkOr2CaiZwB4L4AIgH9g5ltaPn4Y5jT7jPWcm5j5qzprUk0iV8b0+Ei926v7h3UjiaTJRlLvyqk7p1UENWNo9qfPx3I4uqvx+oLodtoLbf7r5fs2PB7MgGQB+2eC767mS+bdi3Y2EiCYGEv7+2znZPADkoVyFdF0EQd3jDf9HRKxbcPM9wG4ss3jDwG4OviKBME7K1c/KewShAFGm43E6oZ8EMAzAVwG4IVEdFnL094Is1tyJYAXAPh7XfXogJmRzJcwMzFc7/bq/mG92LLQBtBz298WQc3Dgja2ZUbXS52PZXHU8msDwQje9WwJpUptk6UimAFJq7MdoH0DaM7Y3viag7pLAwDRTAE7JoYxYqX5BJnxfS5pJbHMjAf+3guCECyTZ09j8uzpsMsQBhSdnu2rATzAzA8xcwnAZwE8p+U5DMBeTzgN4LyaXsiVqihXOdA0EruzfWi2XWdbvdhuayPRaDNI5EpI5Mqbxbb29fCbI/Dss3V2WkuVGqKZIuamx7XfMWhluU3sH9C4mAqijmi6uDH9xdAbK9lMLGtapXZuC3bAWRCE4Ln2na/Dte98XdhlCAOKThvJAQBnmv68COCalue8FcC/EdGrAUwCOK92qdrbI2cmhgO7Db0Yz2H7WCNjG4AWoV+/vb9t8yZmnWJsIWZ27u3cYyCYKDp7k2Brl9cW+pF2n6SAlVQBzNjg2Q68s93mAgMIZlCzeVU7EGzs4LottidHAn3NgiAEz09eLsORQniEnUbyQgAfZ+aDAJ4F4J+IaFNNRHQjEZ0gohPRaDTwIjuRsLZHTo+PNN2G1ntma+wfAC0WltV0AbOTIxiObP4W0SlM5q3Yv6O7Gp1tI5D4vc5dXp1Hn000PPi6B09beSiaxUjEaHuBEVQdqy1i2wjgLoZN3BLbs5ONv7+yQVIQtiarV12L1auuDbsMYUDRKbbPAjjU9Od2eawvA/B5AGDm7wMYA7Cr9X/Ur5mtyVxzZ9t8LAgbSbNfG9Az0NZpeySgV4wtxMzYv8OzLZ1tzQJsKZnHSMTAzsmNnXzdNpLGwOt44N3VB1YzOLprAkMtF1RBxlhu6mwbwb3+WJPY1h1nKQhCuGxfeBDbFx4MuwxhQNEptn8E4GIiOkZEIzAHIO9oec5pAE8DACJ6JEyx3T+t6x7Em8R2EAOSzIwz1vbIZiLWDhaVgrTTQhtArxibX8tibmoMY8MN44ZhkPY7BsuJAvZOj9ZFl41uW8Ni3Ly4mJtptpFoO24DD6ymcfGe7ZseD6qznS5WUKzUNlzURYgC6y6vZ4sYGzYwMWK66YKYDRAEIRyuvuWvcfUtfx12GcKAos2zzcwVInoVgK/DjPX7GDPfT0RvB3CCme8A8JcAPkJEr4U5LPkSDmJtnSISebMzNjM+gkyhAkBvZzueKyNXqm62kWjybB89Otn2YzrF2HwsW98c2ThPvxfezLoe3/S4oXk1/WI8j73bxzA6FKnnpAch+ArlKk6v53DDFQc2faxuqdAcY9luCDcIy5DNerZcjxwE7NSbQI4WBCFg7n2FDEcK4aE1Z9vKzP5qy2NvbvrvUwCeqLMGnSSaOttLySYBSt0+yzvtYv8A9Wkk9u39PR062zpj0hZiOfzG5Xs3nafbnnM2nsfVx2Y3PR4xCJWyPgV2Zj1X35RJRDAIqAYQx/HwWhY1Bi7as23Tx4Ia9m0ntoOM/lvPFrFjsmnQmCiQ914QhOBZe8zxsEsQBpiwByTPa9YyRWwbHcLYcKRhIwnA33uow4CkKkFav73fyUaiaelJqlBGLFvaEPtnn6fzfV1NF7CULODy/dObPqY7Z7t14HXIMALprj6wmgEAXNxGbEcCmj9oZLm3dpeDSyOZlc62IAwE0w/+AtMP/iLsMoQBRda1+6B5uGuDlUNTTpzd2T7QobOtSqR0y9gGGmJMdefzdD32r8VGolnw3r2QAABcdWTHpo/pHJCsVGs4lypsuFNhBGCZAUyxbRBwbNdmq1DEmvYNo7NtGBTYFsdYtoQLdjcuNgySDZKCsFU5/m7zpvo3P/S5kCsRBhER2z5oTuwIYtX2UqKAbaMbM7YB9dF/qylLBHVIIzE0RdQ9vGbH/m32pOvsdt59Oo6RiIFHHZja9DGdne3lZAHVGm/aBhpEZ/eB1QwOzU5sGERtrgHQP6i5mi5iOEIbM+MDzNmOZ0vYMdFInwmyqy4IQrD8+NUyHCmEh4htH0QzRTxynynQbLGtM0khmmnvo1Y9IBnNdO9s60ojWbAytptj/wD93c6TC3E8+uA0Roc2C0+D9FkLGrF/G7eBBiW221lIgGBtJLu3jYKoMeRgfq0BBoN0DT/AHBDNlqobljZFDEPSSARhi7J+2WPDLkEYYMSz7YNmG0kQK66j6SJ2tRHAqgfaettI9HS252M57J0arUex1c/T2O0sVqr4yWISj2tjIQH05j7btqBmD34Q3dVKtYaH1jK4sIPYNgKIsQTax0vaXXVo1rzrTRnb9bMNoKo5gUUQhHCY+eX9mPnl/WGXIQwoIrY9UihXkS5UNnm2dQqUTgkhqm/7R9NFjESMTXYVG10XFgux7KbhSMDyTTOgIxXyp2dTKFVruOpwJ7Gtz0ZyJp6HQcC+6cYGx6EAsp5Pr+dQrjIu2t2psx3M2vjWhTbm2ebvuiWvLbY32EgCTEIRBCFYHnfr2/G4W98edhnCgCI2Eo+0dn+D8Lm2EyeA+tv+9jnNt/c3nqcnjeThtRyuf8TmDaE6xd/dC3EAwFVHZtp+3CB9A5KL8Rz2TY1hZKhxzavzPJt6EsnezQttgKaB2wAGJK84tPF9b10qpAtbbDfbSILM+BYEIVhOvvbNvZ8kCJoQse2R1Raxba9r1/XDOleqIFOstBXbqm/7RzPt7So2dXGvUIxlihWsZYo42jYdQ5/4O7kQx6HZcezZPtb24zo7262xf/XzNAu+X1li+8LdHZYWBWCJqtYY69nONhJmaMurBzrZSKSzLQhblcQll4ddgjDAiI3EI/XOdksaia4f1mvp0obzmlHd+V1NFTomkQB6bCT2cGQ7G0ljIFPZcQBMW8rJ03E8roOFBNDrFz8bz29eUBRAGseDqxnMTY9h+1h7m1AQNpJYpogab54LsM9mzUaSutiWNBJBGAhmT92L2VP3hl2GMKCI2PaIndixZ5ONRM8P62imAKD90KLq2/5rbQbXmtHhT1+oZ2xPbPqYjk46YHaWo+lix+FIQJ+1oFytYTm5WWwH0V19IJppuznSRlfaTDOr6fbxkkaAA5IRI7zYQUEQguXK9/8Nrnz/34RdhjCgiI3EI9F0EUSN29C6V1x3SwhRub2yUq0hli11F9saLizmHXS2VQuhu0/bfu0enW0NX9NzyQJqDBxsiTkc0txdrdUYD6xm8Lzjhzo+Zyii37PdKV6y0dnWSyxbwo6J4Q0ecelsC8LW5cRfyXCkEB4itj0STRexc3IEQ1bbVXtnu5vYVnjbfz1bAre5vd8MaYiGm1/LYvf2UUyObv6WbAxkqn1vTy7EMTkSwaUdBgUBO/da6bEAgDPrZid/k41Ec6b4cqqAXKmKi/f27mxXa6zNN91uVTvQuGjVLXlbF9oA1nAqs9zuE4QtSPLCS8MuQRhg5OeKR6LpInY13QJXvTK9ldV0EQYBOyc7D0iq6ER2ur3fjI40kvlYDkfbWEiaz1Pdaf3lShqPmJuqXzC1P1vP3Qp7oc2h1gFJzVaG07ZdZ7b9cCQQXIwl0KazHaCNpHk4EjA7+tLZFoStya77TmDXfSfCLkMYUERse6R1IYdugRJNF7Fz22j9nGZUit9e2yPN88zfVYrfhVgWR9pYSAB9HuIz63kcaukst6JL/C7Gc5sytgH9GyRX06b3f9+0E5uQtjIQTRexfWxo07r4Rs62XtEbyxY3xP4B5veZzg2wgiCEx2M/9C489kPvCrsMYUARG4lH1tLFDUtBhgy9AsVebd0OleI3mmp/e7+ZDeJXweVarlTBSqoYaGe7Uq3hXKqwKXqvFV0DkovxPOamxzHc0lW3Pdu6roJXUqbY3jvVPuoQaMRY6t6G2u772WiO/tNIPFfeZCOJaLbwCIIQHj+8SYYjhfAQse0BZt60YKbhc9Wjttuttm49W4X4XUrmQdRdjG3wiCtQhact/3K7jG1Ajx9+OVlAtcY4NOugs63JRtLq1waszjYD7UP5/LOSKmJiJIJtbbzxNkHYSFZShbbfY+3u3KimWmPEcyXsbLGRSBqJIPQfn77rNL50z1lPn3tqOVW3e6aPXKiyLEFwhYhtDyTzZZSqtbY2Ep2d7Us6DPKpFL/LiQJ2bRvdsNWwFZUeccAcjgTaJ5EATUkvCt9b2zPdq7OtK6FiMZ7DEy7ctfk80hu5d84SuZ22g5o1mHccVlEAACAASURBVB/TaalYSRfa5psHkUaSyJlDwK2ebcNQn+UuCII/vnTPWdy7mMDcdPfGSDt2bRvFYw+aW2r33P0DAMDqVdcqrU8QnCBi2wPthrvshpyOLmitxl2zr1WK36VkHnPTnbvagPp0kHlraO9wRxuJ+XtFoRJajLdPA2nFMEi5paFQrmI5VWjbVY8YpPR1trKaKmDvVGeLENB8caNH8jIzVlLFtp3tho1En9yO58yFNjtaByQNA/lqVdu5giB4Y256HC9/8gW+/h+P/sitAIBvfuhzKkoSBFeI2PZA6/ZIwIzDMzR1JZP5MspV7uijVil+l5OFjmu8W89TdWGxEMti5+QIpjpuNDTVtkpbw2LctMv06pbosJEsxnNgBo61sc0YRFq7qyupIq48PNP1OUOak3USuTJKlVpoNpJYxhTbrck+hiEDkoKwVfnBG2U4UggPSSPxQLeFHDo626tdMrbtcwH/4peZsZzI9xSgqpfMzK/l2m6OtNGRjnEmnsO+qbGudhlATzrI/Jq9LXOz2B6K6Nsgycx1G0k3VNuEWllJdx7SDGJAsr6qfZNnW6+F53yCiA4R0beI6BQR3U9Er7EefysRnSWie6xfzwq7VkFwQvbAYWQPHA67DGFAkc62BzplBJtdSfU/rNt10lvPBfyL31Shgmypiv0zvcSY+bsqQbQQy+LaC3d2/HhEQzrGYjy/KeO67dlNtoZuPmc3NLZlbj7f0Dikl8x37ig3o2uJkM2KlXjTzs4ShGd7PddBbMsGyWYqAP6Sme8mou0AThLRN6yP3crM7w6xNkFwzd4f3gkAWLn6SSFXIgwi0tn2QDRdxMiQgamxjdcqun5YRzNmJ7BXZ9uvzWI5aQ4N9rRWKLQZFMpVLCULHYcjgaa0FYXtzrMd0kBaaeQ+q2M+lsX0+DBmWqLnzPP0xc91E7mtNQAaO9vJzp3tLvuFlLGesT3bG21L9gbJrQYRvYaIpsjko0R0NxH9RrfPYeZlZr7b+u80gJ8BOBBEvYKgg0f94/vxqH98f9hlCAOKiG0PRNNF7Nk+uqnTqSsmrtuqdvtcwL/NYjlhiqDenW11YsyO/etqI1HsIS5Xa1hOOhPbqrrZzSzEcl1jDitVPYLvnIOMbUDfEiEbO+t7TxvRH8SAZCxbwvbRIYwObVyos4U3SP4RM6cA/AaAHQD+AMAtTj+ZiI4CuBLAXdZDryKi+4joY0S0OVJGEPqQ77/1Vnz/rbeGXYYwoIjY9kCnzGtdC1Ci6SLGho2O2cj2EhK/Zy+57GyreK29Yv+ARjqGqguZc8kCatw79g9osjUo/LLOx7JdF/jo62xb2yMd2kh0Cc+VdAE7JoY3id3ms3VK3niutCmJBNBr4QkZ+4rxWQD+iZnvb3qs+ycSbQPwzwD+3BLsHwJwIYArACwDeE+Hz7uRiE4Q0YloNOq3fkHwTW7vfuT27g+7DGFAEbHtgdVU++13ugYkzU5652xkVbf9lxMFGNR9e6TK84BG3vWh2d4DkqouZM6sO4v9az5b1frwUqWGs/F8x9X0On3Dq6nudqR6DZpzts8l28f+NZ+tU22vZ0ub/NqAvr+/fcBJIvo3mGL765YHu+d9MCIahim0P8XMXwQAZl5h5ioz1wB8BMDV7T6XmW9j5uPMfHz37t3KXoggeGXu+9/G3Pe/HXYZwoAiA5IeiGaKOH50891TszOm57xuAknVhsWlZB57p8Yw1MM4q9JmkMiVYBAwM955Z6LqTqsTgW9jGGrF35l4DjVuPxxpn6dL8J1LFTAzMYyx4c0d5Y01mL/r6rCvpjsnohgBdLZjmVLbLPktvEHyZTA70Q8xc46IdgJ4abdPIPPK/qMAfsbMf9f0+BwzL1t//B0AP9VUsyAo5bJPfggAsPyE68ItRBhIRGy7pFytYT1bait+hwzSsq49mi7igl3bOn7cUDUgmSj0XGgDqBW/8VwZ0+PDDVHbBtVRdIvxHAwC9jl5rYobrQtWEknHzramRBvAHJDsZSEB9G9DXUkV8Ih93behqrqT0I54roTL9k+1PXsrRf8R0VUtD13gYgbhiTC93T8honusx/4awAuJ6AqYfyXmAfyxglIFQTvfe6cMRwrhIWLbJfZCjHZi27QAqD9zNV3ENce6ROMp6myfSxXaipCO5ynQJYl8uW0qx4bzFK9rX4ybWeLDDqIvVHuI7Yztdgtt7PN02TdWUwXscSG2dXS2K9UaounONhJDs42kWmOsWgPOreh870OirZ/aggFc3/GDzHeiva/7q36LEoQwKOzcE3YJwgAjYtsl3TKvDUO9QClWqkjkyl1tJIaCTjMzYymRx9Mf2fsfJFUDmYBpI5nuYiEBmnK2lXW28zjgwK8NqLeRzMey2D42hB0TnbZl6uuunksVcMne9h3lDTUoXlrUTCxbQo07J6LoHpCMpouo1hhzM5u//obG4dQwYOZfC7sGQegXDvznvwMAzj756SFXIgwiIrZdYid2tM0I1uD57NZJr5+roBMZz5VRrNR6JpGoOs8mmS+3HVZrZoNHXMFI72I813WJTjOqByTnYzkc3TnZedhVU3xktcaIpovOrDMa00hWesQPNpYIKT8aQOPv7/7B8myDiB4F4DIA9RfOzJ8MryJBCJZHfPojAERsC+EgYtslD6xmAAAX7N5sA9Ax3NZreySgJmd7KWGJkB4Z24BaD3UiV8YFHSwVNrb4qygQ26VKDcupgqPYP6BpYE/htsxHH5juep4OK1IsU0SN4chGQkQg0mMjOVdfaNNhG6rmfCQ7S77dReVW3SBJRG8BcB1Msf1VAM8EcCcAEdvCwHDnzR8KuwRhgJHoP5c8uJrBvqkxbB/bbAPQMdzWa6ENoCY9YjnZWYRsOk9xGolTz7YKIbSczIMZOOTQRhJxPlDWk3K1hsV4vmumeMSAliHb+kKbHrF/9To0dXlXrO/nToOaugck7S2p7S4qzYxzLceGzXMBPA3AOWZ+KYDHAuh8xScIW5DizCyKM7NhlyEMKCK2XfKr1Qwu3ts+GURHZyyaMcVJu2179XMVeGzrq9oddLZVpVVUa4xUoeLAs63OtmLH/jntbKv0EJ+N51GtccftkYBGkWutandiIwH0RRCupsws950d7tRot5EkChgfjrT9njMHJDVFsIRL3srFrhDRFIBVAIdCrkkQAuXgt76Gg9/6WthlCAOKiG0X1GqMB6MZXLi7vdg2SP2Ald3Z3jnZ27PtR6QtJQoYjhB2dTnHxp4Z9CvGUvkyAGCmw7CgjcqBvcW484U2QPOApP+zH47Z2zK7raY3tHRXe3mlN9VBhKqGtfHnkgXs3j5a/55tpVsEpAqWk3nMzbRfEGUQKUu86TNOENEMzCU0JwHcDeD74ZYkCMFy6ec/jks///GwyxAGFPFsu2A5VUCuVO3Z2VZ5BbNqrbYeGer8f1XhsV1O5rFvesyR2CEiGOTfRpJwKLZV5YgDDbuM0w5vY0DSPwtr3TO2AdtGomcw0SBgZ49h1EYdejrbK11i/wC173c7lpIF7O9glYoY6hJv+glmfqX1n/+LiP4vgClmvi/MmgQhaL77ro+EXYIwwEhn2wW/WkkDAC7q1Nk2SEn2dDPRdPftkTZ+7QfmQhtn3V5AjRiL58yklZnxHp5thZ3teNaMGnSSsQ00YgdVaLD5WA6TIxHs2tb59eqyb6ykzI5yr+2g9ToUXEy1YzXVeXsk0GTb0SR6lxP5joubtmoaCRHdQUQvIqJJZp4XoS0MIuVtUyhv671HQhB0IGLbBXYSyUV7OnS2NQgUp2Lbr0hbSubbxqF1PE/BMGgyZ3a2p3vZSBQOSK7nyh0zrtthKByQXIhlcbhL7B+g17Pt1EICAEMRQ4voP5cqdEwiAfTaSEqVGqKZYtuMbcC08AD6hH6IvAfAkwCcIqLbiei5ROT8m0EQtgCHv/FlHP7Gl8MuQxhQRGy74MFoBrOTI52HuzQNSHaL/auf7UP81mqMlVShowhpe56C15rIm53tHT3SSFTaSJyknzSjckByLVPCvi5CEwCGNMXPraQK2LPd3cWU6gjCQtlc0LS3Sx06ByRX0wUwt8/YBpruYqg/OlSY+TuWleQCAB8G8DyYQ5KCMDBc/MX/jYu/+L/DLkMYUMSz7YJfrWQ6WkgAW6Co+1HNbC4icbpi26s4WssUUa6yq862iuUrCauzPdMrjURBjrhNPFdyJzoV2hrWsyVc3OGuSLvzunXA3bKSKuD40R2Onx8x9NylAYC9Xb7PDI2Ctx5v2eGiUvdwZpgQ0TiAZwN4PoCrAHwi3IoEIVi+fevHwy5BGGCks+0QZsavVjO4sItYGoqo9dtmihUUyjVHnW3Dx4DkYn2hjfPONpH/7qMttqd6iG1D4br2eLbccyCzGZU5244yxTUMCJarNcRzZezeFuzFVCtOElFUvt+t1Bc3dfFsA/piB8OCiD4P4GcArgfwAQAXMvOrw61KEIKlOjaO6pjzn3GCoBKtYpuInkFEvyCiB4jopg7PeR4RnSKi+4no0zrr8cNapoRkvty1M6m6s+1koY2NH1vHQqx3SobK82yS+TKmxoY6xsDVz1K4RCeeK/W0rWw4W5GNpFSpIVuq9vSL6+iuxrOmXWdnl8HMdnWo7mzXF+t0sdIMafRN9+ps616oEwZEZAC4B6bA/hNm/paVuS0IA8XRr30RR7/2xbDLEAYUbWKbiCIAPghzNfBlAF5IRJe1POdiAG8A8ERmvhzAn+uqxy+9hiMBewNdiGLb49nzazkYBByaDTaNxKl/WtWAZKFcRc6B4G3GUNTtTFjJKzt6RO810jj8nddMzBLbsw5j/+w6VHe27VXpnbZHAnrXtS8n8tg+NoRto+3dczre+7CxhPXvM3M17FoEIUwuvONzuPCOz4VdhjCg6PRsXw3gAWZ+CACI6LMAngPgVNNzXg7gg8wcBwBm7tuhnQeiDsS24s72qgux7ScdZD6Wxf6ZcYwORRx/joo0kkTemaXDUCS2bdtKL8HbTK+uu1PWc86GQYc2dFcVne1FbBOhorizfd/ZJOamx7peYOkUvN0ytpvP3oJ8k4h+D8AXeQtGrQiCE/7j/TIcKYSHThvJAQBnmv68aD3WzCUALiGi7xHRD4joGRrr8cUDK2lMjkQ6ZvQCVvyeDhuJkzQSH2fPx3I46sJC4vc8m0Su3HNVO9AQoKpyvd3YSBoLJH2enbWEfi8bie1ZViiJbLHtdKENoMdGcvdCHFcd6T6kaWhcamNvj+x59taTo38M4AsASkSUIqI0EaXCLkoQgoSHhsFDzu9qCoJKwh6QHAJwMYDrALwQwEestcIbIKIbiegEEZ2IRqMBl2jyQDSDi/Zs65mRrNRGkiliOELOur8+BtoWYlkc6bJCXPV5Nk5tJAap6WzXl+i4sZEo8my7tpH4PK8ZW2y76ugrvkuznMzjbCKPxx3uLrYb3WUNnu0ei5u2omcbAJh5OzMbzDzMzFPWn2W7hzBQHPvKF3DsK18IuwxhQNEpts8CONT054PWY80sAriDmcvM/DCAX8IU3xtg5tuY+TgzH9+9e7e2grvxq5XuSSSA+pztaNrM2HYSARfx2IlM5EpI5MqeOttKbCQOOtu2CPJ9nmUjcWunUIFTG4mhybNN5K6jr3r+4O6FBADgcT0627oSQQrlKmLZUtd4y61qIyGTFxPRm6w/HyKiq8OuSxCC5IJ/vR0X/OvtYZchDCg6Pds/AnAxER2DKbJfAOBFLc/5F5gd7X8kol0wbSUPaazJE+lCGavpYle/NmDdelcoEpxujwTsgTb3ZyzEcgDgurPt9TybWo2RdOjZruds+1Rg9Q6vlzQSRTGHvV7vkIbuajxbwsz4sCsxaV84qroav/t0HGPDBi7b372hqupOQivneiSRAFs3+g/A3wOowYz+eweADMzh9ceHWZQgBMk3PyTDkUJ4aOtsM3MFwKsAfB1mxuvnmfl+Ino7Ed1gPe3rAGJEdArAtwC8jpljumryiu2d7ubXBsx17co72w7FNnlcFT9vxf4d2+Wus234XE2fLlTADEeebUNZZ9uDjYTU2Bri2RLGhyMYG+4+hKojZ3o9W3JlIQGs+QOFovPkQhyPOTCD4Ujvf3IiBilX20vJ7hnb9XOx9TZIAriGmf8UQAEArIF0d98QgiAIgme0bpBk5q8C+GrLY29u+m8G8BfWr75lLWMPmHUXvsoHJDNFPPbQtKPnevXYzq/lQAQcmnXf2fZjM3C6qr35PP8DkmVMjkRcpa6o6mzHc2VH9hU9NpKiq+FIwLxwVDUgWShXcf9SEi970gUOzyblgteOHezW2TYa07CKTw+dshXFygBARLthdroFYWC48F8+AwB48LdfGHIlwiAS9oDkeUEsY3a2d/VIBVE5IFmtMWKZoqMkEsC7GF2IZTE3Ndaz49qK3wU+Tm0VNubFhOfjAFh2ChcWEsBcWw7473bGcyVnlhkN68rjWWdCf2Md6i4cf3I2iXKVe/q1bQxD/ZDistXZ7nZ3Ssf2zj7hfQD+D4A9RPQ/ANwJ4OZwSxKEYDny71/GkX//cthlCAOK1s72VmHN8vru6rGBL2KoyyaOZYuosbOMbaCRe+1OMps2EjebIzecx949vYm8O7FtGN7X0dvEcyXsmHQX/WQosnU43VzZiP5TJ/li2RKuOrIp5KdnHaqW2pxciAMArjrsrIYI6bCRFDA7OdL1onIrLrUBAGb+FBGdBPA0mOHtv83MPwu5LEEIlP/4QN8uqBYGAOlsO8DubDuJbVN1693N9kj7bG+d7RyO7nJnIamf56uzbV7ATI87tJEoiKKL58quhiMBtQOSTnzT9XXl/o6rU6sx4rlSqJ3tkwtxHNs1iZ0O79IYhnobyelYDvu7ZGwDW9ezTUT/xMw/Z+YPMvMHmPlnRPRPYdclCIIwKIjYdsBapoiZieGew10qV1y7Fdte/OKpQhmxbMl17F/9PB8vNem6s61CbDvrLm84l9Skg6xnS47WxNdtJIoUX6pQRrXGmO0xb7C5DjVim5nNZTY98rVbz1bZXS6Uq/jR/DqOH5ntca66M/uMy5v/YPm3HxdSLYIQChff/klcfPsnwy5DGFB6/nghokuI6JtE9FPrz48hojfqL61/iGVKPf3agH8fczO22N6zvXs3ziZC7gXawpod++debPsdoLM9207SSAA1uc9xh4K39Vy/VGuMVKHsaoGPKhqr2t3bZ1TMHyzEcohlS4792oDtnVantn/wUAzFSg3XXdo9o7+xQXJr9LaJ6A1ElAbwmKbNkWkAqwC+FHJ5ghAoB+78dxy489/DLkMYUJx4tj8C4HUAPgwAzHwfEX0awDt1FtZPxDIlR2kOSm0kDocym892K/Tt2L8wbCTxXAnbRoccRcEB/m0klWoNqULFw4CkfxtJMl8GMzDrqLOt1srQENvuOttDijrb9vfYpfu6Z9Q3o9pG8p1fRjE6ZODaC3Z2fZ5qC0/YMPPNAG4mopuZ+Q1h1yMIYfLt/yldbSE8nIjtCWb+YcsWw4qmevqStUwRj5zrvd1YtY1k++gQxkecjTx6GWhbsITQYZexf17PayaZKzvuagP+bST2QKZb77KhIKEi7nBVO9Ac/adq0NaOrfSQs61AbDfsQu62dqpsLn/nl1Fcc8HOnok7hmILT7/AzG8gogMAjqDp33xm/m54VQmCIAwOTsT2GhFdiEZG63MBLGutqs9YyxR7JpEAdiKImjPdLLQBTKFfqrg7fD6Ww96pUUyMuA+l8XJeMwmH2yNt/HZavSy0AZpsJD4UWDxrn+1kQFJtZ9s+2+1SG1UxlvWIRxcXVhGFne0z6zk8FM3ixdcc6X2uhoVC/QAR3QJzg+8pAFXrYQbQUWwT0SEAnwSw13rubcz8XiKaBfA5AEcBzAN4nrUkRxD6mks/9zEAwC+e/0chVyIMIk5U1p8CuA3AI4joLICHAbxYa1V9RKli2g+cJClEDP8rxW1W00Xscim23Z49v5b1NBzp9bxmEg5zp238dtLjluhznUaipLNtn+18Nb0qtem1s61qQNKtNx+wOsyKXv+3fxkFADy1h18baLYMbbHWNvA7AC5l5qKLz6kA+EtmvpuItgM4SUTfAPASAN9k5luI6CYANwF4vfKKBUExe3/0PQAitoVw6Cm2mfkhAE8nokkABjOn9ZfVP9ie150OOtsq4uls1tJFPHJ/b+uKjZ2z7Yb5WA5Pe8Qet6UBAIgIfl5qIl/G3HTnbX6t+PXDN7zLbu0U5u9KbCROBiQ1eLYnRnqviW9Xh4pv5XiuhO1jQxhyEfVhbpBU8w585xdRHNwxjgt29b6oVP3e9xEPARgG4FhsM/MyrDuYzJwmop8BOADgOQCus572CQDfhoht4Tzgu+/+aNglCANMT7FNRH/R8mcASAI4ycz3aKqrb1hzMajY7Lcln7eko+kinuJwOBJw32kuV2tYyxQx1yN7uON5PtNIkrkypl10tiM+owb920i8n+3GyqG6u2omsLi7wADMr68qz7bb99wwSMku8WKliv/34Bp+96oDjv4+DilInulTcgDuIaJvoklwM/OfOflkIjoK4EoAdwHYawlxADgH02bS7nNuBHAjABw+fNhr3YIgCFsCJzaS49Yve8/pbwG4D8CfENEXmPn/01VcP9AQ284624Cpy/z82M6XqkgXK9gz5VxsGy7XmdvdVrf2Ahs/NgNmRiJfdhXDZ/gU915tJGoGJMsYjhAmHQy7qk4jiWVLju7KtKJqQDKRK2HG4eIim4jPuyY2J+fjyJWqeOolzu7eNKL//J/dZ9xh/XINEW0D8M8A/pyZU80XLczMRNT23WLm22DaD3H8+PGt944K5x2P+NSHAQA//29/HHIlwiDiRGwfBHAVM2cAgIjeAuBfATwFwEkAW1psxzK2KHXe2fbLaroAANjtqrPtTox6jYSz8ZPDnClWUK2xKxGmImpwJGJgwmG6S/O5Jv786TsmRhx1V1UP6a17FNuqLFFuB2EBa/jW98nAXQ+vgwj4Lxd2j/xrPhfwv8Co32DmT3j5PCIahim0P8XMX7QeXiGiOWZeJqI5mJndgtD37PrJ3WGXIAwwTsT2Hmz0+pVh3krME5GbgZvzknpn28Gw4oZMZh+aaSHmftmMWxvJesabh3nDeR7FWH1ozsOApNe3NZ4tYcfksGt7T0RBt9PN5kpV6+Ft1rMlXLzHecZ1cx0qhn2TuTIOzDj35gNWh1nB2dFMETsmRjA56ixtR4VlqJ8gos8z8/OI6Cdo86qY+TFdPpcAfBTAz5j575o+dAeA/w7gFut3WY4jnBfcecuHwy5BGGCc/BT6FIC7iMj+R/XZAD5tDUye0lZZnxDLljA6ZDiyAAxt6Ix5V9v1ZTM7nedfux2QXM/5E9uGDzHmNQ6uVmO460s3iOfKnrzLKsJB4lnn3V1V6+Ft1rMlT19jVQuavHa2Vbz69Yy7167CMtRnvMb6/bc8fO4TAfwBgJ8QkT2b89cwRfbniehlABYAPM93lYIgCFscJ2kk7yCi/wvgv1gP/Qkzn7D++79pq6xPMDO2Rx11RA1FsW3zazmMD0dc52y76mx7TOeon+ch/cRmJWXZZDy8Pq9i223UoA0RwfC5PTyeK+HC3c66yyq7q/lSFflyFbNebCQKOtu1GnvybKvaILmecye2VWech409yMjMCx4+90507hg8zU9dghAGl33y7wEAp/7wlSFXIgwiju6vMvOPiGgBwBgAENFhZj6ttbI+IZZx7nlVNdy2EMviyM4JV5YHtx5b24vuZkhxw3k+xNhi3LTJHHKxudLw6SFez5Zw6b7tnj7Xb6c1nis7XiqjckAyljUtULMeOvp+328AyJQqqLGHBBifFzc269kSLnJ4kQNs6ZxtQRh4dvxyy9+IF/oYJ9F/NwB4D4D9MIdhDgP4OYDL9ZbWH6xlitg75SweT1VO73wsi0v2uhOGhsvb/vFcCdPjw67yjzec52Nb5pl4HmPDhqsklIjhb6NhIld2tTK8GcNH7jMzWwOSzgSnSrEdz3pbUW/X4ddGkvSw0MY+W0lnO1vC7DEXNpKtG/0nCAPP9975gbBLEAYYJ0rrHQCuBfBLZj4G4OkAfqC1qj4ilik5FoUqtv9Va4wz63lXw5H22W46zbGs89fVDoPgWfwuxnM4uENv576ZWs191OCGsw3y/DVNFyuo1Nj5gKTCDZJ2Z9tTGokCG0ndm+8hbtFvd7lqWVhcXdBtseg/K1cbRPS3YdciCIIwyDixkZSZOUZEBhEZzPwtIvqf2ivrA5gZsWzR0ap2wIzfA/wNty0n8yhVa66GIwE7F9n5890Oj7XiJ41kMZ7HwR0uEyoM70tW0gUzatDLgCRgbzT0RsLqLju1kRgKvodsbF++l9ft586FTWNzpsdFQj5I5suosbuuvuqM8z5gjoj+C4AbiOizaPFgM7NkoQkDw6M+9l4AwE//6DU9nikI6nEithPWYoPvAvgUEa0CyOotqz9I5SsoV9nRQhtAzVKM+TX3sX+AlbPt4uB4ruTKM92K4cPWsRjP48rDM64+Z8gwUKpUPJ3nZl16OwyDPH9N110KziFLbavortpi20lGfCsRA6j4VNuJvN3ZDt5Gsm771T2I7S3T2gbeDOBNMHcl/F3LxxjA9YFXJAghsX3hobBLEAYYJ2L7OQDyAF4LM31kGsDbdBbVL6xlna9qB9R05Oqxf7vcCWHXA5LZEq445E7w+jnPJlUoI5kv49AOD517jxqoLrYnfdhIPMq/eH1NvNvOtn/WsyVEDMLUuLOc6WbsLY4MBnmMsUxar33abRoJeb+4sVn34FePbLHoP2a+HcDtRPQmZn5H2PUIQph8/23vDbsEYYBx4tl+MzPXmLnCzJ9g5vcBeL3uwvqB+vbIANNIFmJZjA4Z2Lvd2VCmjZsBSWZG3GP+so1XG8nieh4AcNCl2I74WNfuHKO1wQAAIABJREFUx04B2AOS3ki4zDNXuUFyPet8c+WmOhSo/oSPAUm/ktdLZ1vlhU4/YcW33kBE77Z+ecndFgRBEDziRGz/epvHnqm6kH4klnHX2W7YSLz/uJ6P5XB056TrZAQ3A5Kpgjm050dsG1bn0y127J9bz7Yfj7i9BdRNrvfGs707C+xEENdpJAqsDH6GYCMKhGciX8bkSAQjQ+4Sb1R0tmMecuS32gZJGyK6GeaCm1PWr9cQ0d+EW5UgBMujb3sPHn3be8IuQxhQOt5fJqJXAHglgAuI6L6mD20H8D3dhfUDtkhz29n2w0Isi6Mu/dr22U7FqN+FNuZ53gYWF+N2Z9v9Cm+vHvFo2t1FUyt+us3xXAkGAVNjDjdIKhzSi6aLvjaE+sVr3GLE8P/64z7E9hbT2gDwmwCuYOYaABDRJwD8GOZGSEEYCCZWlsMuQRhgupk5Pw3gawBuBnBT0+NpZl7XWlWfsGbZSJwuBfE7IFmrMRZiOVx36R7Xn+tmYNHLLfZ253mJhluM5zE+HHF9tp/O9mq6iKmxIYwNe9s/6WdAciVVwK5to47F65Ci7uq5ZAH3LSbwyusu8vT5G2LwPOruZL7k2kICqLlojWVL2DY6hNEh51/ziII7U33MDAD73+3pMAsRhDC4603vDrsEYYDpJrYjAFIA/rT1A0Q0OwiCO5YtYseE88Uvftc9n0sVUKzUcMRl7B/gbmDRy/BYu/O8eKjNjO1x1z5ir+IeMDu8exwuJmqHmY7h7ezlZAFzM867+IaiIb0v/ngRNQae+7iDnj6/0eX1rrbNzrZ7sa1mQNL9TMIW7mzfDODHRPQtmF/Mp2BjA0UQBEHQSDexfRKNnzutP20ZwAVaKuojYpmSK+uBX79tPYnEg43E7Gw7S49Q0dn2uvRkMZ73FDnoVdwDptje7dFCYp/tVYAtJfKutoGq8GwzM24/uYjHH92Bo7vcfy8BDdHva0AyX8Yle52vS7fxc3Fjs54tOc42tyEiKJxP7RuY+TNE9G0Aj7ceej0znwuxJEEInMf+vbnb6d5XDkS+g9BndBTb1rbIgWYtU3S1fc+vz3UhZmdsexOjAOCkERnzkb9sQ1b30W003Jl4DseP7nB9np+NhtFMEY896D3m0DAIFQ9HMzOWkwU89RLntiAV8XN3n07goWgWf/KUCz3/P1R0eRO5suvYP8B6DxR0tvd6uJsx5MMy1M8w8zKAO8KuQxDCYjQZD7sEYYBxFMBLRDfAvPUIAN9m5q/oK6l/WMuUcNn+KcfP9yuU5mNZjAwZ2D/tbngQ2Jge0Uv6xrMljA0bGB/x5mEG3Il7m2S+jHSh4no4EvC30TCaLnpOIgHM11r28HmpfAW5UhX7Z5yLPhWDibefPIPx4Qie9Zg5z/+P+qCmx29mZnNdutvtkfbZ/pfalPDIOed/d+tnk/+uuiAI/ccP33BL2CUIA0xPMzIR3YIBjI1iZpxLFrDPRXesntPr8Wf1wloOh2cnPAkuN59jRsJ5F5+At2i4Ruyfh869x/STbNEUvH7EtmF467QuJc3klTmXF09+uqv5UhVfuXcZz3zUPmwbdb/MxqZx4eitkGypikqNPXm2/dh2APPvrhfPNmB19EVrC4IgCApx8tP4WRjA2Khkvox8uYq5aedi2+9CkvlYFkc9WEiaz3aSHuFViDTj5YLAa+wfYIqgigexbcf++fJsG95E57Ittl10tgG7s+tN8X39/nNIFyt47nFvg5E2Qz477PYynxkPNhKvFzc2uVIVxUrNm9j2KfT7DSKKALifmR8Rdi2CECZXvu+dAIAf/9kbHX/OqeUUnv/h73s+8zlXHMCLrjns+fOFrYPT1tfAxUYtJQoA3HUl/Q63LcbzuPaCnZ4+1016hAqx7SUazhbbble1A95ztlfT/hbaAN4vouzvIbe2ID+e5TsfWMPOyRFce8zb95GNXxtJfXukl862x4sbGz858n5iHvsRZq4S0S+I6DAznw67HkEIi0ix4Or5jz04g3sXE/WfIW6xmy0itgWg+1KbDwL4DIC/AXC3Nc0+MLFRXrqSfhaS5EoVZIoV7JnyJgrdpEesZ0u4cLf7lIhmvETDLcZzmByJeLIWDHnM2Y4qENteBdhyMo8hg1yfHfHhWT6znsOxXe43kG6uwfzdax3JvCm2Z7zkbPsckGwMALsX20MKVsX3ITsA3E9EPwSQtR9k5hvCK0kQguXE697p6vlXH5vF1cdmPZ/3kf98yPPnCluPbp3tXwJ4F4A5AN8EMA/gHgxIbNRS0n1X0o+NZC1tCgSvdgc36RFKbCQeouHOrOdxcMeE64xtwIo29CS2za/jHj9i26O1YDlRwN6pMddLWiI+uquL8Twe7yHtpRW/0X92Z9vLBkm/A5L29ki30X8qzu5T3hR2AYIgCINMxwFJZn4vMz8BwFNhCu/fhSm+bySiiwOqLzSWE+67khEft96jGUsUely+4rSrXihXkStV/dtIPHTx7YU2ns4jb9F/0UwREYOww4Poaz7bi+pcSuZdef7r53nsrlaqNZxLFTwNoLavwbudI5G3PNshDEj66WxHFCzU6TeY+TswmyXD1n//CMDdoRYlCAFz1a1vw1W3vi3sMoQBpWcaCTMvMPPfMvOVAF4I4HcA/Fx7ZSGznHTflax3Az1IBb+DfBGHnUg/ftZm3FpmmBln43nvYtuHjWTXthFftgrD8HYBtZwsYJ8Hse25k54soFpjz+9xM35jLOueba/r2n0oXj9Lm/xYePoVIno5gNsBfNh66ACAfwmvIkEQhMGi54AkEQ0BeCaAFwB4GoBvA3ir1qr6gGUPXUlfnW2f3uKGx7b74crEtsvrinSxgnSxgv0uVpdvOM/wNiDpN2Mb8CbA7IU2//XyfR7O8/Y9VB9A9bChs5X6xYlH5ZnMlzE2bGBs2H2Wu18rx3q2jOEIeYo+NAxsQcs2/hTA1QDuAgBm/hUROd+0JAhbgLtf+5awSxAGmG4Dkr8Os5P9LAA/BPBZADcyc7bT52wllpMFPMbl1kE/W/dW00UY5F0EG+RM6Pu5xd6M2xzm1ZRpk/HS6bXP89TZzvhb1Q5Y763Lo2PZEkqVmjcbicfO9pl6jnk/dLZLnmL/7LP9WDnWs0XMTo54mg0YMoytuNSmyMwl+/2wGihb7kUKgiD0K91sJG8A8P8APJKZb2DmTw+K0La7kvu9drY9nBlNF7Fz26jrYbrWs3vhZ3isGbfRcOeSZufeywpt+7wau/cQh9XZXvYQHVk/L+ItjWMxngeRtzM31eAzxjKRK3vyawPNFiVvZ5sDwF5TfXw5WPqV7xDRXwMYt5ooXwDw5ZBrEoRAOf6uN+L4u5xnbAuCSjp2tpn5+iAL6Se8diWd+qbbEU3768A6FfqqO9tOWbE6217Ftpf18NUaYy1T8i+2PazwtrdHulnV7uc8wBxA3Tc1hpGhnqMYvWvwvdTGu9j28/cIsMW2x7MNQtXbsf3MTQBeBuAnAP4YwFcB/EOoFQlCwFRHvf3sEQQVeN/n7AAiegaA9wKIAPgHZr6lw/N+D+YAz+OZ+YTOmpxQ70q69BcbDn3T7Yhm/HVgGzaSXp5tM51jasybGLFx28VfSdti268n3bHWRjxXQrXG/m0kHjYaLie8rWq3z6u5/iyzs63CQgL4mz8AzDSSC3Z5y3L3m/G9ni3h0TvcWcBsvA6n9jPMXLM2/94F8239BXu9ZSEI5yluNkcKgmr8t8A6YK0J/iDM4crLALyQiC5r87ztAF4Da3inH6h3Jd1u/vNpI/GTBe20E7meLWPHxLDvpSeNATqnnu0ito8NYWLE2/Wdl3rtoVOvcYo2XjzUy6kCRiKG5/g5L99EZ+N5T9s522EoSCPxayPxSixb8nznZihCnq0z/QoR/SaABwG8D8AHADxARM8MtypBEITBQZvYhjn9/gAzP8TMJZgDls9p87x3APhbAO52qWqk3pV0aQHwevu7VmOsKetsd3+ePTzmF7cDdOesKEXf57l4b1VsjwS8LZlZTpixf16EoxePeLlaw3JSfWfbC8yMRL7saVU74O1rbVOu1pAuVDx/j/vN+O5T3gPg15j5OmZ+KoBfA3Brr08ioo8R0SoR/bTpsbcS0Vkiusf69SyNdQuCMq6++SZcffOWX34t9Ck6xfYBAGea/rxoPVaHiK4CcIiZ/1VjHa5ZThYwMuS+K+l1XXsyX0a5yr5EodOuejxb9rXgpXGe+btTQbSSLni2kJjnuR+a85tdbuNFMHuJjrQxxb2776LlRAE1hpKFNmYN5u9eury5UhWlSs17GomPAUm/A8BeLEPnAWlmfqDpzw8BSDv4vI8DeEabx29l5iusX19VUaAg6KY4vQPFaf/bdQXBC1o9290gIgPA3wF4iYPn3gjgRgA4fPiw3sJgrmqfmx5zHR0WceibbmVVQQc24vCyKZEv4diuSc/n2Bgu35vVVBHXXDDr+TwvHuJoRlFnm9wLv6VEAVcf8/Z6vXSVFxXG/gH+bCSn181aDs16zFT3MSDpdwB4K3W2ieh3rf88QURfBfB5mO/q78PcItkVZv4uER3VVqAgBMi9r3x92CUIA4zOzvZZAIea/nzQesxmO4BHAfg2Ec0DuBbAHUR0vPV/xMy3MfNxZj6+e/dujSWbLCfy2OfB8uDVa6qiA+t0QDKZL3va6teKG396rcZYSfm0kXj0bE+MRDDpYblJM4ZLG0nVer1eO9uGh5xpe6GNus62dyvHQsxMCD2609tFnZ/Zh7jPpU2Gh7sKfcyzrV9jAFYAPBXAdQCiAPxclb2KiO6zbCbSKhQEQeiBzs72jwBcTETHYIrsFwB4kf1BZk4C2GX/mYi+DeCv+iKNJOmtK+lVJEQzpl09CBuJKrHtVNwDwHquhEqNsTcAT3ozqwoytgH3MYdrmSIqNXadZlM/z4NnezGeg0Hu5ww64fbORTPzMbOzfXinN+Hv1Y4FNO5m7NrmcUDS53BmP8HML9Xwv/0QzDkbtn5/D4A/an1S0HcjBaEX17zjrwAAd73p3SFXIgwi2sQ2M1eI6FUAvg4z+u9jzHw/Eb0dwAlmvkPX2X6o1hjnPHYlvQ52qRjkczKcWaxUUSjX1IhtF6Jkxef2SMCrZ7vg269tn+3ma7qUsNNsgvNsL8bzmJsex7BTP5GDGgBvvumFWBY7J0c8x0v6ydn2nefuc1V8P2I1PF4N4Cia/s1n5hvc/r+YeaXp//sRAF/p8LzbANwGAMePH99qb6lwHpLbOxd2CcIAo9WzbQ3PfLXlsTd3eO51OmtxSjRdRNVjV9Ko6xz3Ww7HhyPY5sPu4KQbmMyXAUCNjcSFp9cWQH4i+Nx2lwHzfb1k73bPZ9qY763zr+mSj+2RgLfXuhjP44AivzbQ6PB6cVTMr+Vw1MdcwJAPob+SMq1DXv8uebHwnAf8C4CPwtwa6SXCvQ4RzTHzsvXH3wHw027PF4R+4Sc3/mXYJQgDTGgDkv1KI2PbvTAcstS2l8727u2jrgcym3HSiUxZYntKSWfb/N3Ja11J+VvVbp7nLfrvSRft6v3EHrgdmltYNz3LXm0UXrqrZ+I5POHCnZ7Oa4efrOv5WNZXLV6+1jbnUgXsm3I/3GwTcXlhdZ5QYOb3uf0kIvoMTI/3LiJaBPAWANcR0RUw36R5mBspBUEQhC6I2G5h2UdX0vB491uFt9hJgoOOzrYT7M62v3X05u9O39tCuYpUoaLGs+3SRjK/lsXu7aPeu6suzytVajiXKihbaAO4z1G3KZSrWE4WPA9HAs6Tddqxmipgj4+IyS3a2X4vEb0FwL8BKNoPMvPd3T6JmV/Y5uGPKq5NEALhCW95DQDg+297b8iVCIOIiO0Wlu3OtodBMyKCl8ZYNF3Ehbu9rba2cTIgqVRs17uPvV/sSqqIXdtGMDLkXUW5jYOzfdP7PFo52p7tkPlYDkc9drUBM2rQzTfRcjIPZnWxf4C7r28zduzfER+v30/s4EqqiCsPe1vVDpgWlq2ntfFoAH8A4Ho0bCRs/VkQBoL0kQvCLkEYYERst7CUKGB8OOJZkHqxAEQzRVx7gT8LgJPhTJVi201ixEqqgD3bfa5Md+njXbASMY7t8t/tjRjuhN9CLIsnX+w9ojJiGK66q6pj/wDvNpL5NX+xf4B3oc9sRi56ie1sPnsLdrZ/H8AF1iZfQRhIfvpHrwm7BGGA0ZmzfV5yLpX3tNDGxiByNdhVrFSRyJX920gcfCWTufBsJH62Rzaf5/Sdnbeyno/4EH025lZBZyfnShWspIr+Otsuxf1Zq4t/wGPUYNsaPCbr2Bc5vsS2x797yXwZxUrN1yCuH696H/NTAN7b/YIgCIIvpLPdwkqq6D+izoVAiWXMZpPvLYcOOr/JfAWAmgFJN0tPVlJFPObgtK/zDJeG+Pm1LLaNDnneJLjhbBcDkg0bhf/OrlPW7a2JHrOl22G49MjbPBzLYsfEMKYnvH+PeR2QbAzi+onQ9JaC0ufMAPg5Ef0IGz3brqP/BOF85YlvfBUA4Hvv/EDIlQiDiIjtFs55XGhj4za5ws7Y3uN7pbgzG8nkSERJFrPT5mO5WkMsW/RvI3Hd2c7hyM4JXwkvzWc7FX4qbBRuh/TiuRJGIgYmRiKez2ylkXXtTnguxLK+7yZ4Hc70m7ENuLfwnCe8JewCBCFs4pdcFnYJwgAjYrsJZsZq2meagUvPp4qFNva5vVC1PRJw7qGOpotg9ieANpzn8M1diGVx+QF/3XQbwyCg6qzjaW9PPOLDK24O6Tn/Jkpky9gxOazkwsLG6zbU+bUcHn/U3wZvt519m3P28iRfYtvzp/YtzPydsGsQhLA59YevDLsEYYDZgj9avBPPlVGusu8BKzcSZVWR2HbSDUzmy5ieUGM1cOrpbWyPVGOTcUK5WsNiPO/LN73hbBdJKH63JwLuL9jWcyXsUPR1tfEitouVKpaSed+dbcPjgOSqHTHpZxPrFhyQJKI0EaWsXwUiqhJRKuy6BEEQBgXpbDdxLun/NrQbfy/Q6GzvnFTk2e6iFFL/f3tnHh7ZWd3p91Rp60Xd6n13d3tr3Abb2B3HxDYY7BAbAk4ciIFkAoTADDOQgUwyIQOPQ0gmgZAMkzAZJ4YQliw4OAQcBkIcx2wJDhiwjS1sum2r3WqptVRLKlWVVFJVffPHvVe6KtWq+r57W6rzPk8/kkpX+s5dVH3uub/zOzPzbF5n55Q32kgW6GituZE0cHCHJmcolIyV5khvbe9jI+d1YDzXku0dNN8gOJmbo68FjXTFGFZgGn/qrGdBeKhFB5iVy0jy9K3vpKdz5XIaz3ZwbWXbxpiFMariPf64FbgmvogUJXque5c3f+kb7/+zmCNR2hGtbIcYmQ6S7daGrzQlI8nMsmV9Z0se1NCYhtqqjKTBhMiGjhaa815+xoJuesnaTVTVT6ayLa/bbHV1IjfPVguNoGFW4nVtQ68OIWedJnPeMy3a/sHKrDtXE8bjc8BPxB2LokTJ+POuZPx5V8YdhtKmaGU7xKiNBqsmK9uj6danR0JjlV8nmu06WeFIepaOhLTsCtKMjGTRfs6ujKReAjw7X2RoataSjKLxq2giO0efKxlJE1l/YLfY8s3GCivb3vRIC8n2Gsu2ReS20JcJ4BgwG1M4ihILT/zcf4w7BKWN0WQ7xJmp1vXTyWRz1n/Pns1ZGbPdsGbbUrLdjIxkZ293y/7FC1KOBjKhgVSW9V1JKzcx3tqNNYMGtn+tyiiamWJojGFyZp4ttmUkK2i2PJnKsamno2VJS7MDjAJG0nku3tVbf8Naazd5s7xKeEXo8wIwgCclURRFUSJAk+0QI9OzbN3QRXfHyjWfySaG2hSKJZ4ey/Kii1c+bTCgXjKbLxSZmS/al5E00CDZarURmpM1nEzlOLhtgzV3jkZHxVuTUTRh/ZeeLVAsGesNks1MCA0YSGU5tL31496spzpAsWQYy7TmkQ+BT/7aSreNMW+MOwZFiZsX/uqbAPjaH/x5zJEo7Ygm2yFG07Ota4sTQqnBbU9NzDBXLHHhzo0trQnh5LdyomBzVDs0PvTkTHqWC3a0rp1upmFvIJXlSIsVzkpr11vaxvTE8HqNMOEPtLGdbAdxNJN3Pj2W5aqDrdn+wcpkJKlMnmLJtHxjl1hDmm0RuaPGt40x5rcjC0ZRYmbkR66NOwSljdEGyRBnbI0Vb/B/6xOjGQAryXa9ynbaT7ZtTI+EULW3BsYYhidn2LO59THijVa2iyXDqbM5a04k0HiVdyCVpa/F6YkQJLmNXUQTOT/Z3mBXRgLNPaWZzM1xenKGo3s3tb7uCiZILkyPtGChuYYK29kK/wDeBPx6XEEpShw8efsv8uTtvxh3GEqbopXtECPpPJfuaW0QSjIhzDW47fHRaQAusFHZrpMQ2q5s16ukgydxyM4V2dvXuoykUR3v0OQM80VjrTkSGvfZHrAwPRGac8SYzHnn1XaDJPhPLxoMpH/Ys20+uqf1ZHvxRq7xrHdhoI0NGUmDA4zOdYwxfxh8LiK9wH8F3gh8GvjDaj+nKIqi2EUr2z6FYonxTJ5dLf5nnZDGNZ8nRjPs3tTT0gCUgHoaavsykvqV7eGpGQArle1GZSQLjhjb7VW2F322ay8+MJ7jsIUkv5nqalDZ3uog2e5IJBpOOfuHvGT7EgvJ9soq23YsJlfiL34uIyJbReR3gEfxiitXGmN+3RgzGnNoihIpN7zjF7jhHb8QdxhKm6KVbZ+xTDBWvPXhMo3+P/3UaMaKhARC3sRVsF7ZbkBaMTzpJUA2KtuNykgGLOmmK65dY/HF6Yn7W1+vierqWYea7WYMZPqH0uzs7bZkY+l9bM5Cc5aEYM1ici3k2iLyQeA24C7gecaYTMwhKUpsnL7uprhDUNoYTbZ9As1nq0MxGm2wMsZwYjTDq48daGm9gLoNkjlXMpLq2ww5qGzXbVIcz9LTmWCnJdu/8Nq1GJ6cxRg4sNWejWMjF9Jkbp6EQG+P/T/lZhok+4fTXGpBrw2N9QOUcyY9y47ebjqSrT2sa+TGahXx34A88B7g3SGXGMFrkLRzwhRlFXD8VVrVVuJDk20fa4+hG5xHMjw1S3auaK2yXV+zXQAsNkg2kNMMT3rVRhuJbyMacfAq2we3bmjZ13vJ2g0k+uOZ1j3aF9ej7noBE7k5tqzvsrq/i3E01iA5O1/kxGiGGy/ZaW1daL5BstW/XfA8ztcKxhiVCSqKopwD6JuxT5Bs74xIRmLTiQRARGqObJ+amWdDV5LOFit/AY0kv0NTM+za1NNytRH8YUENcDKV5aDF5kgIVzur7+t4xpNztCpjAEj6dzKNJJsTubmWh8hUI9Ggs87xkQyFkuFoi83FS9aluSbFkfQsO3styJVWMDlTUZRzn5e87XW85G2vizsMpU3RyrbPSHqWZELYvqG1ZNsbSFL/P+rjlpNtqN1YZ3N6JDSu2d7TYsPpwnoNPN43xnB6cobrL2p9SNCStRuodqayXmV7+0Z7le1GmMjOO9Fre3E0duPYPzwFYE1G0ozPeMBIepZjh2x4fHsfNdVWlLXFyZteUX8jRXGEJts+9saKN17Z3rK+00olNCBR47H/1My8NQkJ1K+kg+dGcuk+S9XOBqQV6ZkCOUtWg0vWbiDRH5/2XUEsnM9mKrsTuTkrOvFqcTRS4O0fSrOhK8l5luJoVkaSLxSZyM2zy0Jlu5GbyEy+wJ999SleftkenrNbZc+Kshp46qdeG3cIShujMhIfW2PFvXHP9bcLnEhsjRSH2gN10pYr28F61RIiYwzDU7PstVzZroXNhswlazdY2d68rpOuDguSmSaSTU+z7UZG0qhmu384zSV7NlnTjTfqPBMQuN606rENjY2KfzaV48P/coKnx7LVN1IURVEUH61s+4ykZzlswZu50cr28dFpbn7u7pbXa3TtqZl5Z1rmSkzk5skXStYS32QDWtoFX2/rlW3vY63zmsrMsW2jnacUjTqvGGOYyLmTkXQ0cC2XSob+oTQ/c1XrlocBi17XjaXbNr3VOxL1nyoMTnj2kvu32L2pU5S1yl//+7N8/uHTK/rZ/uG0FXnejW+9HYD777y75d+lKM2iybbPSDrPNedva/n3NDLiOpXJM5Gb58KdvS2vF6ZWYdG2Zhs8aUe1fR2a9BJfW5KORqqmQ4Gvt+XKdiNNc+OZvJX/EKDxwSoz80XmCiUn0yPB2+9CnRiePZsjO1e0pteGkD6/we1P+t7qNm4mG5EMnZrwru39W9zIdxRlrfH5h0/zyODkioov2zd2c/n+vpZjePrlr2r5dyjKStFkG8+6bGpm3op1WKIBGYltJ5KAWr7ILpLtWjKS4Skv8bVW2W4gCRqemiGZECv2e5XWrsV4Js+R3XZunpINaraDgTZbNziSkYgwX2ebxTHtdrT50Jg+P8xAKsuGriQ7rDSn1j/XgxM5NnQlncl3FGUtsmfzOt58/fmxrf/MT746trUVRTXb2PPYhqCyXRsXTiRQXWM7VygxM190UNmunpjYlnQ06n6yq7d7RW4WDa1dY/FUdo5tLTrZBCQa1GxP+oOKXFa2613M/UNpkgnhol0WXXWaHJl+MpXj4LYNVvofGrnOBidm2L9lvdV+C0VR3CKFeaRQr3ygKG7QZBs4MxUk23YqY/WSpFNnc3R1JNhjIbkPU80XeWFUu+VKXK19HZqcpTPZupViwKI+vLav954++zraeg1788USk7l5e5rtBpO4iZy7Ue3gWRDWq64/M57l4Nb19HQmra3bbIPkwHiWQ9vtSDoa8VT3ku21r9cWkY+JyKiIPBZ6bauI3Ccix/2PrfstKkoEvOTtP89L3v7zcYehtCmabAMj055HsjUZSR3GpvPs2Ni6zWA51RokF5JtFzKSKinR8NQMuzf3WNvHRqrLw1P2fL0rrV2NCV/OYUuz3ZFsLNmMQkZSL4Z5WsVDAAAgAElEQVTR6dmWB0EtW7eJwTKFYolTE15l2waNTJAcnMi1RbINfBy4uey1dwH3G2MuAu73v1aUc56nXnk7T73y9rjDUNoUTbaB0UBGYsOnV+pXA8cyeesJCvi+yBVeD5Jtmz7bUEdGMjlr1YKvnrJgwWrQQWV7YXx6leRvLBMMtLFTYW6kugrnhoxkbDrPDgt/N2EareyDd4M1XzQcsuS0U0/CMzUzz/RsoS2aI40xXwPOlr18K/AJ//NPAD8VaVCKskIGbrmNgVtuizsMpU3RZBtP8rC+K8mmda33iyYakJGMpvNWmrnK8Ty+ly+edlnZriYjmZqx5rEN3hCdKrsHeJrpuULJSWW7nqwhFYxqt+1GUodARtJn+bwuxNFAZTt4SmOTRAO66YDA9s9WZbueE8qps57zyYGtbVHZrsQuY8yw//kZYFecwShKoyRnZ0jOzsQdhtKmaLKNJ3nYs7nHToNVA79jLJO37pgBMchIqqxXKhlG0rPW9dO1ktBgsIntgTZL1q2a6Nsb1Q6N2c+BV9ne1NNBRzPz3ZuJIyE1q+vZfIHsXNHJUxqpcWMVZmDc99i2lWzXkbAMqu3fAsY7SBUPlIi8RUQeEpGHxsbGIo5MUZZzwzvfwA3vfEPcYShtilr/AUMW5Qf1GiTniyXOZuecJNsJgWKtBknLybYIFf+rHc/kmS8aq5VtqD3RMJgeaXtUOzRT2Y52qM3Z7BxbLIyHr0Y9/fK4L59x8ZSmUQZSOXo6E1aam6H+UwUdaMOIiOwxxgyLyB5gtNJGxpi7gLsAjh071mivq6I44/ht2hypxIcm28Dw5AwXX7zDyu/yHoFX/78lSMxcVbaLFV53W9levq9Dlj22F9arIVs542hNCCe/1TXbXckEvd12/pw6GmwQnMjNOdNrQ/1pqGN+Y7GLa9n7K6qfo51MZTlkyfYP6jfiDk7MsLG7w/rf0iriXuD1wPv9j5+PNxxFaYxnf/wVcYegtDFtLyOZK5QYy+StSR7q6VwXEhQH1cBaDZLru5J0WpYbVJPMDE86Gpteo+o4NDVDVzLBNgeV3roykswc2zd2WUv4GnVwmczNOx2skqhxcwOOk+06awcMpHJWJkcG1HuKEdj+tYPHtoj8DfBN4IiIDIrIm/CS7B8XkePATf7XinLO05lJ05lJxx2G0qa0fWV7JD2LMViTPNSTkYxlvAqsM812hcVTmbw1iUOYauO8g8q27bHptY7t8OSsVavBMPVlJHlrzZHQ+Ljys9k5LrI8GGlJHHWe0ow6TLYboVgyPJvKceNzdlr7nY3ISNpFr22MeW2Vb90YaSCKYoEX/tqbAbj/zrtjjkRpR9o+2V4YK25Rs12L0bSXoOy0PNCm1to2pxsuWa/KOO/hyRl6OhP02R6iU8fX24UTCdTXUKeyc1ZvZhbGlddtkHQrI2mksp1MiJOhOo00SA5PzTBXLFlzIoHaNo/GGAYnZrjm/G3W1lMUJRqe/Nk3xB2C0sZosh001lmtbFfPEoJH77Y8mcNUS47GM3Psc9E4WMWH+eTZHAccjLOuKSOZnOXqw1utrhewIJepclrHp/NctLPX2nodifpyn3yhSHau6FRG4k2QrM7YdJ5tG7oatipshkY02ydTXrOiremRAEn/2FeTY2XyhXZujlSUVcvgi2+JOwSljXGq2RaRm0XkSRE5ISLLJo2JyK+ISL+IPCoi94vIQZfxVGJo0m5lu5puOmAsk2fzuk66O+yNtw6o1tCWyuSt2dItXa9yQnRiNMOFDuQN1Roki4HVoKPK9kKlucK+GmMYz86xvdfezVO9ITqwONDGpRtJfUmUm+FMHvUT+MBj25btH4QkPBX2W23/FGX10j15lu7J8hlNihINzpJtEUkCfwLcAhwFXisiR8s2+x5wzBhzGXAP8Puu4qnG8NQMvT0dbLTkJFGvB9GbuOcmQUlW8OIrlYx1mUN4vfKcJF8ocjKVdaIlrnYzMZ7JUygZ677e4XWhcrUzky8wVyix3aJMp55GHBaHq7h4QlIeRzVcDLQJaERGcjKVo6sjwW6LkqxaDxXU9k9RVi/X/cZbue433hp3GEqb4lJGcjVwwhjzNICIfBpv1G9/sIEx5oHQ9g8CkRthDk3OWm3kS4pgStW/7zJBSSSWJyhTM/MUS8aJZruSjGRgPEfJwAUOku1EgooZ6NCkXSlQObVkJLY9tqG+/RzA5x4+TXdHghdcsN3aupXiqCXlGJvOc8kee/KZcuo1iA6MZzm4db3VpthaNo9BZfuAVrYVZdXxxOveHHcIShvjMtneB5wKfT0I/GiN7d8EfMlhPBU5k56xalGXSAiUqksAxjJ5Lt/fZ229MJUqv8F0w6gq28dHpwGsapiXrrf8uA479NiG2uPDg8EuNmU69SrKs/NF7n14iJ+4dLdTv+daMpJSyTDuaBIqVB+YFGYglbXaHAn1ZSS9PR1sdqiTVxTFDaevvynuEJQ25pzw2RaRnweOAR+s8n1no3+HJ2etJmn1bNtcykgSsrzSPDbtD9Fx5OtdvuCJ0QwicP4Ou0kQBOPDl78eVLaduZEsJGDLFx93UNnuSNYeovPPPxghPVvg1cf2W1uzEtV81AEmZ+YplIw7GQm1GySLJcNAKmf9OqvV7HnqbPvY/inKWqMnNUpPquLAU0Vxjstk+zRwIPT1fv+1JYjITcC7gVcaY/KVfpEx5i5jzDFjzLEdO+xMegSvQpjKzlmVH9R6pJ3JF8jNFd1ptmtWtl3ISJZXAE+MZjiwZT09nQ4aQKsN0ZmadWI1GFDrnAbH12Zlu1Z1FeAzDw2yZ3MPP+ZQQgK1K9uj04FfvJsbHKjdaHzqbI65QokLd9iVK9WS8AQDbRRFWX1c+563c+173h53GEqb4lJG8m3gIhE5jJdkvwZ4XXgDEXk+8GfAzcaYyG85z1j22Iba/1kHtn87HTZIllcDXWiKF9arkNyfGM04G7SSTAhzFV4fmpxhb5+7qX61BkgGx3erRVeQWsn9malZvn58jP98w4VOLPeWx1FFDhVcy47cSOrJSI6PZgC4cJfda22xOXXp4p7Hdo4fu1A9thVlNdL/C9ocqcSHs2TbGFMQkbcBXwaSwMeMMY+LyPuAh4wx9+LJRjYCn/ETpWeNMa90FVM5Q5Y9tiEsI1meKbgcbw2VGxZTmTwJwcngkXLZSrFkeHo8y4sutvf0IUw1D/OTqRwHt7p7vF9rXPt4Jk/f+k4669nQNLNejcr2Z783SMnAz1zlVkISxFFLDgVu5EkQyEiqcyJIti3f2FW7gRnPzJGdK1q1GVQUJTqGX3BD3CEobYzToTbGmC8CXyx77Y7Q57F2LAxb9tiGUFWyRmXbpfVf+bJjmTm2Oho8Ul7ZDh7tu3AiCdYrxxjDQCrrbKAN1LbiS2Xm2GbZ67qWI8bffWeQHzm0hcPb3Sd9tWQkrq9loKYdy4nRDDt7u9nUY1c61FHlyVTg6X1wm2q2FWU1sn5kCIDcrr0xR6K0I209QTKYHmmzsa6jhnPFWKBzdVQNrJQcpTJ5J7Z/sFy2EjzadyUjqTQhcyyTJzdXdJp8LkqDKjVI5q3r4avdGE3PzvPUWJbbrnRf1Ybarihj03nWdyXZYMmfvhypMxzqxOg0F1mWkEB155mBcfsDdBRFiY4XvPedANx/590xR6K0I22dbA9NzbJ1Q5fVZr5aNnFjmTzJhDiRdITXDuNqoM3CeqEdDR7tu6xslx/XYGS3y4pjLVeO8Uye5+zeZHe9KtXVYF/Pj6Cq7cVR28LSaVWb6jISYwxPjWX5mSv3WV+zmvPMyVSOjoRog6SirFIee6M2Ryrx0dbJ9vDkjHW7uFoDUEbTebZv7LI6hGPp2sulB6lMnstc+XqXVR+Pj06ze1OP9Uf74fXKD2wUFceaN1DTea690O7NTDXZyqKUIZpkO1FlYie4Hc4EtRskz6RnyeQLXLjLvpd7tb/NgVSW/VvW0WFRm68oSnSMXH1d3CEobUxb/88xPDVrP9n2j2jFBknH1cBKPtTjGXeV7XLZylOjGesNa2EqWQ2eTOVIJoR9jiuOlcaHp2fnSc8WrFc7q8lWgsr2oe3R6IY7atwUjjr0i4faDZLHR/zmSMu2fxDWyy/lZCoX2U2Ooij22XD6WTacfjbuMJQ2pa2T7aHJGetTBxM1nCTGpvPsdOZLvFzuMDtfJJMvWPWADhNezhjDCcfJdiUZyTOpLAe2rLPqBtIop/3x3bYHnVTTbA+MZ9nZ2836rmgeSCUraOQDvGvZsYykyuKunEigcoOkMYaB8SyHtDlSUVYt1/zOr3HN7/xa3GEobUrbykiy+QLp2YLVUe1QewLd2HSe5+7dbHW98rXDSUIq63lAb3dZ2fbT3+GpWbJzRbeV7QoTMk86GNldiUoTDU+d9SrNzirbZa8PpLKRNuglEgKl5UlvvlBkambebWVbKts8ApwYy9C3vtPJdb3YFLq49tnsHNP5gla2FWUV8/03vzPuEJQ2pm2T7eEFj+1oEqViyZDKzjmXkYRXHvft2Vy6kQTLuaw2LqxXVtk2xnByPMdV521xtmaAVKjyDrqqbFd5OjKQynGDIw/zmnGUvR6MqHctIylV+d6JkQwX7tjoZIhRpebUAV++E4XdoqIobhi98pq4Q1DamLaVkTzrVyVta30TVdwMJnJzFEvGaYJS3rC4OKrdnRtJsN5Jv3nPpVNGsqzaGXfFcXBihg1dSbZYHhOfWPirXNzXbL7A2HSeQxEmfNWaBaPw2K6kkQ84MeZOrlTJJv+kemwryqqn9+RT9J58Ku4wlDalbSvbPxieBuDIbruOBtVkJFEkKOUykqAC6UqzHU7uz2bnAbtjy8spT/6irDhWSv4GJ3Ls37LeeoW1UmV7oTkywhuLahaEi9Mj3fUfeCzPtlOZPGezc86SbRFZ5oQyMJ4lIfafYCiKEh1Xv/9/AOqzrcRD2ybb/UNpztu63rpNXbUGyVE/QXGV+IbXDkj5yXYUPtsTuTl6ezqcWqOVV+4D278oKo6VNNuDEzNOfJcrSZHiqK4uykiW7vdI2h/O5Fyzvfz1KORKsPTYD6Ry7Nuyjq6Otn0QqCirnkfeqs2RSny0b7I9nObSvXaHkUB1zfbxEa+S7nbSIWWVbW/Knyv3imRiMRGbyM05rWoDJJNSVu2NsuK4vHp9aiLHjxyyrxdfqJSH9vWZGJLtRCVNBfDtgbNs29Dl1I2kmvXfiTH3yXb5jdXJiBtTFUWxz/hlx+IOQWlj2rJUk8kXeGY8y9E9LpJt72O5Zrt/OM3O3m73PtuhJCGVyTurasPSBsmJ3Dx9jiZjLlkvtH9RVhzLZSRTM/NMzxacJfrlxisnx3Ns39hFr6OBQZVIVsi1iyXD1344xosu3uFsOFMtToxmWN+VtN7YHKa8qj6QymmyrSirnM1PPcnmp56MOwylTWnLyvYTw2kAjjqpbFdO/PqH0k7WW7J2uYwkO+fMiQSWNkhORlHZLnMjibriGF57cMKN7V9AeXU1ats/gKR/5xje78dOTzGRm+dFR9y6olRrkHx6LMvh7RsiS/Qnc3NMzcxrc6SirHKO/cEdgGq2lXhoy2S732WyXcEuLV8ocmI0w42X7LS+3pK1E4IJ+aWNZ+bY1+euAphY0iA5xwUOJvotW89f0BjDM+NZbr1in9M1A8qb5gLbvwNbXVW2yyUzOa69cLuTtaqRrCBn+cqTY4jA9Rc5TrapPIV1cCLHxQ7GtC9ZO5ToP+P3BWhlW1FWN997+/+IOwSljWlLGUn/UJqtG7rYvcm+m0JiQUay+NrxkQyFkuHoHncDbSDUnOknKeOZvLOBNuDr0/0dnczNs8W1jCR0tU7mvFHpUVUcy5O/RY9tt2PiAWbmipxJz0Y+wXBBEhXa76/+cJTL9vc5f4qxTEeDd4Plqil1ydIs7vOCC8x2rWwrymrm7NHLOXv08rjDUNqUtky2Hx9Kc3TPJjdDMSr8zv4hd5X0JWuHGtpKJcPZ7JxTzXZQ2S4ZQyZfsO43XU7Y2nAgFXXFUZbJSDZ2d7B5nZt9DldXT571myMjHqpS7qwzmZvj4VOTvCiCwTqVGiTHM3PkC6UIGmIXE/2BVBZR2z9FWfX0/fBx+n74eNxhKG1K2yXb88UST45MO0t8F72JF1OF/uE067uSHHQkOVi2Nl4DX7FknFoNBpXPQtHb1z7H1c5ESMsRdcWxXEZy6qxXYXVxwwZLq6sD476feNSa7TJd9NePj1MyxJZsu9bJL6wdKqqfTOXYu3kdPZ1Jp2sqiuKWqz70Pq760PviDkNpU9pOs/30WJa5QsmJEwks2qWFE4X+oTSX7NnkvKkrXIkczwTTIx1PrCxBoeQJxbc6l5EsVpdPnQ0Sr+gqjuWVbbdJ32LGF3hsnxe5jGTptfyVJ8fYvK6TKw70uV+8QrbtWicfJnydHdjqXiq02hCRAWAaKAIFY4z6qinnNN955x1xh6C0MW1X2e4fngJw4rENy2UkpZJx5um9bO3Q2VyYHhnBRMd5v7LtWkYSbpAcmZ5ly/rOyCqOAgsZmDGG0xMzThP9cHV1IJVj64YuZ5KVaizevBlKJcNXfzjG9Rdtrzol1SaCLGuQPOVXtl02/ULwFMNb+0x61klvxxrhxcaYKzTRVlYDkxdfyuTFl8YdhtKmtF2y/fjpNN0dCWfDZcpHXJ+ayJHJF5xV0sOEGySjqmyDJ80B3Ptsh5K8M1N5dkWYBHnJr3dS0zMFpvMF53KGRSlDlvMiqOaWE65s/3B0mvFMPhIJCSyX7YBX2d66oYsN3W4fyImvzzfGMJrOs2uzJtuKstrZ2v8IW/sfiTsMpU1pu2S7fzjNc3b3Ohsrvjgy3csUomqOhKWJfjBS22VVLqhsF/xke8uGKBokveM6Oj0babIdbpA8NeFewhKurp6edO/AUYlEyPpvwLfAuySCm8aA5ZrtaI5D0Jw6mZtnrlhiV68m2xUwwD+JyHdE5C3l3xSRt4jIQyLy0NjYWAzhKcpSnv/h3+X5H/7duMNQ2pS20mwb40k6bnnuHmdrlFe2+4fTJBPi3Bs4vDbA0OQs67uSbFrn7hQnl8lI3DdIBgnYSHqW5+x2f0wDwpXWKBr1wtXV4alZfuLS3c7WqkZHqLI9POXdvO2JqMpbrUEyqnNu8CQkQMQ3dauG64wxp0VkJ3CfiDxhjPla8E1jzF3AXQDHjh2rMJ5IUaLloV/V5kglPtqqsj2emWMyN8+RXe6Gryx6E3s8PpTmgh0bItEWhxskh6dm2LO5x5lbBoRkJKUS6zqTzvcxmfD2zRjD2HQ+Ui1tOPlbaNRz3JxpjDcFdK5QiizJDRN21hmemqW7I+HeXzsgVNkPYnCtkw8vTfjp0GZ3UqzVijHmtP9xFPh74Op4I1KU2kxdcISpC47EHYbSprRVsh1UJF26GSzqpj36h9JcutftMJvytQGGpmbZG0UjGV5l23VzJEDSnxg0XzSUDOyMuOIYSFgGJ2bo7e5w+tQgaJAcngwqyjHISJY8KXF/8xZGynzNxzJ58oUSByKRkXjNmaNpr+9hp8pIliAiG0SkN/gceCnwWLxRKUpttj/6ENsffSjuMJQ2pa1kJItT/9wl2x2JxdL2RHaOM+lZLtkTzaPv8MS/4ckZjhxx28y2KCMpsSWCimdQSc8XikC0j/e98ele+nfqbI59Dj22YbG6OjzlXbN7+2KobMtSGUmUCX94qA94vuYQndVjWEayc5NWtsvYBfy9f/13AH9tjPnHeENSlNpcfucHAbj/zrtjjkRpR9o02XaXNCRCCe/TflPZhTvdyVaWrO0nRyXjVQJdJ0dLkm3Hem1vPe/jnN+QGbWMpOR/fvJsjgt3uD2ngfvJolY6jsq299EYGJ6c4ZoLtkUegzEGEYlsoA0s6vNH0rNs3dBFd4cOtAljjHka0LnXyqriW+/S5kglPtoq2T41kXNuHRa2SwuGkRyMaPJfsPZcoYQx7quhQXJfKBr6IpCRJEL7B7AryoqjgClBsWR4NpXjxkt2Ol/QAENTM3QlE2yLSisdIhny2R6ZzrM3ysq2/7FYMnQkZeFGeV8UyTbe3+9IOs/OXq1qK8paYPrgBXGHoLQxbabZdm8dlgzbpaVyJCSaahwsJtuBzCKqynaxZKKpbC/ISEokE+LUQ7ycIPkbnpphrljikOMbqKC6Ojw5y+7NPc6nj1Zi4eatWKJYMuyJUMoSSHSKIZ38tg1drO9yXx/wJCyGkXTU9pKKorhi53cfZOd3H4w7DKVNabNk2/WI7aXj2k+msuztWxfZY+hEKBkF95Xt8LTMSDTbocr2jo3dkUwyDPDMMQwnU56c4aDj0elBdTVwlYmDRKLseopBylLytTtR/O0uIn5lW6dHKspa4Xkf+RDP+8iH4g5DaVPaRkYSWIfddMkup+uEH70PpHLOJlVWXDtIjua9DMV1ZTtcbY3CjSR8MxGphAQWrFcGfGmQ68o2eNfQ0OQsVx/e6nytSnSUX0+RVra9j+HKdhSDoWDRdXA8k4/+OlMUxQkPvueDcYegtDFtU9mOyjosnIAOjGedV0CXrB1y69jU0+F8rHV4CGc0DZKLle2obf+CSvPJVI7ujoTziqfIYnU1tsq2RCtLChPWbJdKgcd2NOuLeNKZOOwlFUVxQ3bfeWT3nRd3GEqb0jbJdlTWYeGpilMz85FUQMvXzhdKzj22Yamvd5QNkvPFUvSP930rumf8GyjXGmrBu6kolAx7IjiXlQhfTxu6kmzqif5BWKlkGMvkmSuWIrP9A5gvRO94oyiKO3Z96xvs+tY34g5DaVPaRkYSlXVYICOZnfeqgVE5kUDIGi+iiYPhZDuKyYJhjXjUj/cDJf7JVDaScyqy6LqyN6bKdvhJwp4+t77i5YQbJKO0/QuvDTqqXVHWCs/9iw8DMHL1dTFHorQjbZRsR2MdFngTz/jJ9qEYZCQAuyN45J9cotmOzmcbon+8LwjGeDKSF13sdlhQOXF4bMPS6ylqKUuwcqlkFv52o5geGV4bor+pUxTFDd98rzZHKvHRVsl2FNZh4cq2iNvR8MvWDiW/UVRDI5eRhG8mYpCRzBVL5AuliCrboXMZw/RIWHo9Ra4bDzVIPjWWRQT29UX0t+SvHbW9pKIo7sjt2ht3CEob0zaa7cGJHPsjSHwXhtoYzyqtpzO66XNhmUUUOt9gX0Vgo+NmzPB6EP3j/cChAqJxIgn2dF1nks3r3N/IVGLJ9RRxdT3cIPn142Nctr+PdV3R/C0Fa0dtL6koijv2fPMr7PnmV+IOQ2lT2ijZjsbNIFyRjNKJBJY6oURR2Q5kHR2JRCR63qXJdsSa7dDuRXJe/fX29PVEqpUOkwi9O0RdXRf/AJzNzvHIqUluiFC6E6ytEhJFWTsc/eSdHP3knXGHobQpbSEjCazDXnqpW4/tAPGdK6JsjoSyx/4RupF0JKNJBsOV9LiqvV3JRCROL8ERjcv2D8plJBHrxv2lv/rkGCUDLzoSYbLtr622f4qydvjX3/lw3CEobUxbJNtRW4cFnsxRNkdC9A1tQTLWEdGj9kDW0NURTSU9TFDtPLB1XSTSgmC9uJojoawHIPLKtsf9T4zSt76Ty/f3Rbo+qO2foqwlZrftjDsEpY1pCxlJ1NZhQWnsUITTIyGU/CYlEq14kPx2JqO5jAKZTFdE64UJcvvIfNP99eKy/YNzQ7P9yOAk11+0I1LtdLDbKiNRlLXDvq//M/u+/s9xh6G0KW1R2Q4G2kRtHRblQBtYWvmNgkQiYhlJkNxHtH+ViEoatCAjiWmgDSzevCUT4nwa6TL8A2AMkeq1Q0urjERR1hDP+euPAHD6+ptijkRpR5z+DyoiNwN/BCSBjxpj3l/2/W7gk8BVQAq43RgzYDuOxcp2dDISgPMitP2DxYa27mQ0rg2LMpJokt9knJVt/+Oh7RFdQ0GDZIyV7eBmqjuGmxth8QbuhVEn2/7BVxmJoqwdvvF70TdH9g+nuf3Pvrmin731in287kd1vPxawVmyLSJJ4E+AHwcGgW+LyL3GmP7QZm8CJowxF4rIa4APALfbjmVwYobtG7ujs+ETr7oclVVZwEIyGlVl28+HoqpsJyLevyX4uxh1ZTuKZsxqRP2kJEyw/8/dt4kdvfHIOXR6pKKsHfJ9WyNd7/L9fTwyOMnodL7pnx2e8p7Ga7K9dnBZ2b4aOGGMeRpARD4N3AqEk+1bgff6n98D/B8REWMCR2M7RGX7FyBILNXAyGUkgRtJ1A2SsVS2fR1+ZE2vQYNk/G4kcd7cRD2tM7S0arYVZQ2x/4EvATD44lsiWe/qw1u5+vDKEvyPfP1py9EocePyf9F9wKnQ14P+axW3McYUgClgW/kvEpG3iMhDIvLQ2NhY04EMTuQiTbY7kxLJkJdy+tZ3IQLrI6qob/en662L6IlBUOGMar0wnUmhIynsi6jS3NWRoKsjQW9PPBaH4DW+diTF+dTVamsDvPTo7ujX7kjQmUzEZi+pKIp9jvztxznytx+POwylTVkVDZLGmLuAuwCOHTvWdNX7L954tfWYanF076YlNnxRsaO3myvP2xKZrOPA1vVcdXBLZG4kR3b3RrpemN2betixsZuOiNbes7kn9spqMiFcsb8vlimKG7s7uOrgFi4/EI/l387e7tiGCSmKYp+vffAjcYegtDEuk+3TwIHQ1/v91yptMygiHcBmvEZJqxyO2IIvqobBSkSdiK719QJEJLKbGPAkOnHcsJUT1c1FJeI61+fKsVcUxR7zGzfFHYLSxrj83+zbwEUiclhEuoDXAPeWbXMv8Hr/81cB/2Jbr60oiqIoSntz3n3/wHn3/UPcYShtirPKtjGmICJvA76MZ/33MWPM4yLyPuAhY8y9wJ8DnxKRE8BZvIRcURRFURTFGhd99i8BePbHXxFzJEo74lSzbYz5IvDFstfuCH0+C7zaZQyKoiKUolUAAA4FSURBVCiKoqyc3/qHx+kfSq/45/uH0wsN9XHxlQ99PNb1m6UVj+6jezfxm6+41HJESiusigZJRVEURVHiYyV+0QHbN3Zz+f7om53DFHvim1nQLK14dAMctRyP0jqabCuKoiiKUpXffMWlXLTz2bjDaIlDX/osAAO33BZzJPVpxaMbdBjOuYgm24qiKIqirGkuuPduYHUk28raQ5NtRVEUpSlE5Gbgj/Ca3z9qjHl/zCEpSk3+5cN/GXcIShsTn4muoiiKsuoQkSTwJ8AtePLQ14qIykSVcxrT0Ynp0KmwSjxosq0oiqI0w9XACWPM08aYOeDTwK0xx6QoNTn8hc9w+AufiTsMpU3RZFtRFEVphn3AqdDXg/5rinLOcv7/u4fz/989cYehtCmy2gY2isgYcHIFP7odGLcczrmE7t/qRvdv9dLMvh00xuxwGYxrRORVwM3GmF/yv/4PwI8aY94W2uYtwFv8L58LPBZ5oPU5V69Jjas5ztW44NyNTeNqjiPGmN5WfsGqa5Bc6X9UIvKQMeaY7XjOFXT/Vje6f6uXtbxvVTgNHAh9vd9/bQFjzF3AXXDuHh+Nqzk0ruY5V2PTuJpDRB5q9XeojERRFEVphm8DF4nIYRHpAl4D3BtzTIqiKOcsq66yrSiKosSHMaYgIm8Dvoxn/fcxY8zjMYelKIpyztJOyfZdcQfgGN2/1Y3u3+plLe9bRYwxXwS+2ODm5+rx0biaQ+NqnnM1No2rOVqOa9U1SCqKoiiKoijKakE124qiKIqiKIriiDWfbIvIzSLypIicEJF3xR1Pq4jIARF5QET6ReRxEfmv/utbReQ+ETnuf9wSd6ytICJJEfmeiHzB//qwiPy7fx7v9huzViUi0ici94jIEyLyAxF5wVo6fyLyTv/afExE/kZEelbz+RORj4nIqIg8Fnqt4vkSjz/29/NREbkyvsijpd57rYh0++f+hH8tHIogporvl2Xb3CAiUyLysP/vDtdx+esOiMj3/TWXuR3EcS2JyJHQcXhYRNIi8o6ybSI7Xs387VX42df72xwXkdc7jumD/vv5oyLy9yLSV+Vna55zR7G9V0ROh87Xy6r8rLNcqUpcd4diGhCRh6v8rJNjVu29wdn1ZYxZs//wmneeAs4HuoBHgKNxx9XiPu0BrvQ/7wV+iDcy+feBd/mvvwv4QNyxtrifvwL8NfAF/+u/BV7jf/6nwFvjjrGFffsE8Ev+511A31o5f3jDTZ4B1oXO2xtW8/kDXghcCTwWeq3i+QJeBnwJEOAa4N/jjj+iY1T3vRb4z8Cf+p+/Brg7grgqvl+WbXND8D4T8TEbALbX+H6s15J/Ts/gecPHcrya+dsr+7mtwNP+xy3+51scxvRSoMP//APV3r/rnXNHsb0X+NUGzrWzXKlSXGXf/0PgjiiPWbX3BlfX11qvbK+5scLGmGFjzHf9z6eBH+AlOLfiJXH4H38qnghbR0T2Ay8HPup/LcBLgGD816rdPxHZjPfG8+cAxpg5Y8wka+j84TVerxORDmA9MMwqPn/GmK8BZ8terna+bgU+aTweBPpEZE80kcZKI++14WN2D3Cj/7ftjBrvl6uBuK+lG4GnjDErGSJnhSb/9sL8BHCfMeasMWYCuA+42VVMxph/MsYU/C8fxPOej5wqx6sRnOZKteLy3wN+FvgbW+s1GFMruVTT19daT7bX9Fhh/zHs84F/B3YZY4b9b50BdsUUlg3+N/DfgZL/9TZgMvRmtprP42FgDPgL8WQyHxWRDayR82eMOQ38AfAsXpI9BXyHtXP+AqqdrzX9nlODRvZ7YRv/WpjC+9uOhLL3y3JeICKPiMiXROTSiEIywD+JyHfEm7hZTtzX0muongDFcbwCGnmvjPPY/SLeE4lK1DvnrnibL3H5WBVZRJzH63pgxBhzvMr3nR+zFeRSTR+vtZ5sr1lEZCPwd8A7jDHp8PeM95xjVdrMiMhPAqPGmO/EHYsjOvAep91pjHk+kMV7VLXAKj9/W/AqA4eBvcAGLFWUzlVW8/lqF2q9XwLfxZNKXA58GPhcRGFdZ4y5ErgF+C8i8sKI1q2LeD0VrwQ+U+HbcR2vZZxrf3si8m6gAPxVlU3iOOd3AhcAV+AVQP4wgjWb4bXUrmo7PWZR5VJrPdmuO1Z4NSIinXgXx18ZYz7rvzwSPGL0P47GFV+LXAu8UkQG8B5lvQT4I7xHqIEv/Go+j4PAoDEmqK7dg5d8r5XzdxPwjDFmzBgzD3wW75yulfMXUO18rcn3nAZoZL8XtvGvhc1AynVgVd4vFzDGpI0xGf/zLwKdIrLddVz+UyCMMaPA3+M9yg8T57V0C/BdY8xI+TfiOl4hGnmvjPzYicgbgJ8Efs5P0pbRwDm3jjFmxBhTNMaUgI9UWTOWa81/H7gNuLvaNi6PWQu5VNPHa60n22turLCvb/pz4AfGmP8V+ta9QNAR+3rg81HHZgNjzG8YY/YbYw7hna9/Mcb8HPAA8Cp/s9W8f2eAUyJyxH/pRqCfNXL+8OQj14jIev9aDfZvTZy/ENXO173AL4jHNcBU6JHkWqaR99rwMXsV3t+206pkjffL8Da7A+24iFyN9/+i05sAEdkgIr3B53gNdo+VbRbntVS12hjH8SqjkffKLwMvFZEt/tO2l/qvOUFEbsaTPr7SGJOrsk0j59xFbGGd/09XWTOuXOkm4AljzGClb7o8Zi3mUs1fX7W6J9fCP7yO7h/iddq+O+54LOzPdXiPNR4FHvb/vQxP+3g/cBz4Z2Br3LFa2NcbWHQjOR/4FnAC79Fmd9zxtbBfVwAP+efwc3jdzGvm/AG/BTyB96b4KaB7NZ8/vKRjGJjHezLxpmrnC8854k/895vvA8fijj/C47TsvRZ4H14CAtDjn/sT/rVwfgQxVXu//E/Af/K3eRvwOJ4Dw4PAj0UQ1/n+eo/4awfHKxxXLNcSnvQrBWwOvRbL8Wryb+8Y8NHQz/6if62dAN7oOKYTeBre4BoLXHf2Al+sdc4jOF6f8q+fR/ESyT3lsflfO8uVKsXlv/7x4LoKbRvJMavx3uDk+tIJkoqiKIqiKIriiLUuI1EURVEURVGU2NBkW1EURVEURVEcocm2oiiKoiiKojhCk21FURRFURRFcYQm24qiKIqiKIriCE22lTWNiGwTkYf9f2dE5LT/eUZE/m/c8SmKopwriEimgW3eISLro4jHX2+viNzjf/4GEfk/K/w97xORm+psc4OI/NhKfn+TsdwgIl9wvY5y7tBRfxNFWb0YY1J4vtaIyHuBjDHmD2INSlEUZfXyDuAvgYrDWyohIkljTHElixljhlgciLVijDF3NLDZDUAG+LdGf6+IdBhjCiuNS2kPtLKttCXhyoKIvFdEPiEiXxeRkyJym4j8voh8X0T+0R/piohcJSJfFZHviMiXyyZzKYqirAn898eviMg9IvKEiPyVP8nyl/GGjjwgIg/4275URL4pIt8Vkc+IyEb/9QER+YCIfBd4ddnv/2UR6ReRR0Xk0/5r7xWRT/m/67iIvNl//ZCILJsaKCIv97fdXi2Gsu0/LiKvCsX2W/723xeR54jIIbzhPe/0n35eLyI7ROTvROTb/r9ry2L9V+BTIvKgiFwaWusrInJMRK724/qeiPybLE4OVtoMTbYVxeMC4CXAK/GqNg8YY54HzAAv9xPuDwOvMsZcBXwM+J9xBasoiuKY5+NVsY/iTfK71hjzx8AQ8GJjzItFZDvwHuAmY8yVeJNxfyX0O1LGmCuNMZ8u+93vAp5vjLkML8ENuAzvffgFwB0isrdSYCLy0/7veJn/Uq0YqjHub38n8KvGmAHgT4EPGWOuMMZ8Hfgj/+sfAX4G+Gjo54/6a74WuBv4WT+2PXhTGh/Cm6R7vTHm+cAdwO82EJeyBlEZiaJ4fMkYMy8i3weSwD/6r38fOAQcAZ4L3Cci+NsMxxCnoihKFHzLGDMIICIP470PfqNsm2vwks5/9d8Xu4Bvhr5/d5Xf/SjwVyLyOeBzodc/b4yZAWb8yvnVeGO0w7wEb3T2S40xaRH5yToxVOOz/sfvALdV2eYm4Kj/ewE2harm9/qxAvwt8E/Ab+Il3ff4r28GPiEiF+GNBu9sIC5lDaLJtqJ45AGMMSURmTfGGP/1Et7fiQCPG2NeEFeAiqIoEZIPfV6kcr4gwH1+dbcSWQAR+Qu8SvmQMeZlwMuBFwKvAN4tIs/ztzdlP1/+NcBTeJX2i/Gq2PViqEawf9X2Dbyn/9cYY2bDL/rJd3YhSGNOi0hKRC4DbmexWv/beE9Jf9qXqXylyRiVNYLKSBSlMZ4EdojICwBEpDOs0VMURWkTpoFe//MHgWtF5EIAEdkgIheX/4Ax5o2+NONlIpIADhhjHgB+Ha/6G1SLbxWRHhHZhtes+O0K65/Ek3R80n8PbiiGFewbeNXqtwdfiMgVNX72buC/A5uNMY/6r20GTvufv2GFMSlrAE22FaUBjDFzeB3xHxCRR/AebTq3iFIURTnHuAv4RxF5wBgzhpdE/o2IPIon33hOnZ9PAn/pS/a+B/yxMWbS/96jwAN4CfRv+04kyzDGPAH8HPAZYNMKYqjGPwA/HTRIAr8MHPMbOftZqi8v5x7gNXiSkoDfB35PRL6HKgnaGll8Wq4oiqIoihI9otasyhpGK9uKoiiKoiiK4gitbCuKoiiKoiiKI7SyrSiKoiiKoiiO0GRbURRFURRFURyhybaiKIqiKIqiOEKTbUVRFEVRFEVxhCbbiqIoiqIoiuIITbYVRVEURVEUxRH/H9wCHM52MYt6AAAAAElFTkSuQmCC\n",
                "text/plain": "<Figure size 864x360 with 2 Axes>"
              }
            ],
            "_view_module": "@jupyter-widgets/output",
            "_model_module_version": "1.0.0",
            "_view_count": null,
            "_view_module_version": "1.0.0",
            "layout": "IPY_MODEL_cb20954f9e4e40189e7517984d429f9e",
            "_model_module": "@jupyter-widgets/output"
          }
        },
        "13178c66d344425e8033ccb71d5952cd": {
          "model_module": "@jupyter-widgets/controls",
          "model_name": "SliderStyleModel",
          "state": {
            "_view_name": "StyleView",
            "handle_color": null,
            "_model_name": "SliderStyleModel",
            "description_width": "",
            "_view_module": "@jupyter-widgets/base",
            "_model_module_version": "1.5.0",
            "_view_count": null,
            "_view_module_version": "1.2.0",
            "_model_module": "@jupyter-widgets/controls"
          }
        },
        "bfbb00cee53142b0be230d2911200e78": {
          "model_module": "@jupyter-widgets/base",
          "model_name": "LayoutModel",
          "state": {
            "_view_name": "LayoutView",
            "grid_template_rows": null,
            "right": null,
            "justify_content": null,
            "_view_module": "@jupyter-widgets/base",
            "overflow": null,
            "_model_module_version": "1.2.0",
            "_view_count": null,
            "flex_flow": null,
            "width": null,
            "min_width": null,
            "border": null,
            "align_items": null,
            "bottom": null,
            "_model_module": "@jupyter-widgets/base",
            "top": null,
            "grid_column": null,
            "overflow_y": null,
            "overflow_x": null,
            "grid_auto_flow": null,
            "grid_area": null,
            "grid_template_columns": null,
            "flex": null,
            "_model_name": "LayoutModel",
            "justify_items": null,
            "grid_row": null,
            "max_height": null,
            "align_content": null,
            "visibility": null,
            "align_self": null,
            "height": null,
            "min_height": null,
            "padding": null,
            "grid_auto_rows": null,
            "grid_gap": null,
            "max_width": null,
            "order": null,
            "_view_module_version": "1.2.0",
            "grid_template_areas": null,
            "object_position": null,
            "object_fit": null,
            "grid_auto_columns": null,
            "margin": null,
            "display": null,
            "left": null
          }
        },
        "98600f1df3694f7f8f395241786bf8ec": {
          "model_module": "@jupyter-widgets/controls",
          "model_name": "SliderStyleModel",
          "state": {
            "_view_name": "StyleView",
            "handle_color": null,
            "_model_name": "SliderStyleModel",
            "description_width": "",
            "_view_module": "@jupyter-widgets/base",
            "_model_module_version": "1.5.0",
            "_view_count": null,
            "_view_module_version": "1.2.0",
            "_model_module": "@jupyter-widgets/controls"
          }
        },
        "ecb5043cdcd045459f0d2f465d32e697": {
          "model_module": "@jupyter-widgets/base",
          "model_name": "LayoutModel",
          "state": {
            "_view_name": "LayoutView",
            "grid_template_rows": null,
            "right": null,
            "justify_content": null,
            "_view_module": "@jupyter-widgets/base",
            "overflow": null,
            "_model_module_version": "1.2.0",
            "_view_count": null,
            "flex_flow": null,
            "width": null,
            "min_width": null,
            "border": null,
            "align_items": null,
            "bottom": null,
            "_model_module": "@jupyter-widgets/base",
            "top": null,
            "grid_column": null,
            "overflow_y": null,
            "overflow_x": null,
            "grid_auto_flow": null,
            "grid_area": null,
            "grid_template_columns": null,
            "flex": null,
            "_model_name": "LayoutModel",
            "justify_items": null,
            "grid_row": null,
            "max_height": null,
            "align_content": null,
            "visibility": null,
            "align_self": null,
            "height": null,
            "min_height": null,
            "padding": null,
            "grid_auto_rows": null,
            "grid_gap": null,
            "max_width": null,
            "order": null,
            "_view_module_version": "1.2.0",
            "grid_template_areas": null,
            "object_position": null,
            "object_fit": null,
            "grid_auto_columns": null,
            "margin": null,
            "display": null,
            "left": null
          }
        },
        "08eb3e8bd87e4a5cb948b77c693f3355": {
          "model_module": "@jupyter-widgets/controls",
          "model_name": "SliderStyleModel",
          "state": {
            "_view_name": "StyleView",
            "handle_color": null,
            "_model_name": "SliderStyleModel",
            "description_width": "",
            "_view_module": "@jupyter-widgets/base",
            "_model_module_version": "1.5.0",
            "_view_count": null,
            "_view_module_version": "1.2.0",
            "_model_module": "@jupyter-widgets/controls"
          }
        },
        "d660979bd65949ff86436c25f2971593": {
          "model_module": "@jupyter-widgets/base",
          "model_name": "LayoutModel",
          "state": {
            "_view_name": "LayoutView",
            "grid_template_rows": null,
            "right": null,
            "justify_content": null,
            "_view_module": "@jupyter-widgets/base",
            "overflow": null,
            "_model_module_version": "1.2.0",
            "_view_count": null,
            "flex_flow": null,
            "width": null,
            "min_width": null,
            "border": null,
            "align_items": null,
            "bottom": null,
            "_model_module": "@jupyter-widgets/base",
            "top": null,
            "grid_column": null,
            "overflow_y": null,
            "overflow_x": null,
            "grid_auto_flow": null,
            "grid_area": null,
            "grid_template_columns": null,
            "flex": null,
            "_model_name": "LayoutModel",
            "justify_items": null,
            "grid_row": null,
            "max_height": null,
            "align_content": null,
            "visibility": null,
            "align_self": null,
            "height": null,
            "min_height": null,
            "padding": null,
            "grid_auto_rows": null,
            "grid_gap": null,
            "max_width": null,
            "order": null,
            "_view_module_version": "1.2.0",
            "grid_template_areas": null,
            "object_position": null,
            "object_fit": null,
            "grid_auto_columns": null,
            "margin": null,
            "display": null,
            "left": null
          }
        },
        "cb20954f9e4e40189e7517984d429f9e": {
          "model_module": "@jupyter-widgets/base",
          "model_name": "LayoutModel",
          "state": {
            "_view_name": "LayoutView",
            "grid_template_rows": null,
            "right": null,
            "justify_content": null,
            "_view_module": "@jupyter-widgets/base",
            "overflow": null,
            "_model_module_version": "1.2.0",
            "_view_count": null,
            "flex_flow": null,
            "width": null,
            "min_width": null,
            "border": null,
            "align_items": null,
            "bottom": null,
            "_model_module": "@jupyter-widgets/base",
            "top": null,
            "grid_column": null,
            "overflow_y": null,
            "overflow_x": null,
            "grid_auto_flow": null,
            "grid_area": null,
            "grid_template_columns": null,
            "flex": null,
            "_model_name": "LayoutModel",
            "justify_items": null,
            "grid_row": null,
            "max_height": null,
            "align_content": null,
            "visibility": null,
            "align_self": null,
            "height": null,
            "min_height": null,
            "padding": null,
            "grid_auto_rows": null,
            "grid_gap": null,
            "max_width": null,
            "order": null,
            "_view_module_version": "1.2.0",
            "grid_template_areas": null,
            "object_position": null,
            "object_fit": null,
            "grid_auto_columns": null,
            "margin": null,
            "display": null,
            "left": null
          }
        },
        "0f09df3ceeae48a387d0fc6b908b5567": {
          "model_module": "@jupyter-widgets/controls",
          "model_name": "VBoxModel",
          "state": {
            "_view_name": "VBoxView",
            "_dom_classes": [
              "widget-interact"
            ],
            "_model_name": "VBoxModel",
            "_view_module": "@jupyter-widgets/controls",
            "_model_module_version": "1.5.0",
            "_view_count": null,
            "_view_module_version": "1.5.0",
            "box_style": "",
            "layout": "IPY_MODEL_c2fa6ff4f58a4101bc4b895b5baa4770",
            "_model_module": "@jupyter-widgets/controls",
            "children": [
              "IPY_MODEL_9fd68b3ef90242d2ba97505ca56114aa",
              "IPY_MODEL_e3b2afface834d268c55d859f854e908",
              "IPY_MODEL_967e42b786084dd8b7ec89d0e629092d",
              "IPY_MODEL_7c579a4e4e234f36ae753e4cc9836579",
              "IPY_MODEL_cc9589e5f00c42cc964af4172428c827",
              "IPY_MODEL_32fb07c83cef4496b9c0d224b251c3d6"
            ]
          }
        },
        "c2fa6ff4f58a4101bc4b895b5baa4770": {
          "model_module": "@jupyter-widgets/base",
          "model_name": "LayoutModel",
          "state": {
            "_view_name": "LayoutView",
            "grid_template_rows": null,
            "right": null,
            "justify_content": null,
            "_view_module": "@jupyter-widgets/base",
            "overflow": null,
            "_model_module_version": "1.2.0",
            "_view_count": null,
            "flex_flow": null,
            "width": null,
            "min_width": null,
            "border": null,
            "align_items": null,
            "bottom": null,
            "_model_module": "@jupyter-widgets/base",
            "top": null,
            "grid_column": null,
            "overflow_y": null,
            "overflow_x": null,
            "grid_auto_flow": null,
            "grid_area": null,
            "grid_template_columns": null,
            "flex": null,
            "_model_name": "LayoutModel",
            "justify_items": null,
            "grid_row": null,
            "max_height": null,
            "align_content": null,
            "visibility": null,
            "align_self": null,
            "height": null,
            "min_height": null,
            "padding": null,
            "grid_auto_rows": null,
            "grid_gap": null,
            "max_width": null,
            "order": null,
            "_view_module_version": "1.2.0",
            "grid_template_areas": null,
            "object_position": null,
            "object_fit": null,
            "grid_auto_columns": null,
            "margin": null,
            "display": null,
            "left": null
          }
        },
        "9fd68b3ef90242d2ba97505ca56114aa": {
          "model_module": "@jupyter-widgets/controls",
          "model_name": "FloatLogSliderModel",
          "state": {
            "_view_name": "FloatLogSliderView",
            "orientation": "horizontal",
            "_view_module": "@jupyter-widgets/controls",
            "_model_module_version": "1.5.0",
            "_view_count": null,
            "disabled": false,
            "readout_format": ".3g",
            "_model_module": "@jupyter-widgets/controls",
            "style": "IPY_MODEL_ff7ab8e46044463c94adef7cd4b67fea",
            "layout": "IPY_MODEL_9735482f9bcd40b9926801e91ba8d4ce",
            "min": 2,
            "continuous_update": true,
            "description_tooltip": null,
            "_dom_classes": [],
            "description": "n_steps",
            "_model_name": "FloatLogSliderModel",
            "max": 4,
            "readout": true,
            "step": 0.1,
            "base": 10,
            "value": 1000,
            "_view_module_version": "1.5.0"
          }
        },
        "e3b2afface834d268c55d859f854e908": {
          "model_module": "@jupyter-widgets/controls",
          "model_name": "FloatLogSliderModel",
          "state": {
            "_view_name": "FloatLogSliderView",
            "orientation": "horizontal",
            "_view_module": "@jupyter-widgets/controls",
            "_model_module_version": "1.5.0",
            "_view_count": null,
            "disabled": false,
            "readout_format": ".3g",
            "_model_module": "@jupyter-widgets/controls",
            "style": "IPY_MODEL_f8c107c262754347abba720716fb0f42",
            "layout": "IPY_MODEL_cbf9b13890144617bf7a1e8467f0b758",
            "min": -2,
            "continuous_update": true,
            "description_tooltip": null,
            "_dom_classes": [],
            "description": "alpha",
            "_model_name": "FloatLogSliderModel",
            "max": 1,
            "readout": true,
            "step": 0.1,
            "base": 10,
            "value": 0.5,
            "_view_module_version": "1.5.0"
          }
        },
        "967e42b786084dd8b7ec89d0e629092d": {
          "model_module": "@jupyter-widgets/controls",
          "model_name": "FloatLogSliderModel",
          "state": {
            "_view_name": "FloatLogSliderView",
            "orientation": "horizontal",
            "_view_module": "@jupyter-widgets/controls",
            "_model_module_version": "1.5.0",
            "_view_count": null,
            "disabled": false,
            "readout_format": ".3g",
            "_model_module": "@jupyter-widgets/controls",
            "style": "IPY_MODEL_40394324c52e4e1298dc5e745a1f1d0f",
            "layout": "IPY_MODEL_d31323b7bc0e41a9b6499f2aa91dc8da",
            "min": -2,
            "continuous_update": true,
            "description_tooltip": null,
            "_dom_classes": [],
            "description": "beta",
            "_model_name": "FloatLogSliderModel",
            "max": 0,
            "readout": true,
            "step": 0.1,
            "base": 10,
            "value": 0.1,
            "_view_module_version": "1.5.0"
          }
        },
        "7c579a4e4e234f36ae753e4cc9836579": {
          "model_module": "@jupyter-widgets/controls",
          "model_name": "IntSliderModel",
          "state": {
            "_view_name": "IntSliderView",
            "style": "IPY_MODEL_c30eb80bb2db49da82662e762e026833",
            "_dom_classes": [],
            "description": "exc_rate",
            "step": 1,
            "_model_name": "IntSliderModel",
            "orientation": "horizontal",
            "max": 20,
            "_view_module": "@jupyter-widgets/controls",
            "_model_module_version": "1.5.0",
            "value": 10,
            "_view_count": null,
            "disabled": false,
            "_view_module_version": "1.5.0",
            "min": 1,
            "continuous_update": true,
            "readout_format": "d",
            "description_tooltip": null,
            "readout": true,
            "_model_module": "@jupyter-widgets/controls",
            "layout": "IPY_MODEL_b70b0933a92946119f1c14fbb6a0052e"
          }
        },
        "cc9589e5f00c42cc964af4172428c827": {
          "model_module": "@jupyter-widgets/controls",
          "model_name": "IntSliderModel",
          "state": {
            "_view_name": "IntSliderView",
            "style": "IPY_MODEL_10565e172d4e453b9305557675df1e8f",
            "_dom_classes": [],
            "description": "inh_rate",
            "step": 1,
            "_model_name": "IntSliderModel",
            "orientation": "horizontal",
            "max": 20,
            "_view_module": "@jupyter-widgets/controls",
            "_model_module_version": "1.5.0",
            "value": 10,
            "_view_count": null,
            "disabled": false,
            "_view_module_version": "1.5.0",
            "min": 1,
            "continuous_update": true,
            "readout_format": "d",
            "description_tooltip": null,
            "readout": true,
            "_model_module": "@jupyter-widgets/controls",
            "layout": "IPY_MODEL_0225e4c6620c4f5abfd2d706c5195618"
          }
        },
        "32fb07c83cef4496b9c0d224b251c3d6": {
          "model_module": "@jupyter-widgets/output",
          "model_name": "OutputModel",
          "state": {
            "_view_name": "OutputView",
            "msg_id": "",
            "_dom_classes": [],
            "_model_name": "OutputModel",
            "outputs": [
              {
                "output_type": "display_data",
                "metadata": {
                  "tags": [],
                  "needs_background": "light"
                },
                "image/png": "iVBORw0KGgoAAAANSUhEUgAAAtwAAAE9CAYAAAA4WbXTAAAABHNCSVQICAgIfAhkiAAAAAlwSFlzAAALEgAACxIB0t1+/AAAADh0RVh0U29mdHdhcmUAbWF0cGxvdGxpYiB2ZXJzaW9uMy4yLjEsIGh0dHA6Ly9tYXRwbG90bGliLm9yZy+j8jraAAAgAElEQVR4nOy9eZxddX3//3qfc/d7Z59JJtskIUAQAoQYouAGAgWsgYpU0a+tSxW3ttqqVaxL/dqv2qq19oe1Yt2LBQWtomgrVFBAhSQEMIGQAFlnMpl97nrOXd6/P845d5u7L3Pu8n4+HucxM3c5950zd3Jf531en9ebmBmCIAiCIAiCIDQHxe4CBEEQBEEQBKGTEcEtCIIgCIIgCE1EBLcgCIIgCIIgNBER3IIgCIIgCILQRERwC4IgCIIgCEITEcEtCIIgCIIgCE3EYXcBjWB4eJg3bNjQkH0diR0BAKz3rM/5vpHUut/lqE0oj3XsLUr9Pqr5ndV7f6Oo93XsfG+269/F7t27p5l5xO46lpNG/r/dNI6Yf+vr2+v9JAhCc6nl/+yOENwbNmzArl27GrKvG5++EQBwy5m35HzfSGrd73LUJpTHOvYWpX4f1fzO6r2/UdT7Ona+N9v174KIjpR/VGfRyP+3m8ZNNxlfP/1pe+sQBKGlqOX/7I4Q3IIgCILQcERoC4LQIMTDLQiCIFQEEXmI6GEieoyI9hHRJ8zbNxLR74joEBHdTkQuu2sVBEFoJURwC4IgCJWiAXg5M58PYCuAq4johQD+AcAXmPl0AHMA/szGGhvHm99sbIIgCHUiglsQBEGoCDYImT86zY0BvBzAHebt3wLwRzaU13jWrTM2QRCEOhEPtyAIglAxRKQC2A3gdABfAvAMgHlmTpgPOQ5gjU3lNZb/+3/trkAQhA5BOtyCIAhCxTBzkpm3AlgLYAeAsyp9LhHdSES7iGjX1NRU02oUBEFoNURwC4IgCFXDzPMAfgngIgD9RGRdMV0L4ESR59zCzNuZefvISBvEjr/hDcYmCIJQJyK4BUEQhIogohEi6je/9wK4AsCTMIT39ebD3gjgR/ZU2GA2bzY2QRCEOhEPtyAIglApqwB8y/RxKwC+x8w/IaL9AG4jor8H8CiAr9lZZMP46EftrkAQhA5BBPcycWI+ivmIjnNW99ldiiB0FLF4EodOhbBljfxtNRtmfhzABQVufxaGn1sQBEEogFhKlon3f+8xvOkbj4CZ7S5FEBoOM+NnT0xAT6SW/bW/t+sYrrn5AUwuxpb9tYUO54YbjE0QBKFOpMO9DByfi+A3z84AAI7NRm2uRhAaz9OTIbzz1j34h1efCyxzo3l8PoYUA7uPzAHu5X1tocPZutXuCgRB6BBEcC8DP9o7nv5+99FZwG9jMYLQBOYjOgDgt8/OFjAcNJe5sPHau4/MAWcu72sLHc6HPmR3BYIgdAhiKWkyzIw79xzH9vUDCLgdhigQOppEMgUtkbS7jGUlpBkzTx5+bnbZX3smW3ALgiAIQgsigrvJPHZ8Ac9OhfHH29figrF+7D4yb3dJQpP54J1P4DX/9puu8utbgvvEfBSx+PKebMyZ3fV94wtIddExF5aBV7/a2ARBEOpEBHeT+eGe43A7FFx97ipsGxvAgZOLSKZEFHQqIS2Bnzw+jseOL+DAZNDucpYNS3ADQDCWKPHIXOLJFG7+34OI6JU/J5/ZsI4ejwPxJOfUIQh1c9FFxiYIglAnIribiJ5I4cePjeOKs1ei1+PEtvUDSDFEFHQw9+yfhGYmddz12HiZR3cOIVNk+1wqFmPxip+3+8gcPvc/T+PXB6drfu2ZkIZLNq/IqUMQGsL7329sgiAIdSKCu4nc//QU5iJxvHrbWgDA1nX9IAKCVQgSob2467FxrO7z4MWnD+OuxybA6I6rGWEtASLg4k1DVb2/Ty7E0s+vhXgyhcVYAptG/Dht2I+gnMwKgiAILYgI7iay+8gcnCrhxWcMAwD6vE6cuaJHREGHkkim8KuDU9h5/mpcs3U1js5GENa6Y/FkUEsg4HLghacNIRZPVZzHfdLMzg7rtR0ny7895Hdh2/oBhGLxrjnJEZaBa64xNkEQhDppWcFNRFcR0QEiOkREbZnNdOhUCBuG/HCqmcNsiIJEVy2o6xZmIzriScbO81fjynNG4VQJ0yHN7rKWhbCWQMDjwI6NgwBQsa2k3g73rJlQMuh34/nrBxBPMrT48g/fETqUyy4zNkEQhDppyRxuIlIBfAnAFQCOA3iEiH7MzPvtraw6npkK4azRnpzbto3146fTjOgyJzkIzWc6pGPjsB/nrO4FEeFlZ67Ao2Ed6wd9dpfWdEJaAgG3A2ev6oW6n6oW3JE6BfeA34kzVgaA2eoWbQpCSd7zHrsrEAShQ2jVDvcOAIeY+Vlm1gHcBuDaRr+I9WGdDYPBzEimuK4utJZI4uhsBKevCOTc/vz1AwBQk60kvzbr+5Skniwr1u8h+3egJ1JYjMax87xVICIAwM7zVyGeMDzG9b6fWp1gLAG/2wGHqqDH46hY9FqWklCN1hvrb3jI78bpIwGoCiGoyRoJQRAEobVoyQ43gDUAjmX9fBzACxr5Ah/+4RP49cEp/OoDl6YFkpZIYu/ReWiJFDZ94270XTqLLatrm1N9ZCaCZIqXCO6Nw344VEK4yi5cIpnC/vFFBGMJbPrG3ei9xBgwsukbd8PvUvHff/VSrB3o/E6q3Tw3HcajR+dzPMrG78MYurLz/NXp2684eyU+Pkl4cmIRm/7TeD+dsaJnyT4tjsyGEU9w0WmJYS2BpyaDODUaw4peT2P+QXkcm41gz9E5nJH3vi1HWEugx2P8d9LjcWJ+NoK5sI4Bv6vk8yZNwV1rLGB2h1tRCAGPo6akkp88Po6J+Rje9tLTaqpDqI1P3LUP+8cXc267dusavP4FYzZVlMfVVxtff/Yze+sQBKHtadUOd1mI6EYi2kVEu6ampqp+/raxARybjWLvscwgmvsPTEFLpLCi1423v/Q0MAPhGoXAoVMhAMCmkVzhQkRwqQriVXalb991DMFYAit7PfjrK87E2gEv1g548drt6xDWkzg6E6mpTqFygrE43vqtR5BiTh//tQPe9O9j00gAZ6zMCGqfy4EzVgbSjyGUtlrMhfXS90d0xBMpHDTfW83gWw8dhp5IVW15CmkJ+F2G4PY6VQDAkdnS78lkinEqqKWfXwtpwe1zpV87lkhVfTXh9keO4ZsPHa6pBqE+TgW19PbY8Xn8aO8Ju0vKsHOnsQmCINRJqwruEwDWZf281rwtDTPfwszbmXn7yMhI1S/wB+eshEtVcNdjE+nb7np8Ag6VsGHIj/dfuRkA0pnK1XLoVAhESwU3AChEVU3EC8bi+MIvnkaPx4ENwz785WVnYO2AD2sHfHjDC9cDqD3lQaiMZIrx3tv24shMBGes6Ekf/7UDmd/HSI97yfMGfK70Y7wuFZEiv6dgLI5YPIVEsrhYtERpsxZihrUEbt9lXFiq1qUU1pIImB1ut8P4b2ViPlryOTMhLT0EqthxKcdsWEef15lemOx2KEilGIvR6gT85GIM0yGto20/rcjHd56Dt73ktPS2qs9rd0m5vOtdxiYIglAnrSq4HwFwBhFtJCIXgBsA/LiRL9DrceKSzSP4yePjSKYYET2Be/ZPYtDvgkIEp6rAqSoVx5vlc+hUCGv6vfC61CX3KQpV5bv+yv3PYjqkY/2QHwTKuc/vNvZfa8qDUBlfvPcg7n3qFD6+82z0eZ017cPnUhEtcsXkyQljKmWKC4tP5swUxZnQ0rUHjeDOPcfT3utqhWcwFkfAbQhulym4x80FkcWYyLq/ng73YJZtxXrtE2XEfj6Tixq0REpOXAVBEISm0JKCm5kTAP4cwH8DeBLA95h5X6NfZ+f5q3EqqOGRw7O458lTiMaTGPZnupRuR32CO9+/baFQ5R3EiYUovvrrZ3HN+avTgiYbv3mbTK9sLt/fdQwvP2tF+opCLfhcKuJJLtih3je+kP6+kKA+OhtBImm8aWbCje9wp1KMbz54GM9b1Wv8XIXeZmaE9WT6/elQCQoB42VEr7VgcqTHXZeHO0dwm53uiYXKBXcsnsRC1LDyTAe7I8ZRqJDLLzc2QRCEOmnVRZNg5rsB3N3M17jseSvgdaq467FxnApqWNnrTi/8AoxuWS2XulMpxrPTIVy8aajg/YalpLiQnwvr+O7DR/HE8QXsOToHBvCBKzfjkwWmX1uCu1bBIpQnZXqNX3VBT3qBbS1YVzuengxiOJBrP9k3vgiY9u/psIaxodwFsNlrDZrR4b7/4BSenQ7jizdsxUdPoirLUyyeQjLF6fcigeByqJiYLi16rQWTm0b8mFysTejOhnWsy4pddDuMY5zfXd83voBNIwF4nEuvOFl1AMbJzIZhf021CB3Ia19rdwWCIHQILdnhXi58LgeuOHslfvrEBO4/MIVXnrc6R1AZHe5k1ZfXT8xHEYunsKlYh7uMpeS7Dx/FZ//7AJ46uYgdGwfx5f+zLUdU5PwbTAFRa6yaUJ6ZsI5kijHaV18yiM9cVPj0yeCS+/aNL8KpGu+9QoL60aPzUIjgdamYboLg/saDh7Gix42rt6wyrsBU0eK2YvgCWSerboeCE/OlLSUnF2JwKISxQV9dg28GfZkOt1MlUF53fT6i49qbH8S3f3O4aB0WzTi2QhvztrcZmyAIQp10teAGDFvJfCQOPZnKiXQDjA53ioH5SHW5vlZCSWlLSXFBM7EQRb/Pifs+cClufv02XPa8lUUfqygEn0uteXCIUB6rA7qipz7B7VQJDpVwYDI3ZURLJHFwMpj2hs8UsJzsPTYPv1uFS1UabilhZvz2mRnsPH81XA7FOCGs4hzTGl/f4869OlRu0eTJxRhW9LjR43HWdCWJmTEX0TEYyAhuKwUo+7WfmQojkWI8cWKx0G4wmWUjaZY/XhAEQehuul5wv/TMYfR4HFg36MX5a3Mzt2tdgJUW3AUSSgBApdKCZnJRw8oqxJ3f7ag5vlAojyW4V/YuTSGpBgLB61Tx9GRuh/vgZAiJFKPP7NTO5A1k0hJJ7B9fRMDjgEOlhovCsJ6Enkyl/33VpuhYudf+PME9FdJKroE4uRDDaJ8HfpeKsJ6o+krSYiyBeJJzOtzWa49nddefnTL+Hp+aKCK4szrchU52hC7mkkuMTRAEoU5a1sO9XLgdKj57/fnwu9Ul/lzLDzqxEMOWNZUPwDl0KoQhv6vo0A+FKD15sJAn+FRQw4oqxJ3fpYqlpIlY/uKVDRg243M58PTJYM7v3lowGXA7oCq0ZFHl/vFF6MkUAm4HgpzAqQaLwrm8LOtyV2DysRbsZi/qdTsUMBsnK8XsUCcXYzhrtAc+twPMQDSeTNtuqql7MO/vzO1QMJ61aPK56TAA4NnpMLREMv13bTG5GIPXqcKh0JKTHaHLedOb7K5AEIQOoes73ABw1ZZRvOSMpVneVoe7msQDAHhmKlTUvw0YNhAA0JOFu3+nFmNViTu/2yGWkiYymZWmUS8+l4qglsiJxNs3voiA2wGPQ4GzQAfbWjAZcDvgVBWE9SSiDYyvm4vkC+7qLCWFBHc6GrDE1aHJBeN9XmvSjiWOsy0lxmurmFyMpTO+LcGdTHH66lM2JxeNTvtwj7tpGedCm/KmN4noFgShIYjgLoFTMRZgVWMpYWYcmioeCQgYHUTASHfIx0rEqMa+4Hc5JBawiZwKxjAccKWHq9SDlVRyIMtWsm98Ec9bZSSgOAp4tPcem8dorwduh5pZWNlAH3dmPLohXKlKS4m14DFn0aSauTpUiGAsjrCexGivYSkBgEiVV2msugtZSrLjF5+dCmOjmTzy1MTSBaunFjWs6HFjyO8SD7eQSzxubIIgCHUigrsERGQu/iqdtpDNTFjHfCRe1L8NGB1EwMj/LfT8ZIqr7HAXn2DYjkyHNOz4f/fkZFPbyeSiVveCSQsrVcZKKkmmGE9OLOKc1YZlyakqBTvcW9f1p+8HGru4z1oUPOAzFm1Wn1JiebgzVo1y6x+sqwajfbV3uEtZSgCju55KMZ6bCePSzSvgdih46uRSH7fV4R4KuJqScS60MVdcYWyCIAh1IoK7DC5VKTvAI5snzYVZZ67sKfoYy1JSyBZQSyKG3+3oqEmTx+eiOBXUjGzqJpFMMV71rw/iF/snyz52cjFW94JJC4eqYLTXgwOm4D48E0ZET+Ls1cbAGadKOdF08xEdR2YiOD9fcDejw21ZSqpOKTHeez3uzAROVSH0+5xF7VhW59vocFtZ8tWdNM4UEdwZO0sM4wtR6IkUzlgZwJkre/BUXiQjM5u/Xw+GAm7pcAu5vPWtxiYIglAnIrjL4HaoRS+LF+KBQ9NwqoQLxvqLPsaylEQLdLhPBatPxOg0S4lmHpeFKuMYq2EuouPRo/N48FCBaUJ5TC5qdWdwZ3PmaE/aUvL4ccOffU5acCuYDWtp//EzZsLG5lHjionDfPM0Mi96PqJDIaDXa3W4q08pUQjwOHP/O1nd581JC8nGyr42OtxGZ7zak8a5iA63Q4HPlbsI0p01bfLZKcO/vXHYj82jSwX3QjQOLZHCih43hv0uzEb09LEXBLzhDcYmCIJQJyK4y+ByKDiZtQCrHA8emsYFYwM5EWn5WJaSQoLbSsRYUe2iyQ6ylMTMKLn5aPO6jfPmQsFy/vx4MoWZcOMsJQCweWUAB0+F8Pn/OYAP3vkEhgNunLHCuCLiNLvLVn2HpyMAgA1Dhge5GZaS2YiOPq8TqinmFUJVEX0hLYGA27EkcWd1v6fo1aFM1GLGUlJJtOWpYOZvcSakY8jvWvK6qmpk05+Yj6YXTJ427MdZoz2YCmo5CyOtvzdr0SRzZhGpICASMTZBEIQ6EcFdBrdDQTLF6c5zKWbDOvaNL+Ilpw+XfJxawsOdTsQIVNHhdteWY9yqWMel2oFD1TBn7vvEXK4g3De+gA/e8TgSZoLMdEgDc2MiAS02j/ZCT6Tw//3vIVy9ZRR3/cWL0jaIjGXEFNwzYagKYe2AEa2nmoOOGpmmMReJ50RY1pJS0uNxLrl9VZ+36NWhk4sxDPic8DjVtOAut2gyGIvjks/eh3+59yAAYDasFYzeJBBW93sxMR/Dc9NhBNwOjPS48bxVxlWEA1ld7pNZwn/Ib/zNSVKJkOYVrzA2QRCEOhHBXYZsP2g5HnpmGszAi88oLbgtD3dhwa1hyO9Kv24l+LNyjDsBLd3hbqLgDhfucN/9xARu33UMh0wrRyaDuzEebgC47KwVeN2OdbjjHRfhizdcgFV93vR9DlNwW6Lvuekw1vR7c94PQwFXQwe0zIX1tH8bqM1Skr1g0mJ1vxcL0XhBq8jJBS19EmOllJSzRT383CwiehLf+e0RxOJJzEbiS/zbFqv6PJhYiOKZqRA2DvtBRDhr1LiKkG0rSS/e7DUWTQIybVLI4p3vNDZBEIQ6EcFdBncFecIWDxycRo/HgXPLDMlJe7j1pbGAU8FYVXYSoHLB0i7ElsHDbXXPF6LxnON2eMa4fLzPHAOebX1oFAN+Fz593XnYvmFwyX3p2L9QpsO9wYy0sxjyuxs6oGUuEs8T3NWllIT1RE4Gt8XqfuOYFVo4eXIxmvbF+9KLJku/fx88NAPAuJJ012PjmA0bJ6eFWNPvxQmzw21FAg4F3BgOuHMmTp7KylgfNgW3dLiFNK99rbEJgiDUiQjuMlQ6/IaZ8euD07h401C6S1mMch7uarupaQ9sh0ybtBZNNtNLm73vbFvJkRnD82slpFiCrJrJn/WQ8WhrYGYcno5g41DupMbhgKuhiyaNDnfGEmKllFRqUQrGEgXXLKzuNzr3ha4OnVzQMGqexLgcClyqUnZa6kPPTONFpw/hzJUBfPOhw5gN6UWnua7q82I6pOHEfBSnjWROWJ63Knfh5MnFGPpNa4tlKZEOt5BmYcHYBEEQ6kQEdxkcioKA21HWUnJkJoIT81G8uIx/G8iKBSzi4V5Z5QK9jODulA63aSlZBg83AJyYN7razIwj5iJFKwP85GIMqkJpMdZsHApBIcPDPRPWEdIShTvcDerCMjPmInqONcM6ISw2CTWfsJZAj2ep4F5ldrCzrw4lkil85mdPYTqkYVNWVr3PrZbscE+HNDx1MoiLNw3jjRdvwL7xRYT1ZNEO9yqzu86MdIcbAM4a7cHTk8H0wsvJxYzwtxaOSha3kObaa41NEAShTopHaQhpSqUtWPzajJd7cYER8flYlhItT3AnkilMh2rocLs6S3BrCdNS0kQP93xEh1MlxJOM42aHezasI6gl4HIo2D+xaGY0axgJuNMJHs2GiDDod2M6pOOwmbCxRHAHXJgN60ilOH3yVivReBJaIoX+PEsJYJz4uB1Lvdn5hLRE+j2YzcpeDxQCxs2Fk9MhDX/5n4/ioWdm8PoXjOFPL16ffmy5aMvfPmvYSS7eNITNoz34h589hcVYomiHe01/xhd/2nBG2G8e7YWWSOG56RBOX9GDycWMhUtRCIMybVLI5i//0u4KBEHoEKTDXQGl0hYsHjg4hTX9XmzIu/xfiLSlJC/KbyasI8XVRQICmQl/nRINaHW4Q1oC8Qq7rNUyF9GxYcgPl6qkLSWWf/tlZ44gGEvg2Gy0oUNvKmXYXBRpRdpZkYAWQwE3EinGYqz+ExKr0z/oz1hKrJi9/BPCYoRiiZyx7hZOVcGKHg8m5qM4OBnEtTc/iF1H5vCP15+HT73q3Bwx73erJVNKHjw0gx63sT7C53Lghh1jAFC8w52Vm74xy1Lygo2DIAJ+sOcEAOOK0mjW73fI31i7jtDmXHedsQmCINSJCO4KKNfhTqUYv3lmBi8+fXhJJnAhFCIQLbWUZKZM1ubh7rRFk0DzutxzZsLF6n4Pjpu/W8u//YfnrgIA/H58AacWtYYumKwEY8S4nhUJ6M25P7O4r35haKW1FOtwl4OZESqyaBIw/nZ++9wMrvvyQ9CTKdzxjovwmu3rljzO73aUzOH+zTPTeMFpg+n1EW950Ua87MwRXDA2UOR1jWO2osedU9u6QR9esWUVvvPbI1iIxDEVzP39DgfcYikpARGtI6JfEtF+ItpHRO8xb/87IjpBRHvNrTOy9KanjU0QBKFORHBXwOo+L2bCesEYP8BYNLYYS+CMlYGC9xdCISoguK0Iuu72cFuxgEDzfNxWFN6aAW+mwz0dhkLAZc9bAVUh7BtfwGQwtvyC2/RoH56OYN2AN72QMvt+AA3xcVuLRwt5uGOJ8h3uiJ4EM4oK7lX9XhybjWK014MfvutinLe28ARWv8tR9P17Yj6KwzMRXLwpsz5itM+Db71lR9HfjcepYtDvyvFvW7zjZZsQjCXwxXsPIpWXsW5ELkqHuwQJAO9j5rMBvBDAu4nobPO+LzDzVnO7274SG8j11xubIAhCnYiHuwKGzY7zbFhPd86ysS7t9xYY/lEMhWiJgK81gi5gebg7xlKS+XfMNympxBj24kSv14FfHpgCYFhK1gx40eNx4vSRAPYcmcd8JL7slhJL9BWKBLTuB9CQaEDLUpKTUlJiMFM+lkguZCkBgFdsWQWFCH//R1vQ5y3+9+F3Fx/m85C5PuLi04fK1pPNG164HusHl1q8zl3bhxefPoxv/+YwACztcEssYFGYeQLAhPl9kIieBLDG3qqayPveZ3cFgiB0CCK4K6BcBzkYM24vlNRQDEVZesn+VFADUcYyUCk+08PdKR3uWAUdbmauyL5T7LnzER39Phc8DhVTQQ2xeBJHZsJpv/Q5q3tx1+PjAKr31NfLcMCNoJbAM1MhXFggqzszoKUBHe5ClhKzoZ59paEYQUtwF+lw/+F5q/CH560qu59SiyYfemYGQ34XNq/sKbufbP76ijOL3vfOSzbhAVPIZ59QDQVcCOtJRPUkvK7yC0a7GSLaAOACAL8D8CIAf05EfwpgF4wu+Jx91TWInTvtrkAQhA5BLCUVEHCXHiwTNDvchcZbF0MhWrJo8tRiDMMBd9kc73ycqgKXQynpgW0ntHgSPlPsFJo2uRCN41X/+hA+cde+mvYf0hJIpBgDPifWmP7oiYUYDs9EsN5c9Hr26l7Ek0Z03PJbSgzxG4unCi7CHfS5QNQgD7d5BaHfW2eHu4jgrhQjFnDp692zfxJ3PTaOl5+1ouYTrEJcvGkI5601BlSNZne4LbuO+LhLQkQBAHcCeC8zLwL4MoBNALbC6IB/vsjzbiSiXUS0a2pqatnqrZmTJ41NEAShTkRwV0DAbYiRYoNlaupwF/Rw156I4XepHdXhtkRQvqUkqifx1m89gr3H5nFwMlTT/q2ueb/PlY6P2ze+gIVoPKvDnZkWuvyWkszrFbKUOFQFAz5XQ0ThXFhHr8eRc5KXEdzlO9wh871faPBNNfjdSzvcDx6axru+uwfnrO7Fx3aeXeSZtUFE+Ogrz8Z1F6zBcCC3ww3I8JtSEJEThti+lZl/AADMPMnMSWZOAfgqgB2FnsvMtzDzdmbePjJSPkLVdm64wdgEQRDqpOUsJUT0WQA7AegAngHwZmaet7Mmf7kOt2Z1uKsR3IVSSrScOLPqanSUjFVrJ2LxJIYDbhyeCeeklOiJFN55627sOjKHQb+rog5sIayu7oDPlU4AscaGrzcF99mre9OPr3YQUb0MZVmKCi36A4wueCNEoZXWkk0mpaT88S1nKakUv8sBPZFCPJmCU1Xw2LF5vO3bu7BxyI9vvnlHVVePKuXCDYNLLDvWyY6Mdy8MGZcZvgbgSWb+p6zbV5n+bgB4FYDf21Ffw/nQh+yuQBCEDqEVO9y/ALCFmc8D8DSAm2yuJy0mynu4KxcFqrJ00eSpYKxmv3CgQIewXdESKXhcKvq8zhwP95fvewb3HZjCp151Li5Y119wUmclZC8UHO0zhrM89Izh57UsHH1eJ9YNeuFSFfT7Gi/2SmHZGhwK5QxwyaZRaRpzppc9GzssJVaH3Dpp/NoDz8HjVPGdt+4oOtymGVh2HulwF+VFAP4EwMvzIgD/kYieIKLHAVwK4K9srbJRXHWVsQmCINRJy3W4mfl/sn78LQDbM5nK5VzXainJFjTxZALfUvYAACAASURBVArTIb3qDG4Ln0vtKA+3p8eNAZ8r3Y0GgMePz+Os0R68bscYHjg4XXOH27Kp9PtccKoKVvZ6cGQmAiIjp9li67oB7FcXGuodrgSrwz026Cvq5x8KuPHkxGLdrzUX0bEir4NvCe5KFk2GyqSUVIrf9OyH9QT6fE4cmY3g7FW9S2prNtaxnxYPd0GY+QEAhf4gOiMGMJ9jx4yv65ZmxwuCIFRDywnuPN4C4Ha7iwiUEdyLsThcqgKPs/JUg3wP91SwtgxuC7/bkRb+7U4snoTHqaLP58yxlBydjeA0c2qg26lU5DEuhJXMYVkp1vQbk0RX9XpyfoefuOactEd5OfG5VHicSnoBZyGGG2UpCcdxZl76h5VSUskJTajBHW6rY35sNoIrzxmta5+14HM54HOp0uEWDP7kT4yv991naxmCILQ/tghuIroHQKFP079l5h+Zj/lbGEMWbi2yjxsB3AgAY2NjTarUwO1QoCpU0lJSTXcbMERNVM8IxkwGd62LJh04WWb8fLugJVJwOxT0e53pJA5mxrG5CF52prHQyuNUoVUwmKUQc5E4iJDOhV4z4MWuI3Np/7bFoN+1xN+8HBARrt6yCjs2Lo0EtFjR68FCNI6InoDPVfuf8VxEx2ARS0lFHe5YAg6F4HbU506z1kmE9SRCWgKzYR3rBgvbaZrN2gEvfvvsDFIphqIs79UNocX4yEfsrkAQhA7BFsHNzJeXup+I3gTglQAuY2Yuso9bANwCANu3by/4mEZBRAi4i0/Cq0lw51lKZs2ua3ZCRTX43Y6CsWrtiNXh7ve5cGjKSCKZCmmIxVMYM7u+Hodac4d7PqKj1+OEaoopa+HkhuHiHeXl5guv3Vryfsv6cnwuuqRDXSmxeBIRPbnEI01VLJoMawkEPI66bTfWSUNYS+DYbASAYamxg3dfejrec9te3LHneMEx9EIXcXnJjypBEISKablFk0R0FYC/AXANM0fsrsfCWJRYLBYwXnWKQr6lZL7AxL/q6lM7ZtFkLJ6Cx6nkLJo8NmuMX183YApup1Kzh3s2Es85zmv6jX1uGCqcCNKKWGL06EztfyKZ91ye4AZBocpTSvx1dNgtshcmH7VZcF9z/mo8f/0A/vHnB9IZ+0KX8uyzxiYIglAnLSe4AdwMoAfAL8wV8P9md0GAccm7kR1uVQGSKUY8aXRprQEv/d7aLAw+swNf5IJA28DM0BJJuB0q+n1OBGMJJJKpdNfT6ux6nCoSWcevGubzkjmsDne+paSVWWfWbInTWrCuqhQ6yVMUqjiHu9r3fiGsQUcRPZn5XQ/YI7iJCB975dmYDmm4+ZeHbKlBaBHe8hZjEwRBqJOWWzTJzKfbXUMhCg3msAjG4hgukpdcDMsnG40n4VQVLER0EFWXdJJNwO1AIsXQkym4He07kjqeZKTY6GBbVw0WovG0CLPEsddc3Bgzj181zEV0jGRZdy7aNISP/OHzcOlZbTCIw2TQ74LfpdYluK20lkKxewpRRR75sJ6oe+gNkLsw+dhsBD1ux7LHMWZz/rp+XP/8tfjGA4fxugvHCg4gErqAT3zC7goEQegQWrHD3ZKUyrk2OtzVW0oAIGb6ruejcfR5nTUv0rI6hMWmYbYLMVPkGR5u45jOR+M4OhvByl53OkXE4zTeurX4uOfC8RwbhVNV8NaXnNZWJypEhHWDvvSJSC3MZg0AysewlFTW4a43oQQwrtAAQERP4NhcFGsHfcsex5jP31y5GYlUCj989IStdQg28rKXGZsgCEKdiOCukIYvmlQyHW7A8NP2e2vv6OXHqrUrminy3A4lnSIyHzEEd7bFwJ3V4a6WfEtJuzI26Kurwz1XYt0A0dLBTIUIaQ0S3E5rmmsSR2cjGLMpoSSbFb0ebB7txZ6jc3aXItjFgQPGJgiCUCciuCvEX0RwJ1OMkFZLh9v4mhbc0Tj66hCB6UVnbT78xhJ5bjOlBAAWojqOz0VzFtFZne5qowH1RAphPVnz4tRWwhLctfr2rTzyQicfChFiFQ6+aYTgVhQyhjeZlhK7/Nv5bBvrx96j80il2ntthFAjb3+7sQmCINSJCO4KKWYpsW7rrSEWEMhctl+I6HV1uDOWkvYW3Fq2pcQ8HlNBDeMLhs3AwuOozVKSnjJpQ752oxkb8kFLpNJDk6plLqIj4HbAVSBDu9KUkrCWbIiHGzBOag9Ph6ElMvGPdrNtbABBLYGDp0J2lyLYwac+ZWyCIAh1IoK7Qvxm7F5+N9GKDaslhxsAolke7noWiWVi1drcw51lKbGOx/7xRTCjYIe7WktJKRtFu2ElttRqK5kL6xjwFz4OikLQyhzbeDKFkJZIW3/qxe9S8dTJIIDMv81unr9+AADEVtKtXHyxsQmCINSJCO4K8bsdSPHSjqo1Tr1aS4k1dCXWIA939uCQdia7w93rcYIIePzEAoBMFJ51P1B9h3vO7HDnT1dsR8bqFdyReMEFk4CVUlL62Frjz4d7GnMsfS4HTszn5q3bzfohHwb9Luw+IoK7K/n9741NEAShTlouFrBVyY4t87oyaRYZwV1th9v4Go0nkUwxFmON8nB3Rofb41CgKIQ+rxP7xxcB5HY9Mykl1f1705aSDhDca/q9IKpdcM+GdQwFignu8sd2OmRYWYb8tU1HzSfbC752wP5Fk4CxeHTb2IB0uLuVP/9z4+t999lahiAI7Y8I7grJnoQ30pMRGBlLSW2xgFE9iWAsDmbUmVLSeR5uwDgm85E4XKqClb2e9OOsHO5orZaSIlaKdsLjVDHa66lZcE+HNGweLTwWXiFCuMzVA0twjzSqw22+h7PjH1uBbev7cc+Tk6YFp/1P1IQq+Oxn7a5AEIQOQSwlFeLP6nBnU3uH27SUJJLpEdv1eLiL1ddupD3cZgfb6vqvGfCmbThAPR7u4tnT7UitWdzMjJlQqQ43pTPRizFtWUoCjelwW+9hu0a6F2PbmOHjfvSYdLm7jgsvNDZBEIQ6EcFdIYGigrvGRZPmkY/qycxY9zoEt9uhQFUIkQ6JBfQ4Mh1uYOkiOkuQVxJd9/1dx/CuW3dDSyQxF9bhcSot1UGth1qzuBdjCejJVM7EzWwqsZTMWJaSRglu06rVKv5ti/PX9kNVCHuOzNtdirDc7N1rbIIgCHUilpIKKTZYZjFmxQLWOGkynkz7ivu8tXddiawc4/b2cFsL9SxBbKWJrMvz9KZzuCvocD9waBp3P3ESftfvweic7jZgCO7JRQ2xeLKqk4iMWC7S4VaMRZPMXHTi43RIg8eppIVyvVh/Y62SUGLhdak4e1WvLJzsRt77XuOreLgFQagTEdwVEnBbk/CWWkpcavUdU4UIDoUQjSex0IAOt1Fj8WmY7UJ68I2ZDW0tbsy3GVgd8MqyohMgAr6/+zgCbkfLCbp6sI7L8bkoTl8RqPh55ewgChGYAT2ZKjryfiakY8jvbtgIdr+rNS0lgDEA5/u7jyORTMGhyoXBruGf/9nuCgRB6BDkk6NCAm5DDOd3kIOxeNV2EguPU0VUT2U83HXmGfvdjg6YNJnb4e4rYilxqmTaHspbSsJaEtvGBnDlOSsR0hIdkcFtsc4cgV6tj3umTMKIZZcvdXynQhqGexpjJwFat8MNANvWDyCiJ2UATrexdauxCYIg1IkI7goplgISjCXqEtzZiybrHSDid6kItb2lJL/DbRyT/K4nERnHr4IOd0Q3xo//02u24oKxfpy7pq/BVdtHrcNvrISR4SKWEqtrXcqyMx3SMVLk+bUwHHBBVQgbhltPcK81feUnF2M2VyIsK488YmyCIAh1IpaSCrEudxdaNFltJKCF16UgpicxH9XR43bUfana73Yg0vaWkhRcqpHBDQAvOn0YV50zWtAu4XGqFcUChvUk1gyo8Lsd+ME7L26YBaIVGAm44XEqNQhucwBQkZi7SjrcMyEN5zXw5OWaratx7to+rOjxlH/wMmMdp7mwbnMlwrLygQ8YX8XDLQhCnYjgrhBFMRYlFvJw19rh9lqCMQL0NcDm4HM5MBuuLZO5VYjFk+kEEgA4c2UP/u1Pnl/wsV6nWpGlJKIl0pM4O0lsA8a/p5akkpmwhgGfs+hJXnZsZSFSKcZMWG/YlEkAcDtUnDXa27D9NRJrMumsCO7u4uab7a5AEIQOQQR3FfgLLEoMxhI1XwK3BLeWSNW9YBIwFnZG2nzSpJZIVbwA1e1UymZFA0aHO3uKYaexut+LiYVoVc+ZDuol87OVtKWk8AnNfDSOZIobNmWy1enxOKAqlM5xF7qELVvsrkAQhA5BPNxV0ON2NNRS4naqRg53REd/HZGAFoVOCNoNLZ5M+7fL4XGoFcUCRvQEfA2KrmtF+r1OLEar+73PhLWikYBAJie+2AmNteiykYsmWxlFIQz4XJgNx+0uRVhOHnrI2ARBEOqkc9t+TaBYh7seS8l8NI5gLI5V/d7yT6igvrafNJmoPE/a41TKWkr0RArxJKcTMDqRXq8zHS1ZKdMhHeesLm7fyM6JL8RUmUWXncig3yke7m7jwx82voqHWxCEOulcFdIE/O7cwTKpFCOkJ2pfNOlUcXIhhoVIvO5IQMBY2KklUm2dFazFU/A4K+xwV5BSYk3e7OQOd5/XiWAsjlSK04tNyzEd0iqylBQ7oZlp8Fj3dmDA58KsWEq6i698xe4KBEHoENpTldlEwO1AMKuDHNITYAZ6a+1wu1RE4gnMR+MN8XB7qhh33qrEEsn0UJtyWLGKpQibnnYrZaYT6fU4kWLj/VgJsXgSwViiZHc6k1JS+PhmYgW7R3AP+l3S4e42Nm82NkEQhDoRwV0F+ZaSoDnWvZ4c7umgjmSKG+Lh9roqn77YqsTiqZyUklJ4nAqiZRaJWjGJPndnd7gBYLFCW4mVtDFUUYe7uOBWFWrIlZl2YcDvkpSSbuP++41NEAShTkRwV8FSwW0InFotJR6nks6RbkQsYDXjzu3kyEwY//vUZMH7tGo63I7ysYBd0eH2Gv+2Sn3clXSn0yklRa6WzIR0DPpdFVtYOoFBnwtzER2pFNtdirBcfPzjxiYIglAnIrirID+lpN4OtzdrcWAjOoWeNulwf/Ohw3jXrXvAvFS4xOKVxwJ6XGp6MmUx0h3uDvZw96Y73JVZSiz/dUUpJSU63ENFhuZ0KgN+F1IMLMYkqaRr+PrXjU0QBKFOWlZwE9H7iIiJaNjuWiz87syiRCBzCb+eRZMW/b76xYvHjNOrZBiMncTiScTiqfRI+/z7qokFrLjD3ckpJeb7r+oOd4kM7XId7qmQjpEuiQS0GPQbx1lsJV3EaacZmyAIQp20pOAmonUA/gDAUbtrycYSbVZSSd0dble24K6/w23tr5Jx53ZiDVOZWIgtuc/wcFcTCygpJWkPd4WdV2use6kpkUTGVuz4zpRJOelEBsyTYhl+00Xcc4+xCYIg1ElLCm4AXwDwNwBayiwZMBfeBTVD2GQ83LUvmrRoiKXE2R6WEs28QjC5uFRwa4lkVbGAiRSnrzgUwjo56ugOd5WLJmdCGrxONT3uvhAEgttR+ISGmbvSUmJN1eyE4TdE9B4i6iWDrxHRHiL6A7vrajn+/u+NTRAEoU5aToUQ0bUATjDzY0SttSArv8O9aHa4extgKeltgOC29lcuucNurA73yUKCO56Cu+JYwEwMYqBI7ni4CzzcPW4HiCoX3NMhrWR328LjVAtaSiK6YQnqlimTFgOmpaRDogHfwsxfJKIrAQwA+BMA3wHwP/aW1WJ85zt2VyAIQodgi+AmonsAjBa4628BfBiGnaTcPm4EcCMAjI2NNbS+YgRMwW0tnAzGEnCqVLHnOB+rI+11qhUvFCy9v/bI4dbNjvTJPEtJMsXQk9UNvgGME4xAkQ52OG0pablzy4ahKIQet6NiD/dMWE93a0theOSXnrxZHvBu63APmv/eDhl+Y3UzXgHgO8y8j1qtw9EKrFtndwWCIHQItqgQZr680O1EdC6AjQCs7vZaAHuIaAczn8zbxy0AbgGA7du3L4v1JJDucFuCO44ejxO1fk55XYawbIR/G8iylLR4h1s3k0XyLSW6eaJQcUpJBTGIEd2wqKgdHl/X53Omr7iUYyqoYe2Ar+zj3E6l4KLU9KLLLutwe50q3A6lUzrcu4nof2D8f3sTEfUAaO0zdTv4+c+Nr1ddZW8dgiC0PS3V9mPmJwCssH4mosMAtjPztG1FZeFfIrgTNfu3gYyw7GvQ8JC04C4TlWc3lk0h31JiCeeKU0pMm0ipaMCwlija/e4kej3OqjrcW9f1l31c8Q63IThHumzRJBFh0O/CTGcI7j8DsBXAs8wcIaIhAG8u9yRzQfu3AayEscbmFtOaMgjgdgAbABwG8BpmnmtS7cvHZz5jfBXBLQhCnXS+EmkglnAL5nS4az+Elue6UR3udvFwW53sfEuJdaJQeYe7fAxiRE92tJ3Eos9bmeBOpRizYb2ihBGPUyloT0pbSkrkeHcqA772Hu9ORNvybjqtyit0CQDvY+Y9Zld8NxH9AsCbANzLzJ8hog8B+BCADzaiZlu57Ta7KxAEoUNoaSXCzBvsriGbgh1ud+1i2Yrxa8RYdyA7paS1rwxbHe58S4m1mLJaD3cpS0lYS3T0gkmLXo8Tz0yFyj5uPhpHMsUViWW3s0iHO2gOzqnAB95pDPpd7e7h/nyJ+xjAy0s9mZknAEyY3weJ6EkAawBcC+AS82HfAnAfOkFwjxZaaiQIglA9LS24Ww2/GQsY1hJgZkwsxHD+ur6a92d5kK30g3pRFYJLVVo+h9vqcM9F4ojFk0usMJWnlJQ/wYjoyY6OBLSotMM9U8FYdwuPUy24z5mwhl6PA64aFwu3MwN+F47PRewuo2aY+dJG7YuINgC4AMDvAKw0xTgAnIRhOSn0nGVf7F4Xd91lfN250946BEFoezpfiTQQt0OFS1UQ0pLYe2weJ+ajeM9lZ9S8P6vD3degDjdgLXRrfcHtVAnxJGNyMYb1Q34AGeFceYfbspSU6HDrXeLh9joqGnwzVYUdxONQcKpISkm3LZi0GPK7OmbSJBFtAXA2AI91GzN/u8LnBgDcCeC9zLyYbUthZiaiggvZ7VjsXhefNy8IiOAWBKFOOl+JNBi/W0VYS+BHe8fhcii46tzaLzn6XCqIGhuv5i1iA2gltEQSawd8eG46jJMLGcGtmXV7qu1wl1g0GdGSWNnjKXp/p9DndSIWT0FLJEteIZipYsFjMUvJ+Hys66ZMWgz4XFiMJRBPpuAskv3eDhDRx2FYQM4GcDeAqwE8AGNBZLnnOmGI7VuZ+QfmzZNEtIqZJ4hoFYBTTSl8ubnjDrsrEAShQ2jfTwyb8Jt5xz95fByXnbWi5qE3ANDjceLf/3Q7/nj72obV52kDwa0nUlg3aMTSZSeVWAv0Kh7t7ii/SDSsJ+Bzd4GHOz1tcmk04ExIwyfu2odbf3cET5xYAAAMVWIpcSyNBTy1GMNjx+fxwtOGGlB1+zFo2r/mI20/bfJ6AJcBOMnMbwZwPoCy/jgzq/trAJ5k5n/KuuvHAN5ofv9GAD9qbLk2MTxsbIIgCHUiHe4qCbgduP/pKSxE47h265q693fZ8wpaHWvG61Rb38OdTGG9KbizF05WHQtYwaCfiJ6Ev0tSSgBgIRrHSJ7d49cHp/GNBw+nf3YohP4Koig9TnXJ1YO7n5gAM7DzvFX1F92GDJhXo+Yi+pLj3GZEmTlFRAki6oXRka5kysuLYEylfIKI9pq3fRjAZwB8j4j+DMARAK9pRtHLzg/MBv5119lbhyAIbU/nK5EGY3W4ez0OXHrWiN3lLMFTZFhJq5BKMeJJIyXD61RxckFL36dVO/jGyuEul1LSDR1u80pLIR+3FWP5/XdchOemwvC6VCgVDALyOJV0cozFjx8bx1mjPThjZU8Dqm4/Bn2G4J4J6UWWBbYNu4ioH8BXAewGEALwm3JPYuYHkJlSmc9ljSuvRfiXfzG+iuAWBKFORHBXibUA7xXnrqo4TWM58bR4h9sa6+52qFjV5ynY4a540WSZSZOJZApaItUVHe7erA53PlaM5Tmre3HhhsGK92l1uJkZRIRjsxHsOTqPD1y5uTFFtyHZHe52hpnfZX77b0T0cwC9zPy4nTW1JD/qDGeMIAj2Ix7uKrEEdyPsJM3A41RLdnztxuqYuhwKVvZ6cjzcWry6WECnSlCoeCxgxNxfN+Rw93mN9+ViAcEdiiWgUGYwUqW4HQqYMydJP33CSH275vzVdVbbvgyagrvdk0qI6MdE9Hoi8jPzYRHbRejrMzZBEIQ6EcFdJWsHvThtxI8XbKy8U7ictLqHW0tmfNqjfZ6caZMZS0llb0siKrlINKIZt3dDDndm0WQBwa0l4Hc7UOVEwSU553c9No6t6/rTC167EWsqbDtPmzT5PIAXA9hPRHcQ0fVE1PlxPtVy++3GJgiCUCciuKvkb648Cz/9i5dU5IG1g1b3cFtDb6wO9+RiDKmUEcebsZRU3okttLDPImRaKbqhw53xcC9NKQlptWWRW2kxWjyJZ6ZC2De+iJ1d3N0GjKsvAbej3adNgpnvN20lpwH4CoxFjp0R5ddIvvxlYxMEQaiTzm/9NRhVofTAmlbE62rxDrcV/edQMNrrRiLFmAkbiQ+xeAoKGSkaleJxKIjqRSwluiE+u2Hwjcepwu1Qinq4a+nyWxaUK77wKySSKRABr+zSdJJsBv2uTuhwg4i8AHYCeC2AbTBGsgvZ3H233RUIgtAhdL4S6TLcjtbO4dazBXefcQV7cjGGkR43tIQx5r0a60OpDndYszzc3fE27/U6i1pKajnpuGTzCN764o3pk6TNoz1Y2SuugwG/C7NtnsNNRN8DsAPAzwHcDOB+Zm7dS2N24ete+5QgCI2lO5RIF+F1tbbg1rIsJQNmxNrJhRi2rOlDLJ6qyk4CGLaHYotErQ63vwtiAQEji7tQh7tWwT0ccOMjrzy7EaV1FIM+J6ZD7dvhJiIFwF4Ar2Pm1v3PohX4j/8wvr7hDfbWIQhC2yMe7g7D41ARTzISydZsVmU63Gq6w20llcTiyYqH3lh4S3jWw3p3dbj7vM6COdzhGgW3UJgBv6utU0rMTvYfi9iugH//d2MTBEGoE/kU7jC8rsz0xYDaeudT2YsmRwJuKJSZNqklqu9wl04p6a4Od6/HgamQtuT2UKw2D7dQmEFfewtuk3uJ6NUAfsDMbHcxLcsvfmF3BYIgdAitp8iEushEubVm80oz/dYuVYFDVTDS405HA9bS4S7p4e7GDne0cEpJj6c7jsFysG7Qh6iZ3NLGvB3A9wHoRLRIREEiWrS7qJbD6TQ2QRCEOhHB3WFYgjuqt6bgTltKzKztVX1ePDcdBmB05d1Vd7iLW0oiXRQLCBiLJvM93Mxs5nB3xzFYDq7eMgqFgB/uOWF3KTXDzD3MrDCzk5l7zZ977a6r5fjmN41NEAShTkRwdxiW4NaKdH3tJr1o0rS7XLJ5BLuPzuHEfBRaPAlPtR1uh1r05CKsJ+FyKHC2oLWmGfR5nQjG4ulcc8AYWpPi7hj+s1ys6PXgxWeM4IePnsg51u0EGbyBiD5q/ryOiHbYXVfLIYJbEIQG0R1KpIvwpjvcLb5o0qzz1dvWghn44Z7jiNXg4XY71aInFxE9AX+XdLcBY/hNioGQnrGVWMN/ekRwN5TrLliDE/NRPHJ41u5SauVfAVwE4PXmzyEAX7KvnBblvvuMTRAEoU5EcHcY1lj0Yr5mu9GSuR3udYM+7Ng4iDv3nDA63BWOdbcoZSkJa8mu8W8DRocbyB3vHkovHO2e47Ac/ME5K+Fzqfjho21rK3kBM78bQAwAmHkOgMvekgRBEDoXEdwdhrfFPdxWZrYryzpy/ba1eG46jEOnQnA7GphSoneXd7nXa4jqbB93WOueaZvLic/lwNVbVuGnj0+07ALlMsSJSAXAAEBEIwBa87KYnXz1q8YmCIJQJyK4O4xWTynRk5lJkxZXnzsKj1NBIsVVd7i9ThWJVOHc8bDeXR3u3nSHO2MpCcZEcDeL67atQVBL4J4nJ+0upRb+BcAPAawgov8H4AEAn7a3pBbk9tuNTRAEoU7kU7jDSKeUtKjg1uK5lhIA6PE4cdU5o/ivveM15HAXzx2PdFk6R6/HENwFO9wSC9hwXnjaEFb1efCDPSfwyvNW211OVTDzrUS0G8BlAAjAHzHzkzaX1Xrcc4/dFQiC0CG0ZIebiP6CiJ4ion1E9I9219NOWAJUK+Jrths9mYJLVaAolHP79c9fBwA15XADhTv6YT0Jfxd1uNMe7ph4uJcDVSFct20N7jtwCuPzUbvLqQoi+g4zP8XMX2Lmm5n5SSL6jt11CYIgdCotJ7iJ6FIA1wI4n5nPAfA5m0tqK7wt3uHWE6kc/7bFRZuGcNlZK7B9w2BV+/M4igtuw8PdPUKzt8SiSbGUNIcbLhwDA7jtkWN2l1It52T/YPq5n29TLa3Lv/6rsQmCINRJWcFNRGcS0b1E9Hvz5/OI6CNNrOmdAD7DzBoAMPOpJr5Wx9HqHm4tkSwouFWF8LU3XYgrzxmtan/WAJ2CHW4t0TVDbwAj+o8oV3DLosnmsm7Qh0vOHMFtDx9FvMA6glaDiG4ioiCA87ImTAYBnALwI5vLaz3uusvYBEEQ6qSSDvdXAdwEIA4AzPw4gBuaWNOZAF5CRL8jovuJ6MImvlbH0eoebj2Rqto2UorMCUaBRZNasqs63IpC6PU4MZ/X4SbqnmmbdvD6F6zHqaCGe59s/d4AM3+amXsAfDZrwmQPMw8x801219dy/OxnxiYIglAnlagRHzM/TJTjuU0Ue3AlENE9AAq1Mv/WrGkQwAsBXAjge0R0GjPnjHQjohsB3AgAY2Nj9ZTTUagKwaUWz6a2G62IpaRWinX0kylGNJ7sOqE55HdhJqSnYFZwlQAAIABJREFUfw5pCQRcDuT9/QoN5NLNI1jV58F3Hz6Kq7ZUd4XGLpj5JiJaA2A9sj4HmPlX9lUlCILQuVQiuKeJaBMyea3XA5io50WZ+fJi9xHROwH8wBTYDxNRCsAwgKm8fdwC4BYA2L59e3vOV24SxjCY1u1wuxo4at0aBZ9/gmF1+Ltp0SQADPe4MRXS0j+HYt3lY7cDh6rghgvH8IV7nsbRmQjGhnx2l1QWIvoMjCuV+wFY/1kwABHc2Xzxi8bX97zH3joEQWh7KlE+7wbwFQBnEdEJAO+F4bNuFv8F4FLA8I/DmH423cTX6zhKDYOxGz2RSvuuG4HXVbjDHTG9y74uigUEgJGAG9NZgjusJyQScBl47YXroCqE7z581O5SKuVVADYz8yuYeae5XWN3US3HvfcamyAIQp2U/SRm5mcBXE5EfgAKMwebXNPXAXzdXKSpA3hjvp1EKI3Xpbash1trdIfbspTkjbIP613a4Q64MBXMCO6gdLiXhdE+D975sk04e3Wv3aVUyrMAnAC0cg/san78Y7srEAShQyj7SUxEf533MwAsANjNzHsbXRAz6wDe0Oj9dhMeR4t3uKsc316KTCxgrqXESufoNg/3cMCNYCyBWDwJj1NFWEsg0GVdfrt4/5Wb7S6hGiIA9hLRvcgS3cz8l/aVJAiC0LlU0vrabm5WNtIrATwO4B1E9H1mlsE0LYbHpSLasosmk+j3uRq2P2vQT35HP2J1uLusuzvc4wYAzIR1rOn3IqwlMWLeJghZ/NjchFJ8zhwD8f7321uHIAhtTyVqZC2AbcwcAgAi+jiAnwJ4KYDdAERwtxgeR+summx0SonbtJRo8XxLSXd2uEcChrieDmpY0+9FSBNLibAUZv6W3TW0Bb/5jd0VCILQIVTySbwCuT6/OICVzBwlIvH/tSBel4rZsF7+gTagJxudw1148E1E6+4Ot7VwMqQl0NNlx0AoDhF9j5lfQ0RPwEyeyoaZz7OhrNblzjvtrkAQhA6hkk/iWwH8joisKWQ7AXzXXES5v2mVCTXTyh5uLd7YDrdLVeB1qpgNx3Nu79YO93DAsOtMhzQws3S4hXysfLtX2lpFCfZPLOK1X8l0lq/dugavf4HMWhAEob2pJKXkk0T0cwAXmze9g5l3md//n6ZVJtRMK6eUGB3uxolgIsLaAS+Oz0Vybrc6/I30i7cDw6alZCqoQUukkEyxxAIKaZh5wvx6xO5aCnH+2n48dnwep8yknYmFKADYJ7g/8xnj64c+ZM/rC4LQMVT0SczMjxDREQAeACCiMWZum8DZbsMYfNOiiybjyYZaSgBg3aAPx+aiObcdnY1g0O9CoMu6ux6nih63A9MhHcGY0eXvtmMgtC87Ng5ix8bB9M9f/fWzNlYDYG/Dg7gEQehSKokFvAbA5wGsBnAKwBiApwCc09zShFrxOFXE9NbtcDfSUgIA6wa8eOTwbM5tR2ciGBts/Yl/zWDEnDZpRSN2Wxa5IDSM226zuwJBEDqESpTPJwG8EMDTzLwRwOUAftvUqoS68DjVJYNgWgFmNnO4Gyu41w74EIwlsBDJ+LiPznav4B4OuDEd1BAyBbdYSgQLM3cbRPQPdtciCILQTVSifOLMPANAISKFmX8JI5dbaFG8ThXxJCORbC1bSSLFSDEaOmkSANYNegEAx0wfdzyZwon5aPcK7h4XpkNZglssJUKGVUR0MYBriOgCItqWvdldXMvxyU8amyAIQp1U8kk8T0QBAL8CcCsRnQIQbm5ZQj2ko/ISKQQaLG7rQU8YJwBuZ+M73ABwfC6CLWv6MDEfQzLFGBvqUsEdcOOB4HTaUiKCW8jiYwA+CmO+wj/l3ccAXl7qyUT0dRgJJ6eYeYt5298BeBuAKfNhH2bmuxtYs30cOGB3BYIgdAiVfBJfCyAK4K9gpJL0AfhEM4sS6sNrDoOJ6smWEluaKbgb3uE2BfexWWPh5NFZo9PdtR3ugBuLsUQ6qUViAQULZr4DwB1E9FFmrqV1+00ANwP4dt7tX2Dmz9VbX8vxH/9hdwWCIHQIlSifjzFzipkTzPwtZv4XAB9sdmFC7VjTF1sti9vqcLsaGAsIAH0+J3o8jnQ04JFZ4wJMtwpua5S7deLRIx5uIQ8z7vUaIvqcuVWUy83MvwIwW/aBgiAIQg6VCO4rCtx2daMLERqHt8UFd6MXTQKGrcSKBjw6G4FLVTDa62n467QDVhb3c9PGiYd0uIV8iOjTMIbg7De39xDRp+rY5Z8T0eNE9HUiGijxujcS0S4i2jU1NVXsYa3Dxz5mbIIgCHVSVPkQ0TvN8b+bzf9Ire05AI8vX4lCtXjSgru1Fk1qZnJKo2MBASMa8JjZ0T06E8HaQS8UhRr+Ou2ANW3yyEwERIDP2V3TNoWK+EMAVzDz15n56wCuQu3TJ78MYBOArQAmYMTIFoSZb2Hm7cy8fWRkpMaXW0aOHTM2QRCEOinV+vougJ8B+DSA7DFbQWaWS4otTNrD3WId7rSHuxmCe9CHXx+cBjN3dSQgkOlwH54Ow+9ydO2Jh1CWfmTsIX217oSZJ63vieirAH5SZ12twze+YXcFgiB0CKUEtwpgEcC78+8gokER3a1LOqWkxQS3nmympcSLaDyJmbCOozMRPH990avaHY/l4Q5qCazsddtcjdCifBrAo0T0SwAE4KXIbaxUDBGtskbGA3gVgN83pkRBEITOoZTg3g0jJgow/kPOhgGc1pSKhLrxtKiHW4s3scNtJpU8cWIBQS3R1R1ua7x7UEu0VEqN0Dow838S0X0ALjRv+iAznyz3PCL6TwCXABgmouMAPg7gEiLaCuNz4TCAtzejZlu46Sbj66c/bW8dgiC0PUU/jc2pkkIb4mlRS0mmw914T/E6U2A/dGgaQPcmlFgM97hFcAslMbvSP67yOa8rcPPXGlNRCzIzY3cFgiB0CBV9GhPRNTAuOQLAfczcOR69DsTrMgSt1mqLJs0TgGZZSgDgwUPGB2S3Dr2xGA648Nx0WMa6C0I93HKL3RUIgtAhlFU+RPQZNDY+SmgyHlPQtmqHuxmWEr/bgUG/C/snFgFIh9taOOl3ieAWBEEQBLup5NP4FQC2MnMKAIjoWwAeBfDhZhYm1I7V4W41D3czc7gBIxpwNqxjOOCGr8uFpiW4pcMt5ENEKoB9zHyW3bW0PO9/v/H1c503RFMQhOWlUuXTn/V9zfFRwvLgcbSmh7uZsYCAMfwGAMYGvU3ZfzthJZWIh1vIh5mTAA4Q0ZjdtbQ80aixCYIg1EnRT2Mi+hKA/wTwKQB7zBXtdcVHCcuDohBcDqXlBt9kOtzNGcSy1hTa64f8Tdl/O5G2lIjgFgozAGAfET0MIGzdyMzX2FdSC/KlL9ldgSAIHUKpT+OnAXwWwCoA98KIe9qLCuOjBHvxOJSWs5Q0c9IkkIkGXNfl/m0gM21SOtxCET5qdwGCIAjdRFHlw8xfZOaLALwMhvi+DoYAv5GIzmhWQUS0lYh+S0R7iWgXEe1o1mt1Ml6Xilg8iWSK8cavP4xbf3dk2V77vbc9ip8+PrHkdqvD7VKbZSkxOtzdvmASMGIBARHcQmGY+X4YTRSn+f0jAPbYWlQr8t73GpsgCEKdlFU+zHyEmf+BmS8A8DoYk8SeamJN/wjgE8y8FcDHzJ+FKvE4VUTjSdy5+zjuf3oKe47ML8vrxuJJ/Nfecdz2yNEl9+mJFIgAp9qcUePPXz+Aa7euxkvPHG7K/tuJsUEfXA5FTj6EghDR2wDcAeAr5k1rAPyXfRUJgiB0NmXbX0TkAHA1gBsAXAbgPgB/18SaGECv+X0fgPEmvlbH4nWqmIvE8flfHACQsXM0mxPzxgKjPUfmkEim4MjqZmuJFFyqAqLmCO4ejxNfvOGCpuy73RgOuPHIhy9Hr1c63EJB3g1gB4DfAQAzHySiFfaW1IL88z/bXYEgCB1CqUWTV8DoaL8CwMMAbgNwIzOHiz2nQbwXwH8T0edgdOAvLlLfjQBuBICxMVlsn4/bqeLXB6fADPhc6rItoDwxZwjusJ7E/olFnLc2E3CjJVJN828LS+nzOe0uQWhdNGbWrZNfs7HC9pYkCILQuZRqf90E4LsA3sfMc418USK6B8Bogbv+FkYX/a+Y+U4ieg2MscGX5z+QmW8BcAsAbN++XT4o8vA6FTADV5y9EtMhbdk73ADw8HOzSwR3sxJKBEGoivuJ6MMAvGZz5V0A7rK5ptbj3e82vkpaiSAIdVJq0eTLmfnfGy22zX1fzsxbCmw/AvBGAD8wH/p9GJc9hSrxOFWoCuGDV50Fj0NdtjHvJ+aiUBXC2gEvHn5uNuc+PZFq2tAbQRCq4kMApgA8AeDtAO4G8BFbK2pFvF5jEwRBqJNWNHiOw0hGuQ/AywEctLWaNuVPL1qPq7eM4vQVAbidCubC+rK87on5KEZ7PXjhaUO498lJpFIMRTEuW+tJEdyC0Aowc8qcGvw7GFaSA8wsVwrzkQmTgiA0iFYU3G8D8EXTUxiD6dMWquPlZ61Mf+9exiE4J+aiWNPvxY6Ng7hj93E8MxXCGSt7gP+/vXuPk6Ou8j7+OXPrSebCZHIjJIEMimBEiTCGi7oLGJSLyIIgeL/js6sL7KOu+OAq3lddRXR3legqKioogiAICCwoKAICAUIA5U5CSCAXJjOT6UnPnOePqp50Jt2Znunpqa6q7/v1qld3V1d3n57qVJ+cPvX7AdltQ+rhFqkBZnYc8F3gUYIJzbrM7EPufk20kYmIJFPNJdzufitwUNRxJElzY/2U9nAv7erk4K5OAG5/fONIwj04pJMmRWrE14Ej3P0RADN7EXA1oIS70OlhvWf58mjjEJHYU/aTApmGOrK56le4c0PDPNszwPyOaezZOZ05bRnufGJ7H3d2m1pKRGrElnyyHXoM2BJVMDVr5sxgERGpUM1VuGXyNTfWT8k078/2DDA07MyfMQ0zY2lXJ7c/thF3x8wYHBqmuVEJt0hUzOyk8OpfzOy3wC8IerhPIZhtUgp9+ctRRyAiCaHsJwWmqsL9zOYBAOZ3BGf1L+3q5NmeAVaHY3MPalhAkagdHy7NwDqCE9QPJxixRMNxiIhUiSrcKZCvcOcrzdWyZnM/APNnBN/b3XsFfdx3P7WJhZ3TyeaGaKrX//FEouLu7406hlh5b/jn+uEPo41DRGJPCXcKZBrqGHbIDTuN9VVMuMNKdr7C/aI5LdQZPPpcMDnpoGaaFKkJZtYF/DOwiILvAXd/U1Qx1aSFC6OOQEQSQgl3CjQ3Bm0cA9uGaKxihXnN5q3Mam0aeb1MQz0LZkznsed6gfxMk0q4RWrArwlm8f0NMDVjhsbR5z4XdQQikhBKuFMgn+Rmc8O0VfF1VodjcBfae3YLjz+vCrdIjRlw929FHYSISFoo4U6BTEGFu5rWbN7KfrvvmNJ3zWrhjseDkUp00qRIzTjfzD4D/A7I5le6+93RhVSD3vGO4PKii6KNQ0RiTwl3ChRWuMfjqQ39dLQ00t7cOOa27s4zm7fyuv3m7LB+79mt9A8Osa4nS1YVbpFa8XLgncCRbG8p8fC25O27b9QRiEhCKOFOgXxVebwV7lMu+BMnLJnP/zv2pWNuu6FvkIFtwzu3lMxqAeDR53o106RI7TgF2NvdB6MOpKb9279FHYGIJISynxTITzYzngr3tqFh1vVkR0YeGcvICCUzpu+wfu/ZQcL90LPBJHY6aVKkJqwEOqIOQkQkLVThToF8hTu7rfyEe1NfUPja0JcdY8vAms1Bwr1HR/MO6+e2NTOtsZ6H1vaEsSjhFqkBHcBDZnYnO/Zwa1jAQqedFlxefHG0cYhI7CnhToF8hXsgV35LyYYw4d7YV94vzvkK94KOHSvcdXVG16yWkQq3WkpEasJnog4gFpYsiToCEUkIJdwpMJEK98YyEu6f/PlJvnbtQ7zt4L1Y+8JWWjMNtE/b+SPVNbuFG1atC2NRwi0SNXf/fdQxxMLZZ0cdgYgkhBLuFNjewz3+Cvem/m0MDzt1dTvPUPnwsz30ZnMs/8OjDDvsO7et6NTxL5rVwtVh/7gq3CLRM7MtBKOSADQBjUCfu7dHF5WISHIp4U6B/Djc46pw9wZtnUPDzgtbtzGjpWmnbXoHcsyfMY0fv+9gfnDr47x0XvHv6q7wxElA43CL1AB3Hxkw34L/JZ8AHBJdRDXqzW8OLn/1q2jjEJHYU8KdAs0N4+/hLmwl2dA3WDzhzg7Rmmmka1YLn/+H/Us+196zWkeuN1VxankRGT93d+DX4UQ46qEodOihUUcgIgmhhDsFJlLh3lCQcJfq4+7NbqM1M3bFurDCrZYSkeiZ2UkFN+uAbmAgonBq18c+FnUEIpIQSrhTIH+i4ngmvtnYN4gZuMPGEkMD9mZzzG7NjPlc7c2NzGrN8HxvVidNitSG4wuu54AnCNpKRESkCpRwp0BjfR31dTauiW829A2yZ+d0ntzQv0O1u1BfdoiuWWNP+w7BBDjP92ZV4RapAe7+3qhjiIU3hcOSX3lltHGISOwp4U6JTEPduCvcL57dypMb+tnYWzzh3jKQK6ulBIIp3u94fKNOmhSJkJl9ehd3u7t/fozH/wB4I7De3fcP13UClwCLCCrlb3H3TZMScNRe97qoIxCRhFC5MSWaG+vHVeHe2DfI7rs105pp2EWFO0drprz/s+WneFeFWyRSfUUWgPcDnyjj8RcCR49adzZwo7vvA9xIkk68PPPMYBERqZAq3Ckxngr30LCzqX+QmS1NdLY0FT1pMjc0zNZtwSgl5Thq8e6seHozC2ZMG1fcIjJ53P3r+etm1gacCbwXuBj4eqnHFTz+D2a2aNTqE4DDw+s/Am6mvORdRCQ1Iik3mtkpZvaAmQ2bWfeo+z5pZo+Y2cNm9oYo4kui8VS4N/cP4g6dYcK9qX/nhLtvMEjeW8psKema1cJ/v/0gmhvVUiISJTPrNLMvAPcRFF0OdPdPuPv6CT7lXHdfG15/Fpg7GXHWhGOOCRYRkQpFVeFeCZwEXFC40swWA6cBLwP2AG4ws5e4e/nNx1JUpqGu7Jkm8xXtztYMM1uaWPvCzqOF9WZzALQ160cSkbgws68RHHuXAy93997JfH53dzPzUveb2enA6QB77rnnZL50dRx//NjbiIiUIZIKt7s/6O4PF7nrBOBid8+6++PAI8DSqY0umTKN9QyUOQ53vmd7Vy0lvQNBwt1SZg+3iNSEjxIUMz4FPGNmPeGyxcx6Jvic68xsHkB4WbJS7u7L3b3b3btnz549wZebQv/0T8EiIlKhWjuDbT7wdMHt1eE6qdCEKtwtTXS2Bgl3MBnddvkKd7knTYpI9Ny9zt2nuXubu7cXLG3u3j7Bp70SeHd4/d3AFZMTrYhIclQtWzKzG4Ddi9x1jrtXfECO3U+TEWturKdn67ayti2scM9saWJwaJjebI625u0nSKqlRCR9zOznBCdIzjKz1cBngH8HfmFm7weeBN4SXYSTbNmy4PKGG6KNQ0Rir2rZkrsvm8DD1gALC24vCNcVe/7lBH2IdHd3l+wZlEBQ4S6vpSQ/7vaMliY6W4KZJDf2De6QcPdl1VIikjbu/tYSdyVzwOpTT406AhFJiFrLlq4EfmZm3yDoM9wHuCPakJIh01BHtsxhATf2ZWlvbqCxvo6ZLU1AUPXea2bLyDb5Hm61lIhIYn3wg1FHICIJEdWwgCeGP0ceClxtZtcBuPsDwC+AVcC1wIc1QsnkGM+wgBv6BpnZGlS2O8OEe/Rsk1vUwy0iIiJSlkiyJXe/HLi8xH1fBL44tREl33gmvtnYNziSaI8k3KNGKlFLiYhMhVVrezj1gtt2WHfCkvm87eApOHfn8MODy5tvrv5riUiiKVtKifFUuDf2DbKwczqwPeEePb17bzZHc2MdjfW1NtCNiCTFAQs6uHf1ZtZvyY6sW/vCVoCpSbjf857qv4aIpIIS7pQYT4V7Q98gSxZ2ADC9qZ5MQx0b+7I7bNObzamdRESqamlXJ0u7OndY971bHpu6AJRwi8gkUXkyJZob68kNO7mhXVe53Z1NBS0lZsbMlqadK9wDSrhFJOG2bQsWEZEKKWNKiUxD8H+rwaFhGnbRBtKzNUdu2EcSbmBk8ptCvdkcrRqDW0SS7Kijgkv1cItIhZQxpURzYz0AA9uGmd5UeruN/eGkN60FCXdLhk1FEu6WJn18RCTBPvCBqCMQkYRQxpQS+Qr3WNO753u1ZxRk5TNbmnjsud4dtusdyLFHR/MkRykiUkPe8Y6oIxCRhFAPd0oUVrh3ZUNvflr3zMi6zpadW0r6BnMaElBEkq2/P1hERCqkjCklyq9wB4l15w4tJU30Dw4xsG1oJHHXSZMiknjHHhtcqodbRCqkjCklMo1Bwj1mhbsvX+HesaUkf9/8jmmATpoUkRT4x3+MOgIRSQhlTCnR3BBUprNjjMW9sW+Q6U31I5Vs2HF69/kd0xjMDZPNDdOqkyZFJMlOPTXqCEQkIdTDnRIjFe4xZpssnNY9Lz9iyYbwhMr8tO6qcItIor3wQrCIiFRIGVNKZMZR4d4p4Q5PoMyfUNmbT7jVwy0iSXbCCcGlerhFpELKmFKiucwKd282R9uoyvXuuwXD/z2zeevINqCEW0QS7owzoo5ARBJCGVNKlFvh7svmmNkyfYd1zY31zGrNsCZMuNVSIiKpcNJJUUcgIgmhHu6UKLeHu9T42gtmTGP1piDh3hIm3BqHW0QS7fnng0VEpELKmFIiP+rI2BXuIVoy9Tutnz9jGg+sCU4e6h0IEu42JdwikmQnnxxcqodbRCqkjCkltk98M3YPd6kK9/UPrGN42NVSIiLp8NGPRh2BiCSEMqaUaKqvw2zXFe5tQ8MMlhhfe0HHNAaHhnmuNzty0qRaSkQk0Y4/PuoIRCQh1MOdEmZGpqFulxXuvl0k0gtmBCdSrt7Uvz3h1sQ3IpJkzz4bLCIiFVLGlCKZhnoGdlHh7hsM7ivWw71gRjCl++pNW+kdyDG9qZ76OqtOoCIiteC004JL9XCLSIWUcKdIc+PEK9zzCxLuvsGcxuAWkeQ7++yoIxCRhFDWlCJjVbh31Zs9vamBzpYm1mzeypaBnE6YFJHkO/roqCMQkYRQ1pQi5Va4S1Wv53cEY3HXmWaZFJEUePrp4HLhwmjjEJHYU9aUImP2cI9xMuSCGdN4eN0WZrY0KeEWkeR75zuDS/Vwi0iFIhmlxMxOMbMHzGzYzLoL1h9lZneZ2f3h5ZFRxJdUY1W4e7NBMr6rCveaTWFLiRJuEUm6T30qWEREKhRV1rQSOAm4YNT654Hj3f0ZM9sfuA6YP9XBJVWmoZ7+wVzJ+/P3TS8ySgkEFe5sbpinNvazeF57VWIUEakZy5ZFHYGIJEQkCbe7PwjB2NCj1t9TcPMBYJqZZdw9O4XhJVZzYx2b+ndV4d51D3d+LO7+wSGdNCkiyffYY8Hl3ntHG4eIxF4tZ01vBu4ulWyb2enA6QB77rnnVMYVW5mG+jFPmqyvs5Fp4EfLDw0ImmVSRFLgfe8LLtXDLSIVqlrWZGY3ALsXuescd79ijMe+DPgK8PpS27j7cmA5QHd3t1cQampkGuvGOGlyiJam+p1+ecgrTLjVwy0iiffZz0YdgYgkRNWyJnefUPObmS0ALgfe5e6PTm5U6TZWhbs3u+uTIdubG2lvbqBnIEebWkpEJOn+/u+jjkBEEiKSUUpKMbMO4GrgbHf/Y9TxJE2mYdcV7v7BHNPHqFzn+7hLDR0oIpIYDz8cLCIiFYpqWMATzWw1cChwtZldF971EeDFwKfNbEW4zIkixiRqbhyrwj00Zm92vq1EJ02KSOJ96EPBIiJSoahGKbmcoG1k9PovAF+Y+ojSIdNQx2BumOFhp65u5z7tvmyO1hJDAuYtCBPuNvVwi0gBM3sC2AIMATl37971I2LgS1+KOgIRSQhlTSnS3Bgk04NDwzTX7ZxY92VzzGyZvsvnGGkpUcItIjs7wt2fjzqISXPYYVFHICIJUVM93FJd+eH+SvVxj3XSJED3XjOY3ZZhYeeuE3MRkdhbuTJYREQqpDJliuQr3KX6uPsHh0rOMpl3wMIO7jxHs6+JyE4c+J2ZOXBBOHRrvH3kI8GlxuEWkQop4U6RcircahURkQl6jbuvCU90v97MHnL3PxRuELsJy772tagjEJGEUEtJiuyqwr1taJjB3DCtGu5PRCbA3deEl+sJTopfWmSb5e7e7e7ds2fPnuoQx+9VrwoWEZEKKeFOkcIKt7vz4Nqekfv6sjlAJ0OKyPiZWYuZteWvE8wSHP/m5xUrgkVEpEJKuFOksML9P7c+zjHn38Lf1m0BgnYS0JTtIjIhc4Fbzexe4A7gane/NuKYKnfWWcEiIlIhZVcpkmkM/n+19oUBzr/xbwA8tbGffea20T8Y9HWPddKkiMho7v4YcEDUcUy6b34z6ghEJCGUcKdIvqXkm9f/lS0DQUV7XU8W2F7hVkuJiEhoyZKoIxCRhFBLSYrkW0oee76P0161EID1WwaA7T3caikREQndeWewiIhUSNlViuQr3G2ZBj7+hn25ftW6kQr3yEmTGqVERCTw8Y8HlxqHW0QqpOwqRWa0NNHUUMeZy/ZhZmuGOe3NrO8JKty92aCHWxVuEal1q9b2cOoFt5W8/4Ql83nbweMb5/tntz/FFSvW7LDuXaefw3GvmFfy/om+loikj7KrFGlvbuTOc5ax27RGAOa2Z1i/Jahw9w8GFW6dNCkiteyABR3cu3rzyLFrtLUvbAUYdxJ8xYo13Lt6M/N2mzbyPD9e0MFx++9f9P5KXktE0kcJd8rkk22AOW0ZVj0TjMWtYQFFJA6WdnWytKuz5P3fu+WxCT/3vN2m8cHX7j3yPC959H74k8Nhh+10f6WvJSLpouwqxea2N/N8b5ahYacvm6O+zkYNMPHnAAAQLUlEQVT6vEVE0u60X38X7mhXD7eIVEzZVYrNacsw7LChN0tfdoiWpnrMLOqwRERqwvfe/q9wwQVRhyEiCaCEO8XmtDcDsH5Llt5sTu0kIiIF1u6+F+y7b9RhiEgCKOFOsblhwr2uZ4D+wZwmvRERKfDSv94Dv/991GGISAIow0qxOW0ZIJhtsjc7xHQl3CIiI075zffhLvVwi0jllGGl2Oww4V6/ZYC+bI5WDQkoIjLiY8ecwYtnt7L+gttYtbaHWa2Zip+z1HjehTS2t0jyKOFOscb6Oma2NLGuJ0tfNsfMlulRhyQiUhMOWNDBvSxiJcCWLLNaMxywoKPi5y02nnchje0tkkxKuFNuTnszz20Z0EmTIiIFlnZ1cvxzqwBYt/Q1k/rco8fzLqSxvUWSSRlWys1tz7CuJ0v/4JBOmhQRKbD/D78NTH7CLSLpE8koJWZ2ipk9YGbDZtZd5P49zazXzD4WRXxpMqctw7qeoMKtad1FRLa77dzzuO3c86IOQ0QSIKqS5krgJKDUjALfAK6ZunDSKz/b5LBDa5Mq3CIief1z94g6BBFJiEgyLHd/ECg6q6GZ/QPwONA3xWGlUn62SUAtJSIiBebddjMAaw89PNI4RCT+airDMrNW4BPAUYDaSaZAfrZJQCdNiogUWPzj7wBKuEWkclXLsMzsBmD3Ined4+5XlHjYucB57t5brPo96vlPB04H2HNPDZ80UXMLEm5VuEVEtvvjF74ddQgikhBVy7DcfdkEHnYwcLKZfRXoAIbNbMDd/7PI8y8HlgN0d3d7RcGmWH62SUAnTYpIIqxa28OpF9y2w7rCyWSKTT5TbGKbgZlzqhvoJCk1mc5kT6AzVa8jUolin9PFe7TzmeNfFlFEgZoqabr7a/PXzexcoLdYsi2TZ3ZBwq2WEhGJuwMWdHDv6s2s35IdWTd6Mplik88Um9hm/i03ALDmtROpH02dYu+nGhPoTNXriFSi2Od0cYTx5EWSYZnZicC3gdnA1Wa2wt3fEEUsaZefbXJD3yAtGqVERGJuaVcnS7s6d1hXbDKZXU0+k7ffz74H1H7CDTu/n2pNoDNVryNSidGf01r4D2FUo5RcDlw+xjbnTk00Mqe9mQ19g6pwi4gUuPXL34k6BBFJiEgmvpHaMrc9aCtpUQ+3iMiIbEcn2Y7OsTcUERmDEm4ZOXFSo5SIiGy34KZrWHCT5mATkcopwxJeMreNWa1NZBr0/y8Rkbx9f3EhAKuPOCbaQEQk9pRwC+8+bBGnHLSw6MyfIiJp9YevfS/qEEQkIZRwC431dew2XdVtEZFC21rbow5BRBJCCbeIiCRe4WQ4xSa5KWbP638DwFNHHV/W8xZTjUlhRk/sUer9RBFbOYpNTDLeWKKchGes+Ccrton8nSbjbxs35f57iJoSbhERSbTRk+EUm+SmmH0uuwgonXAXm2SnULUmhRk9sUex9xNVbOUYHf9EYolyEp6x4p+s2Cbyd5qMv23clPPvoRYo4RYRkUQrNhlOOW4+78KKnreak8KMNXFPlLGVozD+icYS5SQ8Y8U/WbFN5O80GX/buClnIquoKeEWEREpYqh52tgbiYiUQWfKiYiIFLHomstYdM1lUYchIgmgCreIiEgRL7ryEgCeOOakiCMRkbhTwi0iIhUzs6OB84F64Pvu/u8Rh1Sx//32RVGHICIJoZYSERGpiJnVA/8FHAMsBt5qZoujjapy3tCINzRGHYaIJIASbhERqdRS4BF3f8zdB4GLgRMijqliXVf9kq6rfhl1GCKSAGopERGRSs0Hni64vRo4OKJYJs3eV18KwONvPGXCzzF68plyJuUYa8KayZrYY6zXKfd1J+N5ooplIsaKP8q/02T8beOmVie6Gc3cPeoYKmZmzwFPTuChs4DnJzmcWqL3F296f/E2nve3l7vPrmYw1WRmJwNHu/sHwtvvBA5294+M2u504PTw5v7AyikNdOLi9lmNU7yKtXriFG+cYgXY193bxvOARFS4J/pFZWZ/cffuyY6nVuj9xZveX7wl/f2NsgZYWHB7QbhuB+6+HFgO8fr7xClWiFe8irV64hRvnGKFIN7xPkY93CIiUqk7gX3MrMvMmoDTgCsjjklEpGYkosItIiLRcfecmX0EuI5gWMAfuPsDEYclIlIz0p5wL486gCrT+4s3vb94S/r724G7/xb47TgeEqe/T5xihXjFq1irJ07xxilWmEC8iThpUkRERESkVqmHW0RERESkilKbcJvZ0Wb2sJk9YmZnRx1PJcxsoZndZGarzOwBMzszXN9pZteb2d/CyxlRx1oJM6s3s3vM7KrwdpeZ3R7uw0vCk7Viycw6zOxSM3vIzB40s0OTtP/M7F/Cz+ZKM/u5mTXHef+Z2Q/MbL2ZrSxYV3R/WeBb4fu8z8wOjC7y6NX6sXc8+zZqcTr2h//m7zCze8NYPxuur+njQFy+d8zsCTO738xW5EfQqMXPQV5cvvPMbN/wb5pfeszsrInEmsqE25I3DXEO+Ki7LwYOAT4cvp+zgRvdfR/gxvB2nJ0JPFhw+yvAee7+YmAT8P5Iopoc5wPXuvt+wAEE7zMR+8/M5gNnAN3uvj/BSXWnEe/9dyFw9Kh1pfbXMcA+4XI68J0pirHmxOTYeyHl79uoxenYnwWOdPcDgCXA0WZ2CLV/HIjT984R7r6kYHi9Wvwc5MXiO8/dHw7/pkuAg4B+4HImEqu7p24BDgWuK7j9SeCTUcc1ie/vCuAo4GFgXrhuHvBw1LFV8J4WhB/qI4GrACMYJL+h2D6N0wLsBjxOeE5FwfpE7D+2z0LYSXCi9lXAG+K+/4BFwMqx9hdwAfDWYtulbYnLsbfcfVtrS1yO/cB04G6C2Uhr9jgQp+8d4Alg1qh1Nfk5iOt3HvB64I8TjTWVFW6KT0M8P6JYJpWZLQJeCdwOzHX3teFdzwJzIwprMnwT+FdgOLw9E9js7rnwdpz3YRfwHPDD8KfL75tZCwnZf+6+BvgP4ClgLfACcBfJ2X95pfZXYo83ExDXv0XN/1uMw7E/bM9YAawHrgcepbaPA3H63nHgd2Z2lwUzukKNfg6I73feacDPw+vjjjWtCXcimVkr8CvgLHfvKbzPg/+GxXJIGjN7I7De3e+KOpYqaQAOBL7j7q8E+hj181TM998M4ASCg+weQAs7/2SfKHHeX7Jrtbhv43Lsd/chD36aXwAsBfaLOKSSYvi98xp3P5CgXevDZvZ3hXfW0ueAGH7nhb36bwJ+Ofq+cmNNa8Jd1jTEcWJmjQQH3J+6+2Xh6nVmNi+8fx5BVSGOXg28ycyeAC4m+HnvfKDDzPJjycd5H64GVrv77eHtSwkORknZf8uAx939OXffBlxGsE+Tsv/ySu2vxB1vKhDXv0XN/luM47Hf3TcDNxG0ZNTqcSBW3zvhL4m4+3qCHuOl1O7nII7feccAd7v7uvD2uGNNa8KdqGmIzcyA/wEedPdvFNx1JfDu8Pq7Cfr7YsfdP+nuC9x9EcG++l93fzvBAfvkcLM4v79ngafNbN9w1euAVSRk/xG0khxiZtPDz2r+/SVi/xUotb+uBN5lgUOAFwp+ikybuB57a/LfYpyO/WY228w6wuvTCHrNH6RGjwNx+t4xsxYza8tfJ+g1XkkNfg4gtt95b2V7OwlMJNaom9CjWoBjgb8S9JCdE3U8Fb6X1xD8nHEfsCJcjiXoN7sR+BtwA9AZdayT8F4PB64Kr+8N3AE8QvAzTybq+Cp4X0uAv4T78NfAjCTtP+CzwEMEXwI/ATJx3n/hgXctsI2gWvP+UvuL4ESr/wqPNfcTjNYS+XuI8G9X08fe8ezbqJc4HfuBVwD3hLGuBD4drq/540Ctf++EMd0bLg/k/13V4uegIObYfOcRtEFuAHYrWDfuWDXTpIiIiIhIFaW1pUREREREZEoo4RYRERERqSIl3CIiIiIiVaSEW0RERESkipRwi4iIiIhUkRJuSR0zm2lmK8LlWTNbE17vNbP/jjo+EZFaYWa9ZWxzlplNn4p4wtfbw8wuDa+/x8z+c4LP8zkzWzbGNoeb2WETef5xxnK4mV1V7deR6DSMvYlIsrj7BoIxQDGzc4Fed/+PSIMSEYmvs4CLgP5yH2Bm9e4+NJEXc/dn2D75zIS5+6fL2OxwoBf4U7nPa2YN7p6baFySTKpwi4QKKwxmdq6Z/cjMbjGzJ83sJDP7qpndb2bXhtMpY2YHmdnvzewuM7suP9WriEiShMfHm83sUjN7yMx+Gs6eegawB3CTmd0Ubvt6M7vNzO42s1+aWWu4/gkz+4qZ3Q2cMur5zzCzVWZ2n5ldHK4718x+Ej7X38zsg+H6RWa2skiMx4XbzioVw6jtLzSzkwti+2y4/f1mtp+ZLQL+D/Av4a+grw1nzPyVmd0ZLq8eFesfgZ+Y2Z/N7GUFr3WzmXWb2dIwrnvM7E8Fsy1KwinhFintRcCRwJsIqjc3ufvLga3AcWHS/W3gZHc/CPgB8MWoghURqbJXElSzFxPMbvhqd/8W8AxwhLsfYWazgE8By9z9QILZBP9vwXNscPcD3f3iUc99NvBKd38FQZKb9wqC4/ChwKfNbI9igZnZieFzHBuu2lUMpTwfbv8d4GPu/gTwXeA8d1/i7rcA54e3XwW8Gfh+weMXh6/5VuAS4C1hbPOAee7+F4IZd1/r7q8EPg18qYy4JAHUUiJS2jXuvs3M7gfqgWvD9fcDi4B9gf2B682McJu1EcQpIjIV7nD31QBmtoLgOHjrqG0OIUg8/xgeF5uA2wruv6TEc98H/NTMfk0w1XfeFe6+FdgaVtCXEkxhX+hIoBt4vbv3mNkbx4ihlMvCy7uAk0psswxYHD4vQHtB9fzKMFaAXwC/Az5DkHhfGq7fDfiRme0DONBYRlySAEq4RUrLArj7sJltc3cP1w8T/Nsx4AF3PzSqAEVEplC24PoQxXMIA64Pq7zF9AGY2Q8JKubPuPuxwHHA3wHHA+eY2cvD7X3U40ffBniUoOL+EoJq9lgxlJJ/f6XeGwSdAYe4+0DhyjAB7xsJ0n2NmW0ws1cAp7K9av95gl9LTwxbVm4eZ4wSU2opEZm4h4HZZnYogJk1FvbsiYikxBagLbz+Z+DVZvZiADNrMbOXjH6Au783bNM41szqgIXufhPwCYIqcL5qfIKZNZvZTIITGO8s8vpPErR3/Dg8BpcVwwTeGwRV63/O3zCzJbt47CXAvwK7uft94brdgDXh9fdMMCaJISXcIhPk7oMEZ8p/xczuJfiZs+rDR4mI1JjlwLVmdpO7P0eQSP7czO4jaOXYb4zH1wMXhe179wDfcvfN4X33ATcRJNGfD0co2Ym7PwS8Hfgl0D6BGEr5DXBi/qRJ4AygOzy5cxU79puPdilwGkF7Sd5XgS+b2T2oyyBVbPuv5CIiIiK1wTRsqySIKtwiIiIiIlWkCreIiIiISBWpwi0iIiIiUkVKuEVEREREqkgJt4iIiIhIFSnhFhERERGpIiXcIiIiIiJVpIRbRERERKSK/j+DVvV2lLKsCQAAAABJRU5ErkJggg==\n",
                "text/plain": "<Figure size 864x360 with 2 Axes>"
              }
            ],
            "_view_module": "@jupyter-widgets/output",
            "_model_module_version": "1.0.0",
            "_view_count": null,
            "_view_module_version": "1.0.0",
            "layout": "IPY_MODEL_5dd8a2dc5f954ad8ba909fe7849ba815",
            "_model_module": "@jupyter-widgets/output"
          }
        },
        "ff7ab8e46044463c94adef7cd4b67fea": {
          "model_module": "@jupyter-widgets/controls",
          "model_name": "SliderStyleModel",
          "state": {
            "_view_name": "StyleView",
            "handle_color": null,
            "_model_name": "SliderStyleModel",
            "description_width": "",
            "_view_module": "@jupyter-widgets/base",
            "_model_module_version": "1.5.0",
            "_view_count": null,
            "_view_module_version": "1.2.0",
            "_model_module": "@jupyter-widgets/controls"
          }
        },
        "9735482f9bcd40b9926801e91ba8d4ce": {
          "model_module": "@jupyter-widgets/base",
          "model_name": "LayoutModel",
          "state": {
            "_view_name": "LayoutView",
            "grid_template_rows": null,
            "right": null,
            "justify_content": null,
            "_view_module": "@jupyter-widgets/base",
            "overflow": null,
            "_model_module_version": "1.2.0",
            "_view_count": null,
            "flex_flow": null,
            "width": null,
            "min_width": null,
            "border": null,
            "align_items": null,
            "bottom": null,
            "_model_module": "@jupyter-widgets/base",
            "top": null,
            "grid_column": null,
            "overflow_y": null,
            "overflow_x": null,
            "grid_auto_flow": null,
            "grid_area": null,
            "grid_template_columns": null,
            "flex": null,
            "_model_name": "LayoutModel",
            "justify_items": null,
            "grid_row": null,
            "max_height": null,
            "align_content": null,
            "visibility": null,
            "align_self": null,
            "height": null,
            "min_height": null,
            "padding": null,
            "grid_auto_rows": null,
            "grid_gap": null,
            "max_width": null,
            "order": null,
            "_view_module_version": "1.2.0",
            "grid_template_areas": null,
            "object_position": null,
            "object_fit": null,
            "grid_auto_columns": null,
            "margin": null,
            "display": null,
            "left": null
          }
        },
        "f8c107c262754347abba720716fb0f42": {
          "model_module": "@jupyter-widgets/controls",
          "model_name": "SliderStyleModel",
          "state": {
            "_view_name": "StyleView",
            "handle_color": null,
            "_model_name": "SliderStyleModel",
            "description_width": "",
            "_view_module": "@jupyter-widgets/base",
            "_model_module_version": "1.5.0",
            "_view_count": null,
            "_view_module_version": "1.2.0",
            "_model_module": "@jupyter-widgets/controls"
          }
        },
        "cbf9b13890144617bf7a1e8467f0b758": {
          "model_module": "@jupyter-widgets/base",
          "model_name": "LayoutModel",
          "state": {
            "_view_name": "LayoutView",
            "grid_template_rows": null,
            "right": null,
            "justify_content": null,
            "_view_module": "@jupyter-widgets/base",
            "overflow": null,
            "_model_module_version": "1.2.0",
            "_view_count": null,
            "flex_flow": null,
            "width": null,
            "min_width": null,
            "border": null,
            "align_items": null,
            "bottom": null,
            "_model_module": "@jupyter-widgets/base",
            "top": null,
            "grid_column": null,
            "overflow_y": null,
            "overflow_x": null,
            "grid_auto_flow": null,
            "grid_area": null,
            "grid_template_columns": null,
            "flex": null,
            "_model_name": "LayoutModel",
            "justify_items": null,
            "grid_row": null,
            "max_height": null,
            "align_content": null,
            "visibility": null,
            "align_self": null,
            "height": null,
            "min_height": null,
            "padding": null,
            "grid_auto_rows": null,
            "grid_gap": null,
            "max_width": null,
            "order": null,
            "_view_module_version": "1.2.0",
            "grid_template_areas": null,
            "object_position": null,
            "object_fit": null,
            "grid_auto_columns": null,
            "margin": null,
            "display": null,
            "left": null
          }
        },
        "40394324c52e4e1298dc5e745a1f1d0f": {
          "model_module": "@jupyter-widgets/controls",
          "model_name": "SliderStyleModel",
          "state": {
            "_view_name": "StyleView",
            "handle_color": null,
            "_model_name": "SliderStyleModel",
            "description_width": "",
            "_view_module": "@jupyter-widgets/base",
            "_model_module_version": "1.5.0",
            "_view_count": null,
            "_view_module_version": "1.2.0",
            "_model_module": "@jupyter-widgets/controls"
          }
        },
        "d31323b7bc0e41a9b6499f2aa91dc8da": {
          "model_module": "@jupyter-widgets/base",
          "model_name": "LayoutModel",
          "state": {
            "_view_name": "LayoutView",
            "grid_template_rows": null,
            "right": null,
            "justify_content": null,
            "_view_module": "@jupyter-widgets/base",
            "overflow": null,
            "_model_module_version": "1.2.0",
            "_view_count": null,
            "flex_flow": null,
            "width": null,
            "min_width": null,
            "border": null,
            "align_items": null,
            "bottom": null,
            "_model_module": "@jupyter-widgets/base",
            "top": null,
            "grid_column": null,
            "overflow_y": null,
            "overflow_x": null,
            "grid_auto_flow": null,
            "grid_area": null,
            "grid_template_columns": null,
            "flex": null,
            "_model_name": "LayoutModel",
            "justify_items": null,
            "grid_row": null,
            "max_height": null,
            "align_content": null,
            "visibility": null,
            "align_self": null,
            "height": null,
            "min_height": null,
            "padding": null,
            "grid_auto_rows": null,
            "grid_gap": null,
            "max_width": null,
            "order": null,
            "_view_module_version": "1.2.0",
            "grid_template_areas": null,
            "object_position": null,
            "object_fit": null,
            "grid_auto_columns": null,
            "margin": null,
            "display": null,
            "left": null
          }
        },
        "c30eb80bb2db49da82662e762e026833": {
          "model_module": "@jupyter-widgets/controls",
          "model_name": "SliderStyleModel",
          "state": {
            "_view_name": "StyleView",
            "handle_color": null,
            "_model_name": "SliderStyleModel",
            "description_width": "",
            "_view_module": "@jupyter-widgets/base",
            "_model_module_version": "1.5.0",
            "_view_count": null,
            "_view_module_version": "1.2.0",
            "_model_module": "@jupyter-widgets/controls"
          }
        },
        "b70b0933a92946119f1c14fbb6a0052e": {
          "model_module": "@jupyter-widgets/base",
          "model_name": "LayoutModel",
          "state": {
            "_view_name": "LayoutView",
            "grid_template_rows": null,
            "right": null,
            "justify_content": null,
            "_view_module": "@jupyter-widgets/base",
            "overflow": null,
            "_model_module_version": "1.2.0",
            "_view_count": null,
            "flex_flow": null,
            "width": null,
            "min_width": null,
            "border": null,
            "align_items": null,
            "bottom": null,
            "_model_module": "@jupyter-widgets/base",
            "top": null,
            "grid_column": null,
            "overflow_y": null,
            "overflow_x": null,
            "grid_auto_flow": null,
            "grid_area": null,
            "grid_template_columns": null,
            "flex": null,
            "_model_name": "LayoutModel",
            "justify_items": null,
            "grid_row": null,
            "max_height": null,
            "align_content": null,
            "visibility": null,
            "align_self": null,
            "height": null,
            "min_height": null,
            "padding": null,
            "grid_auto_rows": null,
            "grid_gap": null,
            "max_width": null,
            "order": null,
            "_view_module_version": "1.2.0",
            "grid_template_areas": null,
            "object_position": null,
            "object_fit": null,
            "grid_auto_columns": null,
            "margin": null,
            "display": null,
            "left": null
          }
        },
        "10565e172d4e453b9305557675df1e8f": {
          "model_module": "@jupyter-widgets/controls",
          "model_name": "SliderStyleModel",
          "state": {
            "_view_name": "StyleView",
            "handle_color": null,
            "_model_name": "SliderStyleModel",
            "description_width": "",
            "_view_module": "@jupyter-widgets/base",
            "_model_module_version": "1.5.0",
            "_view_count": null,
            "_view_module_version": "1.2.0",
            "_model_module": "@jupyter-widgets/controls"
          }
        },
        "0225e4c6620c4f5abfd2d706c5195618": {
          "model_module": "@jupyter-widgets/base",
          "model_name": "LayoutModel",
          "state": {
            "_view_name": "LayoutView",
            "grid_template_rows": null,
            "right": null,
            "justify_content": null,
            "_view_module": "@jupyter-widgets/base",
            "overflow": null,
            "_model_module_version": "1.2.0",
            "_view_count": null,
            "flex_flow": null,
            "width": null,
            "min_width": null,
            "border": null,
            "align_items": null,
            "bottom": null,
            "_model_module": "@jupyter-widgets/base",
            "top": null,
            "grid_column": null,
            "overflow_y": null,
            "overflow_x": null,
            "grid_auto_flow": null,
            "grid_area": null,
            "grid_template_columns": null,
            "flex": null,
            "_model_name": "LayoutModel",
            "justify_items": null,
            "grid_row": null,
            "max_height": null,
            "align_content": null,
            "visibility": null,
            "align_self": null,
            "height": null,
            "min_height": null,
            "padding": null,
            "grid_auto_rows": null,
            "grid_gap": null,
            "max_width": null,
            "order": null,
            "_view_module_version": "1.2.0",
            "grid_template_areas": null,
            "object_position": null,
            "object_fit": null,
            "grid_auto_columns": null,
            "margin": null,
            "display": null,
            "left": null
          }
        },
        "5dd8a2dc5f954ad8ba909fe7849ba815": {
          "model_module": "@jupyter-widgets/base",
          "model_name": "LayoutModel",
          "state": {
            "_view_name": "LayoutView",
            "grid_template_rows": null,
            "right": null,
            "justify_content": null,
            "_view_module": "@jupyter-widgets/base",
            "overflow": null,
            "_model_module_version": "1.2.0",
            "_view_count": null,
            "flex_flow": null,
            "width": null,
            "min_width": null,
            "border": null,
            "align_items": null,
            "bottom": null,
            "_model_module": "@jupyter-widgets/base",
            "top": null,
            "grid_column": null,
            "overflow_y": null,
            "overflow_x": null,
            "grid_auto_flow": null,
            "grid_area": null,
            "grid_template_columns": null,
            "flex": null,
            "_model_name": "LayoutModel",
            "justify_items": null,
            "grid_row": null,
            "max_height": null,
            "align_content": null,
            "visibility": null,
            "align_self": null,
            "height": null,
            "min_height": null,
            "padding": null,
            "grid_auto_rows": null,
            "grid_gap": null,
            "max_width": null,
            "order": null,
            "_view_module_version": "1.2.0",
            "grid_template_areas": null,
            "object_position": null,
            "object_fit": null,
            "grid_auto_columns": null,
            "margin": null,
            "display": null,
            "left": null
          }
        }
      }
    }
  },
  "cells": [
    {
      "cell_type": "markdown",
      "metadata": {
        "id": "view-in-github",
        "colab_type": "text"
      },
      "source": [
        "<a href=\"https://colab.research.google.com/github/NeuromatchAcademy/course-content/blob/W1D1/tutorials/W1D1-ModelTypes/W1D1_Tutorial2.ipynb\" target=\"_parent\"><img src=\"https://colab.research.google.com/assets/colab-badge.svg\" alt=\"Open In Colab\"/></a>"
      ]
    },
    {
      "cell_type": "markdown",
      "metadata": {
        "id": "HwYPw4CvrYCV",
        "colab_type": "text"
      },
      "source": [
        "#  NMA Model Types Tutorial 2: \"How\" models\n",
        "\n",
        "In this tutorial we will explore models that can potentially explain *how* the spiking data we have observed is produced. That is, the models will tell us something about the *mechanism* underlying the physiological phenomenon.\n",
        "\n",
        "Our objectives:\n",
        "- Write code to simulate a  simple \"leaky integrate-and-fire\" neuron model\n",
        "- Make the model more complicated — but also more realistic — by adding more physiologically-inspired details"
      ]
    },
    {
      "cell_type": "code",
      "metadata": {
        "id": "nfdfxF_ee8sZ",
        "colab_type": "code",
        "cellView": "form",
        "colab": {
          "base_uri": "https://localhost:8080/",
          "height": 519
        },
        "outputId": "26bd0ee4-4ac1-45b3-d75c-2425ac20a06b"
      },
      "source": [
        "#@title Video: \"How\" models\n",
        "from IPython.display import YouTubeVideo\n",
        "video = YouTubeVideo(id='yWPQsBud4Cc', width=854, height=480, fs=1)\n",
        "print(\"Video available at https://youtube.com/watch?v=\" + video.id)\n",
        "video"
      ],
      "execution_count": 1,
      "outputs": [
        {
          "output_type": "stream",
          "text": [
            "Video available at https://youtube.com/watch?v=yWPQsBud4Cc\n"
          ],
          "name": "stdout"
        },
        {
          "output_type": "execute_result",
          "data": {
            "text/html": [
              "\n",
              "        <iframe\n",
              "            width=\"854\"\n",
              "            height=\"480\"\n",
              "            src=\"https://www.youtube.com/embed/yWPQsBud4Cc?fs=1\"\n",
              "            frameborder=\"0\"\n",
              "            allowfullscreen\n",
              "        ></iframe>\n",
              "        "
            ],
            "text/plain": [
              "<IPython.lib.display.YouTubeVideo at 0x7f32a29a06d8>"
            ],
            "image/jpeg": "[encoded data removed]"
          },
          "metadata": {
            "tags": []
          },
          "execution_count": 1
        }
      ]
    },
    {
      "cell_type": "markdown",
      "metadata": {
        "id": "yQN8ug6asey4",
        "colab_type": "text"
      },
      "source": [
        "## Setup\n",
        "\n",
        "**Don't forget to execute the hidden cells!**"
      ]
    },
    {
      "cell_type": "code",
      "metadata": {
        "id": "w6RPNLB6rYCW",
        "colab_type": "code",
        "cellView": "form",
        "colab": {}
      },
      "source": [
        "#@title Imports\n",
        "import matplotlib.pyplot as plt\n",
        "import numpy as np\n",
        "import scipy.stats as stats\n",
        "\n",
        "import ipywidgets as widgets"
      ],
      "execution_count": 2,
      "outputs": []
    },
    {
      "cell_type": "code",
      "metadata": {
        "id": "CK1bXaOgrYCZ",
        "colab_type": "code",
        "cellView": "form",
        "colab": {}
      },
      "source": [
        "#@title Helper Functions\n",
        "def histogram(counts, bins, vlines=(), ax=None, ax_args=None, **kwargs):\n",
        "  \"\"\"Plot a step histogram given counts over bins.\"\"\"\n",
        "  if ax is None:\n",
        "    _, ax = plt.subplots()\n",
        "    \n",
        "  # duplicate the first element of `counts` to match bin edges\n",
        "  counts = np.insert(counts, 0, counts[0])\n",
        "\n",
        "  ax.fill_between(bins, counts, step=\"pre\", alpha=0.4, **kwargs)  # area shading\n",
        "  ax.plot(bins, counts, drawstyle=\"steps\", **kwargs)  # lines\n",
        "\n",
        "  for x in vlines:\n",
        "    ax.axvline(x, color='r', linestyle='dotted')  # vertical line\n",
        "\n",
        "  if ax_args is None:\n",
        "    ax_args = {}\n",
        "\n",
        "  # heuristically set max y to leave a bit of room\n",
        "  ymin, ymax = ax_args.get('ylim', [None, None])\n",
        "  if ymax is None: \n",
        "    ymax = np.max(counts)\n",
        "    if ax_args.get('yscale', 'linear') == 'log':\n",
        "      ymax *= 1.5\n",
        "    else:\n",
        "      ymax *= 1.1\n",
        "      if ymin is None:\n",
        "        ymin = 0\n",
        "\n",
        "  if ymax == ymin:\n",
        "    ymax = None\n",
        "  \n",
        "  ax_args['ylim'] = [ymin, ymax]\n",
        "  \n",
        "  ax.set(**ax_args)\n",
        "  ax.autoscale(enable=False, axis='x', tight=True)\n",
        "\n",
        "\n",
        "def plot_neuron_stats(v, spike_times):\n",
        "  fig, (ax1, ax2) = plt.subplots(ncols=2, figsize=(12, 5))\n",
        "  \n",
        "  # membrane voltage trace  \n",
        "  ax1.plot(v[0:100])\n",
        "  ax1.set(xlabel='Time', ylabel='Voltage')\n",
        "  # plot spike events\n",
        "  for x in spike_times:\n",
        "    if x >= 100:\n",
        "      break\n",
        "    ax1.axvline(x, color='limegreen')\n",
        "\n",
        "  # ISI distribution \n",
        "  isi = np.diff(spike_times)\n",
        "  n_bins = bins = np.arange(isi.min(), isi.max() + 2) - .5\n",
        "  counts, bins = np.histogram(isi, bins)\n",
        "  vlines = []\n",
        "  if len(isi) > 0:\n",
        "    vlines = [np.mean(isi)]    \n",
        "  xmax = max(20, int(bins[-1])+5)\n",
        "  histogram(counts, bins, vlines=vlines, ax=ax2, ax_args={\n",
        "    'xlabel': 'Inter-spike interval',\n",
        "    'ylabel': 'Number of intervals',\n",
        "    'xlim': [0, xmax]\n",
        "  }) "
      ],
      "execution_count": 3,
      "outputs": []
    },
    {
      "cell_type": "markdown",
      "metadata": {
        "id": "kOxLk8AvrYCe",
        "colab_type": "text"
      },
      "source": [
        "## The Linear Integrate-and-Fire Neuron\n",
        "\n",
        "One of the simplest models of spiking neuron behavior is the linear integrate-and-fire model neuron. In this model, the neuron increases its membrane potential $V_m$ over time in response to excitatory input currents $I$ scaled by some factor $\\alpha$:\n",
        "\n",
        "\\begin{align}\n",
        "  dV_m = {\\alpha}I\n",
        "\\end{align}\n",
        "\n",
        "Once $V_m$ reaches a threshold value of 1, a spike is emitted, the neuron resets $V_m$ back to 0, and the process continues.\n",
        "\n",
        "#### Spiking Inputs\n",
        "\n",
        "We now have a model for the neuron dynamics. Next we need to consider what form the input $I$ will take. How should we represent the presynaptic neuron firing behavior providing the input coming into our model nueuron? We learned previously that a good approximation of spike timing is a Poisson random variable, so we can do that here as well\n",
        "\n",
        "\\begin{align}\n",
        "  I \\sim Poisson(\\lambda)\n",
        "\\end{align}\n",
        "\n",
        "where $\\lambda$ is the average rate of incoming spikes."
      ]
    },
    {
      "cell_type": "markdown",
      "metadata": {
        "id": "Ls8CsM2Pf7LQ",
        "colab_type": "text"
      },
      "source": [
        "### Exercise: Compute $dV_m$\n",
        "\n",
        "For your first exercise, you will write the code to compute the change in voltage $dV_m$ of the linear integrate-and-fire model neuron. The rest of the code to handle the neuron dynamics are provided for you, so you just need to fill in a definition for `dv` in the `lif_neuron` method below. The value for $\\lambda$ needed for the Poisson random variable is named `rate`.\n",
        "\n",
        "TIP: The [`scipy.stats`](https://docs.scipy.org/doc/scipy/reference/stats.html) package is a great resource for working with and sampling from various probability distributions."
      ]
    },
    {
      "cell_type": "code",
      "metadata": {
        "id": "HQU61YUDrYCe",
        "colab_type": "code",
        "colab": {}
      },
      "source": [
        "def lif_neuron(n_steps=1000, alpha=0.01, rate=10):\n",
        "  \"\"\" Simulate a linear integrate-and-fire neuron.\n",
        "\n",
        "  Args:\n",
        "    n_steps (int): The number of time steps to simulate the neuron's activity.\n",
        "    alpha (float): The input scaling factor\n",
        "    rate (int): The mean rate of incoming spikes\n",
        "\n",
        "  \"\"\"\n",
        "  v = np.zeros(n_steps)\n",
        "  spike_times = []\n",
        "  for i in range(1, n_steps):\n",
        "\n",
        "    #######################################################################\n",
        "    ## TODO for students: compute dv, then remove the NotImplementedError #\n",
        "    #######################################################################\n",
        "    # dv = ...\n",
        "    raise NotImplementedError(\"Student excercise: compute the change in membrane potential\")\n",
        "\n",
        "    v[i] = v[i-1] + dv\n",
        "    if v[i] > 1:\n",
        "      spike_times.append(i)\n",
        "      v[i] = 0\n",
        "  \n",
        "  return v, spike_times\n",
        "\n",
        "# Uncomment these lines after completing the lif_neuron function\n",
        "# v, spike_times = lif_neuron()\n",
        "# plot_neuron_stats(v, spike_times)"
      ],
      "execution_count": 4,
      "outputs": []
    },
    {
      "cell_type": "code",
      "metadata": {
        "id": "u-oCuaFAiRi5",
        "colab_type": "code",
        "cellView": "both",
        "colab": {
          "base_uri": "https://localhost:8080/",
          "height": 340
        },
        "outputId": "3e4c9e97-cd68-4b4a-d346-4baea254e082"
      },
      "source": [
        "# to_remove solution\n",
        "def lif_neuron(n_steps=1000, alpha=0.01, rate=10):\n",
        "  \"\"\" Simulate a linear integrate-and-fire neuron.\n",
        "  \n",
        "  Args:\n",
        "    n_steps (int): The number of time steps to simulate the neuron's activity.\n",
        "    alpha (float): The input scaling factor\n",
        "    rate (int): The mean rate of incoming spikes\n",
        "  \"\"\"\n",
        "  # precompute Poisson samples for speed\n",
        "  exc = stats.poisson(rate).rvs(n_steps)\n",
        "\n",
        "  v = np.zeros(n_steps)\n",
        "  spike_times = []\n",
        "  for i in range(1, n_steps):\n",
        "    dv = alpha * exc[i]\n",
        "    v[i] = v[i-1] + dv\n",
        "    if v[i] > 1:\n",
        "      spike_times.append(i)\n",
        "      v[i] = 0\n",
        "\n",
        "  return v, spike_times\n",
        "\n",
        "v, spike_times = lif_neuron()\n",
        "with plt.xkcd():\n",
        "  plot_neuron_stats(v, spike_times)"
      ],
      "execution_count": 5,
      "outputs": [
        {
          "output_type": "display_data",
          "data": {
            "image/png": "[encoded data removed]",
            "text/plain": [
              "<Figure size 864x360 with 2 Axes>"
            ]
          },
          "metadata": {
            "tags": []
          }
        }
      ]
    },
    {
      "cell_type": "markdown",
      "metadata": {
        "id": "V9xEZVAHr5Kv",
        "colab_type": "text"
      },
      "source": [
        "### Parameter Exploration\n",
        "\n",
        "Here's an interactive demo that shows how the model behavior changes for different parameter values.\n",
        "\n",
        "**Remember to enable the demo by running the cell.**"
      ]
    },
    {
      "cell_type": "code",
      "metadata": {
        "id": "RRjD0G3nrYCh",
        "colab_type": "code",
        "cellView": "form",
        "colab": {
          "base_uri": "https://localhost:8080/",
          "height": 430,
          "referenced_widgets": [
            "ceba379285d8420eab122d92e37cf614",
            "ce36febaaf2d4393b40ea270eea78bda",
            "335dc79d7de5472b8feab6962ba2c5d8",
            "f03f445c87fd41daa39efbe68c55afe6",
            "91bbca9d32e44b579f90cc2c57af6162",
            "1251eebb98c44304bb2b44b5967e04ed",
            "13178c66d344425e8033ccb71d5952cd",
            "bfbb00cee53142b0be230d2911200e78",
            "98600f1df3694f7f8f395241786bf8ec",
            "ecb5043cdcd045459f0d2f465d32e697",
            "08eb3e8bd87e4a5cb948b77c693f3355",
            "d660979bd65949ff86436c25f2971593",
            "cb20954f9e4e40189e7517984d429f9e"
          ]
        },
        "outputId": "f1ca24c3-098d-4482-d39e-8dd705d6b790"
      },
      "source": [
        "#@title Linear Integrate-and-Fire Model Neuron Explorer\n",
        "\n",
        "def _lif_neuron(n_steps=1000, alpha=0.01, rate=10):\n",
        "  exc = stats.poisson(rate).rvs(n_steps)\n",
        "  v = np.zeros(n_steps)\n",
        "  spike_times = []\n",
        "  for i in range(1, n_steps):\n",
        "    dv = alpha * exc[i]\n",
        "    v[i] = v[i-1] + dv\n",
        "    if v[i] > 1:\n",
        "      spike_times.append(i)\n",
        "      v[i] = 0\n",
        "  return v, spike_times\n",
        "\n",
        "@widgets.interact(\n",
        "  n_steps=widgets.FloatLogSlider(1000.0, min=2, max=4),\n",
        "  alpha=widgets.FloatLogSlider(0.01, min=-4, max=-1),\n",
        "  rate=widgets.IntSlider(10, min=1, max=20)\n",
        ")\n",
        "def plot_lif_neuron(n_steps=1000, alpha=0.01, rate=10):\n",
        "  v, spike_times = _lif_neuron(int(n_steps), alpha, rate)\n",
        "  plot_neuron_stats(v, spike_times)"
      ],
      "execution_count": 6,
      "outputs": [
        {
          "output_type": "display_data",
          "data": {
            "application/vnd.jupyter.widget-view+json": {
              "model_id": "ceba379285d8420eab122d92e37cf614",
              "version_minor": 0,
              "version_major": 2
            },
            "text/plain": [
              "interactive(children=(FloatLogSlider(value=1000.0, description='n_steps', min=2.0), FloatLogSlider(value=0.01,…"
            ]
          },
          "metadata": {
            "tags": []
          }
        }
      ]
    },
    {
      "cell_type": "markdown",
      "metadata": {
        "id": "91UgFMVPrYCk",
        "colab_type": "text"
      },
      "source": [
        "## Inhibitory signals\n",
        "\n",
        "Our linear integrate-and-fire neuron from the previous section was indeed able to produce spikes, but the actual spiking behavior did not line up with our expectations of exponentially distributed ISIs. This means we need to refine our model!\n",
        "\n",
        "In the previous model we only considered excitatory behavior -- the only way the membrane potential could decrease is upon a spike event. We know, however, that there are other factors that can drive $V_m$ down. First is the natural tendancy of the neuron to return to some steady state or resting potential. We can update our previous model as follows:\n",
        "\n",
        "\\begin{align}\n",
        "  dV_m = -{\\beta}V_m + {\\alpha}I\n",
        "\\end{align}\n",
        "\n",
        "where $V_m$ is the current membrane potential and $\\beta$ is some leakage factor. This is a basic form of the popular Leaky Integrate-and-Fire model neuron (for a more detailed discussion of the LIF Neuron, see the Appendix).\n",
        "\n",
        "We also know that in addition to excitatory presynaptic neurons, we can have inhibitory presynaptic neurons as well. We can model these inhibitory neurons with another Poisson random variable, giving us\n",
        "\n",
        "\\begin{align}\n",
        "I = I_{exc} - I_{inh} \\\\\n",
        "I_{exc} \\sim Poisson(\\lambda_{exc}) \\\\\n",
        "I_{inh} \\sim Poisson(\\lambda_{inh})\n",
        "\\end{align}\n",
        "\n",
        "where $\\lambda_{exc}$ and $\\lambda_{inh}$ are the rates of the excitatory and inhibitory presynaptic neurons, respectively."
      ]
    },
    {
      "cell_type": "markdown",
      "metadata": {
        "id": "3tErnV24y_Pa",
        "colab_type": "text"
      },
      "source": [
        "### Exercise: Compute $dV_m$ with inhibitory signals\n",
        "\n",
        "For your second exercise, you will again write the code to compute the change in voltage $dV_m$, though now of the LIF model neuron described above. Like last time, the rest of the code needed to handle the neuron dynamics are provided for you, so you just need to fill in a definition for `dv` below.\n"
      ]
    },
    {
      "cell_type": "code",
      "metadata": {
        "id": "RfT7XE_UzUUl",
        "colab_type": "code",
        "colab": {}
      },
      "source": [
        "def lif_neuron_inh(n_steps=1000, alpha=0.5, beta=0.1, exc_rate=10, inh_rate=10):\n",
        "  \"\"\" Simulate a simplified leaky integrate-and-fire neuron with both excitatory\n",
        "  and inhibitory inputs.\n",
        "  \n",
        "  Args:\n",
        "    n_steps (int): The number of time steps to simulate the neuron's activity.\n",
        "    alpha (float): The input scaling factor\n",
        "    beta (float): The membrane potential leakage factor\n",
        "    exc_rate (int): The mean rate of the incoming excitatory spikes\n",
        "    inh_rate (int): The mean rate of the incoming inhibitory spikes\n",
        "  \"\"\"\n",
        "  v = np.zeros(n_steps)\n",
        "  spike_times = []\n",
        "  for i in range(1, n_steps):\n",
        "\n",
        "    ############################################################\n",
        "    ## Students: compute dv and remove the NotImplementedError #\n",
        "    ############################################################\n",
        "    # dv = ...\n",
        "    raise NotImplementedError(\"Student excercise: compute the change in membrane potential\")\n",
        "\n",
        "    v[i] = v[i-1] + dv\n",
        "    if v[i] > 1:\n",
        "      spike_times.append(i)\n",
        "      v[i] = 0\n",
        "\n",
        "  return v, spike_times\n",
        "\n",
        "# Uncomment these lines do make the plot once you've completed the function\n",
        "# v, spike_times = lif_neuron_inh()\n",
        "# plot_neuron_stats(v, spike_times)"
      ],
      "execution_count": 7,
      "outputs": []
    },
    {
      "cell_type": "code",
      "metadata": {
        "id": "opfSK1CrrYCk",
        "colab_type": "code",
        "cellView": "both",
        "colab": {}
      },
      "source": [
        "# to_remove solution\n",
        "def lif_neuron_inh(n_steps=1000, alpha=0.5, beta=0.1, exc_rate=10, inh_rate=10):\n",
        "  \"\"\" Simulate a simplified leaky integrate-and-fire neuron with both excitatory\n",
        "  and inhibitory inputs.\n",
        "  \n",
        "  Args:\n",
        "    n_steps (int): The number of time steps to simulate the neuron's activity.\n",
        "    alpha (float): The input scaling factor\n",
        "    beta (float): The membrane potential leakage factor\n",
        "    exc_rate (int): The mean rate of the incoming excitatory spikes\n",
        "    inh_rate (int): The mean rate of the incoming inhibitory spikes\n",
        "  \"\"\"\n",
        "  # precompute Poisson samples for speed\n",
        "  exc = stats.poisson(exc_rate).rvs(n_steps)\n",
        "  inh = stats.poisson(inh_rate).rvs(n_steps)\n",
        "\n",
        "  v = np.zeros(n_steps)\n",
        "  spike_times = []\n",
        "  for i in range(1, n_steps):\n",
        "    dv = -beta * v[i-1] + alpha * (exc[i] - inh[i])\n",
        "    v[i] = v[i-1] + dv\n",
        "    if v[i] > 1:\n",
        "      spike_times.append(i)\n",
        "      v[i] = 0\n",
        "\n",
        "  return v, spike_times"
      ],
      "execution_count": 8,
      "outputs": []
    },
    {
      "cell_type": "code",
      "metadata": {
        "id": "66msnOg2_R65",
        "colab_type": "code",
        "colab": {
          "base_uri": "https://localhost:8080/",
          "height": 334
        },
        "outputId": "ec69c319-9c78-4358-fc2b-c5150b461da7"
      },
      "source": [
        "v, spike_times = lif_neuron_inh()\n",
        "plot_neuron_stats(v, spike_times)"
      ],
      "execution_count": 9,
      "outputs": [
        {
          "output_type": "display_data",
          "data": {
            "image/png": "[encoded data removed]",
            "text/plain": [
              "<Figure size 864x360 with 2 Axes>"
            ]
          },
          "metadata": {
            "tags": [],
            "needs_background": "light"
          }
        }
      ]
    },
    {
      "cell_type": "markdown",
      "metadata": {
        "id": "wTiAaeX4zuhn",
        "colab_type": "text"
      },
      "source": [
        "### Parameter Exploration\n",
        "\n",
        "Like last time, you can now explore how you LIF model behaves when the various parameters of the system are changed."
      ]
    },
    {
      "cell_type": "code",
      "metadata": {
        "id": "Eh3wR_nArYCn",
        "colab_type": "code",
        "cellView": "form",
        "colab": {
          "base_uri": "https://localhost:8080/",
          "height": 494,
          "referenced_widgets": [
            "0f09df3ceeae48a387d0fc6b908b5567",
            "c2fa6ff4f58a4101bc4b895b5baa4770",
            "9fd68b3ef90242d2ba97505ca56114aa",
            "e3b2afface834d268c55d859f854e908",
            "967e42b786084dd8b7ec89d0e629092d",
            "7c579a4e4e234f36ae753e4cc9836579",
            "cc9589e5f00c42cc964af4172428c827",
            "32fb07c83cef4496b9c0d224b251c3d6",
            "ff7ab8e46044463c94adef7cd4b67fea",
            "9735482f9bcd40b9926801e91ba8d4ce",
            "f8c107c262754347abba720716fb0f42",
            "cbf9b13890144617bf7a1e8467f0b758",
            "40394324c52e4e1298dc5e745a1f1d0f",
            "d31323b7bc0e41a9b6499f2aa91dc8da",
            "c30eb80bb2db49da82662e762e026833",
            "b70b0933a92946119f1c14fbb6a0052e",
            "10565e172d4e453b9305557675df1e8f",
            "0225e4c6620c4f5abfd2d706c5195618",
            "5dd8a2dc5f954ad8ba909fe7849ba815"
          ]
        },
        "outputId": "fd0b6976-8a39-42ce-a77f-a61278d30689"
      },
      "source": [
        "#@title LIF Model Neuron with Inhibitory Inputs Explorer\n",
        "\n",
        "def _lif_neuron_inh(n_steps=1000, alpha=0.5, beta=0.1, exc_rate=10, inh_rate=10):\n",
        "  \"\"\" Simulate a simplified leaky integrate-and-fire neuron with both excitatory\n",
        "  and inhibitory inputs.\n",
        "  \n",
        "  Args:\n",
        "    n_steps (int): The number of time steps to simulate the neuron's activity.\n",
        "    alpha (float): The input scaling factor\n",
        "    beta (float): The membrane potential leakage factor\n",
        "    exc_rate (int): The mean rate of the incoming excitatory spikes\n",
        "    inh_rate (int): The mean rate of the incoming inhibitory spikes\n",
        "  \"\"\"\n",
        "  # precompute Poisson samples for speed\n",
        "  exc = stats.poisson(exc_rate).rvs(n_steps)\n",
        "  inh = stats.poisson(inh_rate).rvs(n_steps)\n",
        "\n",
        "  v = np.zeros(n_steps)\n",
        "  spike_times = []\n",
        "  for i in range(1, n_steps):\n",
        "    dv = -beta * v[i-1] + alpha * (exc[i] - inh[i])\n",
        "    v[i] = v[i-1] + dv\n",
        "    if v[i] > 1:\n",
        "      spike_times.append(i)\n",
        "      v[i] = 0\n",
        "\n",
        "  return v, spike_times\n",
        "\n",
        "@widgets.interact(n_steps=widgets.FloatLogSlider(1000.0, min=2, max=4),\n",
        "                  alpha=widgets.FloatLogSlider(0.5, min=-2, max=1),\n",
        "                  beta=widgets.FloatLogSlider(0.1, min=-2, max=0),\n",
        "                  exc_rate=widgets.IntSlider(10, min=1, max=20),\n",
        "                  inh_rate=widgets.IntSlider(10, min=1, max=20))\n",
        "def plot_lif_neuron(n_steps=1000, alpha=0.5, beta=0.1, exc_rate=10, inh_rate=10):\n",
        "  v, spike_times = _lif_neuron_inh(int(n_steps), alpha, beta, exc_rate, inh_rate)\n",
        "  plot_neuron_stats(v, spike_times)"
      ],
      "execution_count": 10,
      "outputs": [
        {
          "output_type": "display_data",
          "data": {
            "application/vnd.jupyter.widget-view+json": {
              "model_id": "0f09df3ceeae48a387d0fc6b908b5567",
              "version_minor": 0,
              "version_major": 2
            },
            "text/plain": [
              "interactive(children=(FloatLogSlider(value=1000.0, description='n_steps', min=2.0), FloatLogSlider(value=0.5, …"
            ]
          },
          "metadata": {
            "tags": []
          }
        }
      ]
    },
    {
      "cell_type": "code",
      "metadata": {
        "id": "or1Tt4TSfQwp",
        "colab_type": "code",
        "cellView": "form",
        "colab": {
          "base_uri": "https://localhost:8080/",
          "height": 519
        },
        "outputId": "6354a165-972d-4834-f507-ada332fb423f"
      },
      "source": [
        "#@title Video: Balanced inputs\n",
        "from IPython.display import YouTubeVideo\n",
        "video = YouTubeVideo(id='buXEQPp9LKI', width=854, height=480, fs=1)\n",
        "print(\"Video available at https://youtube.com/watch?v=\" + video.id)\n",
        "video"
      ],
      "execution_count": 11,
      "outputs": [
        {
          "output_type": "stream",
          "text": [
            "Video available at https://youtube.com/watch?v=buXEQPp9LKI\n"
          ],
          "name": "stdout"
        },
        {
          "output_type": "execute_result",
          "data": {
            "text/html": [
              "\n",
              "        <iframe\n",
              "            width=\"854\"\n",
              "            height=\"480\"\n",
              "            src=\"https://www.youtube.com/embed/buXEQPp9LKI?fs=1\"\n",
              "            frameborder=\"0\"\n",
              "            allowfullscreen\n",
              "        ></iframe>\n",
              "        "
            ],
            "text/plain": [
              "<IPython.lib.display.YouTubeVideo at 0x7f3293e88c88>"
            ],
            "image/jpeg": "[encoded data removed]"
          },
          "metadata": {
            "tags": []
          },
          "execution_count": 11
        }
      ]
    },
    {
      "cell_type": "markdown",
      "metadata": {
        "id": "pKCzc7Fjz8zK",
        "colab_type": "text"
      },
      "source": [
        "## Appendix"
      ]
    },
    {
      "cell_type": "markdown",
      "metadata": {
        "id": "xn34Ieffz_ZO",
        "colab_type": "text"
      },
      "source": [
        "### Why do neurons spike?\n",
        "\n",
        "A neuron stores energy in an electric field across its cell membrane, by controlling the distribution of charges (ions) on either side of the membrane. This energy is rapidly discharged to generate a spike when the field potential (or membrane potential) crosses a threshold. The membrane potential may be driven toward or away from this threshold, depending on inputs from other neurons: excitatory or inhibitory, respectively. The membrane potential tends to revert to a resting potential, for example due to the leakage of ions across the membrane, so that reaching the spiking threshold depends not only on the amount of input ever received following the last spike, but also the timing of the inputs.\n",
        "\n",
        "The storage of energy by maintaining a field potential across an insulating membrane can be modeled by a capacitor. The leakage of charge across the membrane can be modeled by a resistor. This is the basis for the leaky integrate-and-fire neuron model."
      ]
    },
    {
      "cell_type": "markdown",
      "metadata": {
        "id": "pwZOhsV60WPM",
        "colab_type": "text"
      },
      "source": [
        "### The LIF Model Neuron\n",
        "\n",
        "The full equation for the LIF neuron is\n",
        "\n",
        "\\begin{align}\n",
        "C_{m}\\frac{dV_m}{dt} = -(V_m - V_{rest})/R_{m} + I\n",
        "\\end{align}\n",
        "\n",
        "where $C_m$ is the membrane capacitance, $R_M$ is the membrane resistance, $𝑉_{𝑟𝑒𝑠𝑡}$ is the resting potential, and  𝐼  is some input current (from other neurons, an electrode, ...).\n",
        "\n",
        "In our above examples we set many of these properties to convenient values ($C_m = R_m = dt = 1$, $V_{rest} = 0$) to focus more on the overall behavior, though these too can be manipulated to achieve different dynamics."
      ]
    }
  ]
}