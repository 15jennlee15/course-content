{
 "cells": [
  {
   "cell_type": "markdown",
   "metadata": {
    "colab_type": "text",
    "id": "MNPgoaG57Zl6"
   },
   "source": [
    "# Interactive Widget\n",
    "\n",
    "Interactive demos using `ipywidgets` are very helpful."
   ]
  },
  {
   "cell_type": "code",
   "execution_count": null,
   "metadata": {
    "colab": {},
    "colab_type": "code",
    "id": "rIpvq7637Zl7"
   },
   "outputs": [],
   "source": [
    "#@title Imports and setup\n",
    "import numpy as np\n",
    "import matplotlib.pyplot as plt\n",
    "import ipywidgets as widgets"
   ]
  },
  {
   "cell_type": "markdown",
   "metadata": {},
   "source": [
    "Make sure the use a `@title` cell and hide the contents by default, because the code to make the widget is often pretty ugly and not important for the students to see."
   ]
  },
  {
   "cell_type": "code",
   "execution_count": null,
   "metadata": {
    "colab": {
     "referenced_widgets": [
      "087fb6e208004c089c4dfc94aecd982c"
     ]
    },
    "colab_type": "code",
    "id": "TqYjf5gV7ZmD",
    "outputId": "928cc398-a8f3-4832-a352-47df9c6d82c8"
   },
   "outputs": [
    {
     "data": {
      "application/vnd.jupyter.widget-view+json": {
       "model_id": "087fb6e208004c089c4dfc94aecd982c",
       "version_major": 2,
       "version_minor": 0
      },
      "text/plain": [
       "interactive(children=(FloatSlider(value=0.0, description='mean', max=10.0, min=-10.0, step=0.5), FloatSlider(v…"
      ]
     },
     "metadata": {
      "tags": []
     },
     "output_type": "display_data"
    }
   ],
   "source": [
    "#@title Gaussian PDF demo\n",
    "\n",
    "x = np.arange(-10, 11, 0.1)\n",
    "\n",
    "def gaussian(x, mu, sigma):\n",
    "  px = np.exp(-1 / 2 / sigma**2 * (mu - x) ** 2)\n",
    "  px = px / px.sum()\n",
    "  return px\n",
    "\n",
    "@widgets.interact\n",
    "def plot_gaussian(mean=(-10, 10, .5), std=(.5, 10, .5)):\n",
    "  plt.plot(x, gaussian(x, mean, std))"
   ]
  },
  {
   "cell_type": "code",
   "execution_count": null,
   "metadata": {
    "colab": {},
    "colab_type": "code",
    "id": "QZ3ePiGf7ZmO"
   },
   "outputs": [],
   "source": []
  }
 ],
 "metadata": {
  "colab": {
   "name": "Interactive_Widget.ipynb",
   "provenance": []
  },
  "kernelspec": {
   "display_name": "nma (py37)",
   "language": "python",
   "name": "nma"
  },
  "language_info": {
   "codemirror_mode": {
    "name": "ipython",
    "version": 3
   },
   "file_extension": ".py",
   "mimetype": "text/x-python",
   "name": "python",
   "nbconvert_exporter": "python",
   "pygments_lexer": "ipython3",
   "version": "3.7.6"
  }
 },
 "nbformat": 4,
 "nbformat_minor": 1
}
