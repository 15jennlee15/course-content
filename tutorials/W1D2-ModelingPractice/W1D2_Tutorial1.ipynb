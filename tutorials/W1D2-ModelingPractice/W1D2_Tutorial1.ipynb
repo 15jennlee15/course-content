{
  "nbformat": 4,
  "nbformat_minor": 0,
  "metadata": {
    "colab": {
      "name": "Madineh Copy of W1D2 Tutorials part1.ipynb",
      "provenance": [],
      "collapsed_sections": [],
      "toc_visible": true,
      "include_colab_link": true
    },
    "kernelspec": {
      "name": "python3",
      "display_name": "Python 3"
    }
  },
  "cells": [
    {
      "cell_type": "markdown",
      "metadata": {
        "id": "view-in-github",
        "colab_type": "text"
      },
      "source": [
        "<a href=\"https://colab.research.google.com/github/NeuromatchAcademy/course-content/blob/W1D2/tutorials/W1D2-ModelingPractice/W1D2_Tutorial1.ipynb\" target=\"_parent\"><img src=\"https://colab.research.google.com/assets/colab-badge.svg\" alt=\"Open In Colab\"/></a>"
      ]
    },
    {
      "cell_type": "markdown",
      "metadata": {
        "colab_type": "text",
        "id": "hzj-9uW4qDay"
      },
      "source": [
        "# Neuromatch Academy: Week1, Day 2, Tutorial 1\n"
      ]
    },
    {
      "cell_type": "markdown",
      "metadata": {
        "colab_type": "text",
        "id": "33XOc4X_qDbL"
      },
      "source": [
        "#Tutorial objectives\n",
        "Yesterday you gained some understanding of what models can buy us in neuroscience. But how do you build a model? Today, we will try to clarify the process of computational modeling, by building a simple model.\n",
        "\n",
        "We will investigate a simple phenomena, working through the 10 steps of modeling ([Blohm et al., 2019](https://doi.org/10.1523/ENEURO.0352-19.2019)) in two notebooks: \n",
        "\n",
        "**Framing the question**\n",
        "1. finding a phenomenon and a question to ask about it\n",
        "2. understanding the state of the art\n",
        "3. determining the basic ingredients\n",
        "4. formulating specific, mathematically defined hypotheses\n",
        "**Implementing the model**\n",
        "5. selecting the toolkit\n",
        "6. planning the model\n",
        "7. implementing the model\n",
        "**Model testing**\n",
        "8. completing the model\n",
        "9. testing and evaluating the model\n",
        "**Publishing**\n",
        "10. publishing models\n",
        "\n",
        "Tutorial 1 (this notebook) will covers steps 1-5 and part 2 will cover steps 6-10.\n",
        "\n",
        "This tutorial contains both coding and thinking activities.\n",
        "Doing both are essential for success. \n",
        "\n",
        "**TD**: All activities you should perform are labeled with **TD#.#**, which stands for \"To Do\", micro-tutorial number, activity number. They can be found in the Table of Content on the left side of the notebook. Make sure you complete all within a section before moving on!\n",
        "\n",
        "**Run**: Some code chunks' names start with \"Run to ... (do something)\".  These chunks are purely to produce a graph or calculate a number. You do not need to look at or understand the code in those chunks."
      ]
    },
    {
      "cell_type": "markdown",
      "metadata": {
        "id": "EbVRzqZBR17L",
        "colab_type": "text"
      },
      "source": [
        "Setup: Imports, helper functions, and data retreival\n",
        "\n",
        "\n",
        "\n",
        "Please run the following **3** chunks to have functions and data available."
      ]
    },
    {
      "cell_type": "markdown",
      "metadata": {
        "id": "ug11Bcrr_u93",
        "colab_type": "text"
      },
      "source": [
        "#Setup: Imports, helper functions, and data retreival\n"
      ]
    },
    {
      "cell_type": "code",
      "metadata": {
        "id": "lg_R5cVTSEKa",
        "colab_type": "code",
        "cellView": "form",
        "colab": {}
      },
      "source": [
        "#@title Imports\n",
        "#@markdown Import libraries so you can use their functions\n",
        "\n",
        "import time                        # import time \n",
        "import numpy as np                 # import numpy\n",
        "import scipy as sp                 # import scipy\n",
        "from scipy.stats import gamma      # import gamma distribution\n",
        "import math                        # import basic math functions\n",
        "import random                      # import basic random number generator functions\n",
        "\n",
        "import matplotlib.pyplot as plt    # import matplotlib\n",
        "from IPython import display        \n",
        "from scipy.signal import medfilt\n"
      ],
      "execution_count": null,
      "outputs": []
    },
    {
      "cell_type": "code",
      "metadata": {
        "colab_type": "code",
        "cellView": "form",
        "id": "-OC-H0O0qDbj",
        "colab": {}
      },
      "source": [
        "#@title Helper functions\n",
        "#@markdown Helper functions simplify the code that you need to write.\n",
        "\n",
        "def my_moving_window(x, window=3, FUN=np.mean):\n",
        "    '''\n",
        "    Calculates a moving estimate for a signal\n",
        "\n",
        "    Args:\n",
        "        x (numpy.ndarray): a vector array of size N\n",
        "        window (int): size of the window, must be a positive integer\n",
        "        FUN (function): the function to apply to the samples in the window\n",
        "\n",
        "    Returns:\n",
        "        (numpy.ndarray): a vector array of size N, containing the moving average\n",
        "        of x, calculated with a window of size window\n",
        "\n",
        "    There are smarter and faster solutions (e.g. using convolution) but this \n",
        "    function shows what the output really means. This function skips NaNs, and \n",
        "    should not be susceptible to edge effects: it will simply use\n",
        "    all the  available samples, which means that close to the edges of the \n",
        "    signal or close to NaNs, the output will just be based on fewer samples. By\n",
        "    default, this function will apply a mean to the samples in the window, but \n",
        "    this can be changed to be a max/min/median or other function that returns a \n",
        "    single numeric value based on a sequence of values.\n",
        "    '''\n",
        "\n",
        "    # if data is a matrix, apply filter to each row:\n",
        "    if len(x.shape) == 2:\n",
        "        output = np.zeros(x.shape)\n",
        "        for rown in range(x.shape[0]):\n",
        "            output[rown,:] = my_moving_window(x[rown,:],window=window,FUN=FUN)\n",
        "        return output\n",
        "\n",
        "    # make output array of the same size as x:\n",
        "    output = np.zeros(x.size)\n",
        "\n",
        "    # loop through the signal in x\n",
        "    for samp_i in range(x.size):\n",
        "\n",
        "        values = []\n",
        "\n",
        "        # loop through the window:\n",
        "        for wind_i in range(int(-window), 1):\n",
        "\n",
        "            if ((samp_i+wind_i) < 0) or (samp_i+wind_i) > (x.size - 1):\n",
        "                # out of range\n",
        "                continue\n",
        "            \n",
        "            # sample is in range and not nan, use it:\n",
        "            if not(np.isnan(x[samp_i+wind_i])):\n",
        "                values += [x[samp_i+wind_i]]\n",
        "        \n",
        "        # calculate the mean in the window for this point in the output:\n",
        "        output[samp_i] = FUN(values)\n",
        "\n",
        "    return output\n",
        "\n",
        "\n",
        "def my_plot_percepts(datasets=None, plotconditions=False):\n",
        "\n",
        "    if isinstance(datasets,dict):\n",
        "        # try to plot the datasets\n",
        "        # they should be named...\n",
        "        # 'expectations', 'judgments', 'predictions'\n",
        "\n",
        "        fig = plt.figure(figsize=(8, 8)) # set aspect ratio = 1? not really\n",
        "\n",
        "        plt.ylabel('perceived self motion [m/s]')\n",
        "        plt.xlabel('perceived world motion [m/s]')\n",
        "        plt.title('perceived velocities')\n",
        "        \n",
        "        # loop through the entries in datasets\n",
        "        # plot them in the appropriate way\n",
        "        for k in datasets.keys():\n",
        "            if k == 'expectations':\n",
        "                \n",
        "                expect = datasets[k]\n",
        "                plt.scatter(expect['world'],expect['self'],marker='*',color='xkcd:green',label='my expectations')\n",
        "\n",
        "            elif k == 'judgments':\n",
        "                \n",
        "                judgments = datasets[k]\n",
        "\n",
        "                for condition in np.unique(judgments[:,0]):\n",
        "                    c_idx = np.where(judgments[:,0] == condition)[0]\n",
        "                    cond_self_motion = judgments[c_idx[0],1]\n",
        "                    cond_world_motion = judgments[c_idx[0],2]\n",
        "                    if cond_world_motion == -1 and cond_self_motion == 0:\n",
        "                        c_label = 'world-motion condition judgments' \n",
        "                    elif cond_world_motion == 0 and cond_self_motion == 1:\n",
        "                        c_label = 'self-motion condition judgments' \n",
        "                    else:\n",
        "                        c_label = 'condition [%d] judgments'%condition\n",
        "                    \n",
        "                    plt.scatter(judgments[c_idx,3],judgments[c_idx,4], label=c_label, alpha=0.2)\n",
        "\n",
        "            elif k == 'predictions':\n",
        "                \n",
        "                predictions = datasets[k]\n",
        "\n",
        "                for condition in np.unique(predictions[:,0]):\n",
        "                    c_idx = np.where(predictions[:,0] == condition)[0]\n",
        "                    cond_self_motion = predictions[c_idx[0],1]\n",
        "                    cond_world_motion = predictions[c_idx[0],2]\n",
        "                    if cond_world_motion == -1 and cond_self_motion == 0:\n",
        "                        c_label = 'predicted world-motion condition' \n",
        "                    elif cond_world_motion == 0 and cond_self_motion == 1:\n",
        "                        c_label = 'predicted self-motion condition' \n",
        "                    else:\n",
        "                        c_label = 'condition [%d] prediction'%condition\n",
        "                    \n",
        "                    plt.scatter(predictions[c_idx,4],predictions[c_idx,3], marker='x', label=c_label)\n",
        "\n",
        "            else:\n",
        "                print(\"datasets keys should be 'hypothesis', 'judgments' and 'predictions'\")\n",
        "\n",
        "            \n",
        "        if plotconditions:\n",
        "            # this code is simplified but only works for the dataset we have:\n",
        "            plt.scatter([1],[0],marker='<',facecolor='none',edgecolor='xkcd:black',linewidths=2,label='world-motion stimulus',s=80)\n",
        "            plt.scatter([0],[1],marker='>',facecolor='none',edgecolor='xkcd:black',linewidths=2,label='self-motion stimulus',s=80)\n",
        "\n",
        "        plt.legend(facecolor='xkcd:white')\n",
        "        plt.show()\n",
        "\n",
        "    else:\n",
        "        if datasets is not None:\n",
        "            print('datasets argument should be a dict')\n",
        "            raise TypeError\n",
        "\n",
        "def my_plot_motion_signals():\n",
        "    dt = 1/10\n",
        "    a = gamma.pdf( np.arange(0,10,dt), 2.5, 0 )\n",
        "    t = np.arange(0,10,dt)\n",
        "    v = np.cumsum(a*dt)\n",
        "\n",
        "    fig, [ax1, ax2] = plt.subplots(nrows=1, ncols=2, sharex='col', sharey='row', figsize=(14,6))\n",
        "    fig.suptitle('Sensory ground truth')\n",
        "\n",
        "    ax1.set_title('world-motion condition')\n",
        "    ax1.plot(t,-v,label='visual [$m/s$]')\n",
        "    ax1.plot(t,np.zeros(a.size),label='vestibular [$m/s^2$]')\n",
        "    ax1.set_xlabel('time [s]')\n",
        "    ax1.set_ylabel('motion')\n",
        "    ax1.legend(facecolor='xkcd:white')\n",
        "\n",
        "    ax2.set_title('self-motion condition')\n",
        "    ax2.plot(t,-v,label='visual [$m/s$]')\n",
        "    ax2.plot(t,a,label='vestibular [$m/s^2$]')\n",
        "    ax2.set_xlabel('time [s]')\n",
        "    ax2.set_ylabel('motion')\n",
        "    ax2.legend(facecolor='xkcd:white')\n",
        "\n",
        "    plt.show()\n",
        "\n",
        "\n",
        "\n",
        "def my_plot_sensorysignals(judgments, opticflow, vestibular, returnaxes=False, addaverages=False):\n",
        "    \n",
        "    wm_idx = np.where(judgments[:,0] == 0)\n",
        "    sm_idx = np.where(judgments[:,0] == 1)\n",
        "     \n",
        "    opticflow = opticflow.transpose()\n",
        "    wm_opticflow = np.squeeze(opticflow[:,wm_idx])\n",
        "    sm_opticflow = np.squeeze(opticflow[:,sm_idx])\n",
        "    \n",
        "    vestibular = vestibular.transpose()\n",
        "    wm_vestibular = np.squeeze(vestibular[:,wm_idx])\n",
        "    sm_vestibular = np.squeeze(vestibular[:,sm_idx])\n",
        "    \n",
        "    X = np.arange(0,10,.1)\n",
        "    \n",
        "    fig, my_axes = plt.subplots(nrows=2, ncols=2, sharex='col', sharey='row', figsize=(15,10))\n",
        "    fig.suptitle('Sensory signals')\n",
        "\n",
        "    my_axes[0][0].plot(X,wm_opticflow, color='xkcd:light red', alpha=0.1)\n",
        "    my_axes[0][0].plot([0,10], [0,0], ':', color='xkcd:black')\n",
        "    if addaverages:\n",
        "        my_axes[0][0].plot(X,np.average(wm_opticflow, axis=1), color='xkcd:red', alpha=1)\n",
        "    my_axes[0][0].set_title('optic-flow in world-motion condition')\n",
        "    my_axes[0][0].set_ylabel('[motion]')\n",
        "\n",
        "    my_axes[0][1].plot(X,sm_opticflow, color='xkcd:azure', alpha=0.1)\n",
        "    my_axes[0][1].plot([0,10], [0,0], ':', color='xkcd:black')\n",
        "    if addaverages:\n",
        "        my_axes[0][1].plot(X,np.average(sm_opticflow, axis=1), color='xkcd:blue', alpha=1)\n",
        "    my_axes[0][1].set_title('optic-flow in self-motion condition')\n",
        "\n",
        "    my_axes[1][0].plot(X,wm_vestibular, color='xkcd:light red', alpha=0.1)\n",
        "    my_axes[1][0].plot([0,10], [0,0], ':', color='xkcd:black')\n",
        "    if addaverages:\n",
        "        my_axes[1][0].plot(X,np.average(wm_vestibular, axis=1), color='xkcd:red', alpha=1)\n",
        "    my_axes[1][0].set_title('vestibular signal in world-motion condition')\n",
        "    my_axes[1][0].set_xlabel('time [s]')\n",
        "    my_axes[1][0].set_ylabel('[motion]')\n",
        "\n",
        "    my_axes[1][1].plot(X,sm_vestibular, color='xkcd:azure', alpha=0.1)\n",
        "    my_axes[1][1].plot([0,10], [0,0], ':', color='xkcd:black')\n",
        "    if addaverages:\n",
        "        my_axes[1][1].plot(X,np.average(sm_vestibular, axis=1), color='xkcd:blue', alpha=1)\n",
        "    my_axes[1][1].set_title('vestibular signal in self-motion condition')\n",
        "    my_axes[1][1].set_xlabel('time [s]')\n",
        "\n",
        "    if returnaxes:\n",
        "        return my_axes\n",
        "    else:\n",
        "        plt.show()\n",
        "\n",
        "def my_plot_thresholds(thresholds, world_prop, self_prop, prop_correct):\n",
        "\n",
        "    plt.figure(figsize=(12,8))\n",
        "    plt.title('threshold effects')\n",
        "    plt.plot([min(thresholds),max(thresholds)],[0,0],':',color='xkcd:black')\n",
        "    plt.plot([min(thresholds),max(thresholds)],[0.5,0.5],':',color='xkcd:black')\n",
        "    plt.plot([min(thresholds),max(thresholds)],[1,1],':',color='xkcd:black')\n",
        "    plt.plot(thresholds, world_prop, label='world motion condition')\n",
        "    plt.plot(thresholds, self_prop, label='self motion condition')\n",
        "    plt.plot(thresholds, prop_correct, color='xkcd:purple', label='correct classification')\n",
        "    plt.xlabel('threshold')\n",
        "    plt.ylabel('proportion correct or classified as self motion')\n",
        "    plt.legend(facecolor='xkcd:white')\n",
        "    plt.show()\n",
        "\n",
        "def my_plot_predictions_data(judgments, predictions):\n",
        "\n",
        "    conditions = np.concatenate((np.abs(judgments[:,1]),np.abs(judgments[:,2])))\n",
        "    veljudgmnt = np.concatenate((judgments[:,3],judgments[:,4]))\n",
        "    velpredict = np.concatenate((predictions[:,3],predictions[:,4]))\n",
        "\n",
        "    # self:\n",
        "    conditions_self = np.abs(judgments[:,1])\n",
        "    veljudgmnt_self = judgments[:,3]\n",
        "    velpredict_self = predictions[:,3]\n",
        "\n",
        "    # world:\n",
        "    conditions_world = np.abs(judgments[:,2])\n",
        "    veljudgmnt_world = judgments[:,4]\n",
        "    velpredict_world = predictions[:,4]\n",
        "\n",
        "    fig, [ax1, ax2] = plt.subplots(nrows=1, ncols=2, sharey='row', figsize=(12,5))\n",
        "\n",
        "    ax1.scatter(veljudgmnt_self,velpredict_self, alpha=0.2)\n",
        "    ax1.plot([0,1],[0,1],':',color='xkcd:black')\n",
        "    ax1.set_title('self-motion judgments')\n",
        "    ax1.set_xlabel('observed')\n",
        "    ax1.set_ylabel('predicted')\n",
        "\n",
        "    ax2.scatter(veljudgmnt_world,velpredict_world, alpha=0.2)\n",
        "    ax2.plot([0,1],[0,1],':',color='xkcd:black')\n",
        "    ax2.set_title('world-motion judgments')\n",
        "    ax2.set_xlabel('observed')\n",
        "    ax2.set_ylabel('predicted')\n",
        "\n",
        "    plt.show()"
      ],
      "execution_count": null,
      "outputs": []
    },
    {
      "cell_type": "code",
      "metadata": {
        "id": "_zVDbJH1WhIj",
        "colab_type": "code",
        "cellView": "form",
        "colab": {}
      },
      "source": [
        "#@title Figure parameters\n",
        "#@markdown This cell defines the way that figures will appear by default.\n",
        "\n",
        "%matplotlib inline\n",
        "#%config InlineBackend.figure_format = 'retina'\n",
        "\n",
        "\n",
        "fig_w, fig_h = (12, 8)\n",
        "plt.rcParams.update({'figure.figsize': (fig_w, fig_h)})\n",
        "plt.style.use('ggplot')\n"
      ],
      "execution_count": null,
      "outputs": []
    },
    {
      "cell_type": "code",
      "metadata": {
        "colab_type": "code",
        "cellView": "form",
        "id": "GJG0pGXCqDbu",
        "colab": {}
      },
      "source": [
        "#@title Data retrieval (The data generated below needs to be put on OSF, and this cell deleted)\n",
        "#@markdown This cell downloads the example dataset that we will use in this tutorial.\n",
        "\n",
        "def my_simulate_data(repetitions=100, conditions=[(0,-1),(+1,0)] ):\n",
        "    \"\"\"\n",
        "    Generate simulated data for this tutorial. You do not need to run this \n",
        "    yourself.\n",
        "\n",
        "    Args:\n",
        "      repetitions: (int) number of repetitions of each condition (default: 30)\n",
        "      conditions: list of 2-tuples of floats, indicating the self velocity and \n",
        "                  world velocity in each condition (default: returns data that is\n",
        "                  good for exploration: [(-1,0),(0,+1)] but can be flexibly\n",
        "                  extended)\n",
        "\n",
        "    The total number of trials used (ntrials) is equal to:\n",
        "    repetitions * len(conditions)\n",
        "\n",
        "    Returns:\n",
        "      dict with three entries:\n",
        "        'judgments':  ntrials * 5 matrix\n",
        "        'opticflow':  ntrials * 100 matrix\n",
        "        'vestibular': ntrials * 100 matrix\n",
        "    \n",
        "    The default settings would result in data where first 30 trials reflect a\n",
        "    situation where the world (other train) moves in one direction, supposedly\n",
        "    at 1 m/s (perhaps to the left: -1) while the participant does not move at\n",
        "    all (0), and 30 trials from a second condition, where the world does not \n",
        "    move, while the participant moves with 1 m/s in the opposite direction from\n",
        "    where the world is moving in the first condition (0,+1). The optic flow \n",
        "    should be the same, but the vestibular input is not.\n",
        "\n",
        "    \"\"\"\n",
        "    \n",
        "    # reproducible output\n",
        "    np.random.seed(1937)\n",
        "    \n",
        "    # set up some variables:\n",
        "    ntrials    = repetitions * len(conditions)\n",
        "\n",
        "    # the following arrays will contain the simulated data:\n",
        "    judgments  = np.empty(shape=(ntrials,5))\n",
        "    opticflow  = np.empty(shape=(ntrials,100))\n",
        "    vestibular = np.empty(shape=(ntrials,100))\n",
        "    \n",
        "\n",
        "    # acceleration:\n",
        "    a = gamma.pdf(np.arange(0,10,.1), 2.5, 0 )\n",
        "    # divide by 10 so that velocity scales from 0 to 1 (m/s)\n",
        "\n",
        "    # max acceleration ~ .308 m/s^2\n",
        "    # not realistic! should be about 1/10 of that\n",
        "\n",
        "    # velocity:\n",
        "    v = np.cumsum(a*.1)\n",
        "    # position: (not necessary)\n",
        "    #x = np.cumsum(v)\n",
        "    \n",
        "    #################################\n",
        "    # REMOVE ARBITRARY SCALING & CORRECT NOISE PARAMETERS\n",
        "\n",
        "    vest_amp = 1\n",
        "    optf_amp = 1\n",
        "\n",
        "    # we start at the first trial:\n",
        "    trialN = 0\n",
        "\n",
        "    # we start with only a single velocity, but it should be possible to extend this\n",
        "    for conditionno in range(len(conditions)):\n",
        "\n",
        "        condition = conditions[conditionno]\n",
        "\n",
        "        for repetition in range(repetitions):\n",
        "            \n",
        "            # \n",
        "\n",
        "            # generate optic flow signal\n",
        "            OF = v * np.diff(condition)                             # optic flow: difference between self & world motion\n",
        "            OF = (OF * optf_amp)                                    # fairly large spike range\n",
        "            OF = OF + (np.random.randn(len(OF)) * .1)               # adding noise\n",
        "            \n",
        "            # generate vestibular signal\n",
        "            VS = a * condition[0]                                   # vestibular signal: only self motion\n",
        "            VS = (VS * vest_amp)                                    # less range\n",
        "            VS = VS + (np.random.randn(len(VS)) * 1.)               # acceleration is a smaller signal, what is a good noise level?\n",
        "            \n",
        "            # store in matrices, corrected for sign\n",
        "            #opticflow[trialN,:] = OF * -1 if (np.sign(np.diff(condition)) < 0) else OF\n",
        "            #vestibular[trialN,:] = VS * -1 if (np.sign(condition[1]) < 0) else VS\n",
        "            opticflow[trialN,:], vestibular[trialN,:] = OF, VS\n",
        "\n",
        "            #########################################################\n",
        "            \n",
        "            # store conditions in judgments matrix:\n",
        "            judgments[trialN,0:3] = [ conditionno, condition[0], condition[1] ]\n",
        "            \n",
        "            # vestibular SD: 1.0916052957046194 and 0.9112684509277528\n",
        "            # visual SD: 0.10228834313079663 and 0.10975472557444346\n",
        "\n",
        "            # generate judgments:\n",
        "            if (abs(np.average(np.cumsum(medfilt(VS/vest_amp,5)*.1)[70:90])) < 1):\n",
        "                ###########################\n",
        "                # NO self motion detected\n",
        "                ###########################\n",
        "                selfmotion_weights  = np.array([.01,.01])  # there should be low/no self motion\n",
        "                worldmotion_weights = np.array([.01,.99])  # world motion is dictated by optic flow\n",
        "                \n",
        "\n",
        "            else:\n",
        "                ########################\n",
        "                # self motion DETECTED\n",
        "                ########################\n",
        "                #if (abs(np.average(np.cumsum(medfilt(VS/vest_amp,15)*.1)[70:90]) - np.average(medfilt(OF,15)[70:90])) < 5):\n",
        "                if True:\n",
        "                    ####################\n",
        "                    # explain all self motion by optic flow\n",
        "                    selfmotion_weights  = np.array([.01,.99])  # there should be lots of self motion, but determined by optic flow\n",
        "                    worldmotion_weights = np.array([.01,.01])  # very low world motion?\n",
        "                else:\n",
        "                    # we use both optic flow and vestibular info to explain both\n",
        "                    selfmotion_weights  = np.array([ 1, 0])    # motion, but determined by vestibular signal\n",
        "                    worldmotion_weights = np.array([ 1, 1])  # very low world motion?\n",
        "                \n",
        "            # \n",
        "            integrated_signals = np.array([\n",
        "                                           np.average( np.cumsum(medfilt(VS/vest_amp,15))[90:100]*.1 ), \n",
        "                                           np.average((medfilt(OF/optf_amp,15))[90:100]) \n",
        "                                           ])\n",
        "            selfmotion  = np.sum(integrated_signals * selfmotion_weights)\n",
        "            worldmotion = np.sum(integrated_signals * worldmotion_weights)\n",
        "            #print(worldmotion,selfmotion)\n",
        "\n",
        "            judgments[trialN,3] = abs(selfmotion)\n",
        "            judgments[trialN,4] = abs(worldmotion)\n",
        "            \n",
        "            # this ends the trial loop, so we increment the counter:\n",
        "            trialN += 1\n",
        "                \n",
        "    return {'judgments':judgments, \n",
        "            'opticflow':opticflow, \n",
        "            'vestibular':vestibular}\n",
        "\n",
        "simulated_data = my_simulate_data()\n",
        "\n",
        "judgments = simulated_data['judgments']\n",
        "opticflow = simulated_data['opticflow']\n",
        "vestibular = simulated_data['vestibular']\n"
      ],
      "execution_count": null,
      "outputs": []
    },
    {
      "cell_type": "markdown",
      "metadata": {
        "id": "VwYbiX-6FOQ7",
        "colab_type": "text"
      },
      "source": [
        "#  Micro-tutorial 1 - investigate the phenomenon and ask questions\n"
      ]
    },
    {
      "cell_type": "code",
      "metadata": {
        "id": "cQ2z_Ac0bFME",
        "colab_type": "code",
        "cellView": "form",
        "colab": {
          "base_uri": "https://localhost:8080/",
          "height": 518
        },
        "outputId": "9131ed17-80e7-4dbf-f1fd-48a09605eab5"
      },
      "source": [
        "#@title Video: ask questions\n",
        "from IPython.display import YouTubeVideo\n",
        "video = YouTubeVideo(id='c9DHjcMJ5Kk', width=854, height=480, fs=1)\n",
        "print(\"Video available at https://youtube.com/watch?v=\" + video.id)\n",
        "video"
      ],
      "execution_count": null,
      "outputs": [
        {
          "output_type": "stream",
          "text": [
            "Video available at https://youtube.com/watch?v=c9DHjcMJ5Kk\n"
          ],
          "name": "stdout"
        },
        {
          "output_type": "execute_result",
          "data": {
            "text/html": [
              "\n",
              "        <iframe\n",
              "            width=\"854\"\n",
              "            height=\"480\"\n",
              "            src=\"https://www.youtube.com/embed/c9DHjcMJ5Kk?fs=1\"\n",
              "            frameborder=\"0\"\n",
              "            allowfullscreen\n",
              "        ></iframe>\n",
              "        "
            ],
            "text/plain": [
              "<IPython.lib.display.YouTubeVideo at 0x7fa6b6e9c048>"
            ],
            "image/jpeg": "[encoded data removed]"
          },
          "metadata": {
            "tags": []
          },
          "execution_count": 104
        }
      ]
    },
    {
      "cell_type": "markdown",
      "metadata": {
        "colab_type": "text",
        "id": "ZzSMqN4zQ3XI"
      },
      "source": [
        "\n",
        "**Goal**: formulate a good question!\n",
        "\n",
        "### Background: The train illusion\n",
        "You have likely experienced the train illusion: You enter the train (everything is immobile) and view a train next to you through the window from your seat. Now you see motion through the window (optic flow) but it can be unclear who’s moving? The train you're on? The train next door? Or both? Your perception of motion typically takes one form. This false/illusory perception of self-motion when in reality there is world-motion (the train next to you is moving) is known as the train illusion. \n",
        "\n",
        "Watch these videos as a reminder: [Relative velocity of trains](https://youtu.be/AKhvqO5UBsA) and [masstransitscope](https://untappedcities.com/2016/03/14/video-masstransitscope-a-zoetrope-art-piece-in-an-abandoned-nyc-subway-station/).\n",
        "> When watching the first movie full screen, you might experience the illusion.\n",
        "\n",
        "Sometimes we perceive our own train to be moving and sometimes the other train. How come our perception is ambiguous?\n",
        "\n",
        "We will build a simple model (that explains train illusions) with the goal _to learn about the process of model building_ (i.e.: not to explain train illusions or get a correct model). To keep this manageable, we use a _simulated_ data set. Imagine we get data from an experimentalist who collected judgments on self motion and world motion, in two conditions. One where there was only world motion, and one where there was only self motion. In either case, the velocity increased from 0 to 1 m/s across 10 seconds with the same (fairly low) acceleration. Each of these conditions was recorded 100 times:\n",
        "\n",
        "![illustration of the conditions](https://deniseh.lab.yorku.ca/files/2020/06/NMA-W1D2-fig01.jpg)\n",
        "\n",
        "Participants sit very still during the trials and at the end of each 10 s trial they are given two button pressers, one to indicate that they though there was self-motion and another to indicate that they though the world was moving _at the end of the interval_. They are also asked to estimate the velocity of the reported self or world motion.\n",
        "\n",
        "**Considerations:**\n",
        "Imagine you plot the world motion data on the x-axis, and the self-motion data on the y-axis.\n",
        "* in the self-motion condition, where on this plot should judgment of self-motion and world-motion lie?\n",
        "* if only world-motion, where should judgment data lie?\n",
        "* what happens if there is an illusion of self-motion?\n"
      ]
    },
    {
      "cell_type": "markdown",
      "metadata": {
        "id": "iYQAJwk5Xehm",
        "colab_type": "text"
      },
      "source": [
        "### **TD 1.1**: Form expectations about the experiment, using the phenomena\n",
        "In the experiment there are true velocities of self and world motion, and we get the participants _judgments_ of those velocities. Sometimes the participants will be correct, but sometimes they will experience a train illusions. Which velocity judgment pairs do you think will occur in this experiment? In which conditions does the illusion occur? What will the judgments look like if there is an illusion? In the Python chunk below, you should put some numbers that represent your expectations. Remember the judgments are exclusive, you either experience world motion (world_vel_exp > 0) or self motion (self_vel_exp > 0), but not both on the same trial. Also remember that judgements are unsigned, so use positive numbers in m/s. Replace the question marks, and add, remove and change values in the two lists until you are satisfied.\n",
        "\n",
        "**Create Expectations**"
      ]
    },
    {
      "cell_type": "code",
      "metadata": {
        "colab_type": "code",
        "cellView": "both",
        "id": "__mHu_3DqDb6",
        "colab": {}
      },
      "source": [
        "# Create Expectations\n",
        "###################################################################\n",
        "## Change the values in the lists below. \n",
        "## These act as X and Y coordinates for a scatter plot, \n",
        "## so make sure the lists match in length.\n",
        "## the provided code will plot your expectations\n",
        "################################################################### \n",
        "\n",
        "#To complete the exercise, uncomment the code below and fill in the missing parts (?)\n",
        "\n",
        "#world_vel_exp = [0, 1, ?, ?]\n",
        "#self_vel_exp  = [?, ?, 0, 1]\n",
        "\n",
        "#expectations = {'world':world_vel_exp, 'self':self_vel_exp}\n",
        "#my_plot_percepts(datasets={'expectations':expectations})"
      ],
      "execution_count": null,
      "outputs": []
    },
    {
      "cell_type": "code",
      "metadata": {
        "colab_type": "code",
        "cellView": "both",
        "id": "g1meCGZgqDcB",
        "colab": {
          "base_uri": "https://localhost:8080/",
          "height": 524
        },
        "outputId": "3e30e690-3dee-4514-c999-7a6e714f67fe"
      },
      "source": [
        "# to_remove solution\n",
        "###################################################################\n",
        "## Change the values in the lists below. \n",
        "## These act as X and Y coordinates for a scatter plot, so make sure\n",
        "## the lists match in length.\n",
        "################################################################### \n",
        "\n",
        "world_vel_exp = [0, 1] \n",
        "self_vel_exp  = [1, 0]\n",
        "\n",
        "# the code below creates a figure with your predictions\n",
        "expectations = {'world':world_vel_exp, 'self':self_vel_exp}\n",
        "\n",
        "with plt.xkcd():\n",
        "  my_plot_percepts(datasets={'expectations':expectations})"
      ],
      "execution_count": null,
      "outputs": [
        {
          "output_type": "display_data",
          "data": {
            "image/png": "[encoded data removed]",
            "text/plain": [
              "<Figure size 576x576 with 1 Axes>"
            ]
          },
          "metadata": {
            "tags": []
          }
        }
      ]
    },
    {
      "cell_type": "markdown",
      "metadata": {
        "colab_type": "text",
        "id": "axwMHXy8qDcI"
      },
      "source": [
        "### **TD 1.2**: Compare Expectations to Data\n",
        "The data from our experiment is in a matrix called `judgments`, where each row indicates a trial, and the columns represent the following variables.\n",
        "\n",
        "Columns in `judgments' matrix:\n",
        "0. condition number (for bookkeeping)\n",
        "1. self velocity stimulus (m/s, directional)\n",
        "2. world velocity stimulus (m/s, directional)\n",
        "3. self motion judgment (m/s, not directional)\n",
        "4. world motion judgment (m/s, not directional)\n",
        "\n",
        "The condition number can be 0 (world-motion condition, first 100 rows) or 1 (self-motion condition, last 100 rows). Column 1 (self-motion velocity) is 0 for the world-motion condition, but 1 for the self-motion condition. Column 2 (world-motion velocity) is -1 for the world-motion condition, but 0 for the self-motion condition. These three columns just describe the conditions from the _\"experiment\"_ we did, and you will not have to use them.\n",
        "\n",
        "The motion judgements (columns 3 and 4) are the participants judgments of the self-motion velocity and world-motion velocity respectively, and should show the illusion.  Both are in unsigned m/s. So here we will plot the judgment data, along with the true motion of the stimuli in the experiment:\n"
      ]
    },
    {
      "cell_type": "code",
      "metadata": {
        "colab_type": "code",
        "id": "wj2ixRewTvuL",
        "cellView": "form",
        "colab": {
          "base_uri": "https://localhost:8080/",
          "height": 517
        },
        "outputId": "5c7802ed-14d1-4208-e55e-955cf5bbb85b"
      },
      "source": [
        "#@title Run to plot perceptual judgments\n",
        "my_plot_percepts(datasets={'judgments':judgments}, \n",
        "                 plotconditions=True)"
      ],
      "execution_count": null,
      "outputs": [
        {
          "output_type": "display_data",
          "data": {
            "image/png": "[encoded data removed]",
            "text/plain": [
              "<Figure size 576x576 with 1 Axes>"
            ]
          },
          "metadata": {
            "tags": []
          }
        }
      ]
    },
    {
      "cell_type": "markdown",
      "metadata": {
        "colab_type": "text",
        "id": "zbB5-oU_TvuN"
      },
      "source": [
        "### **TD 1.3**: Think about what the data is saying, by answering these questions:\n",
        "* How does it differ from your initial expectations? \n",
        "* Where are the clusters of data, roughly?\n",
        "* What does it mean that the some of the judgments from the world-motion condition are close to the self-motion stimulus and vice versa?\n",
        "* Why are there no data points in the middle?\n",
        "* What aspects of the data require explanation?"
      ]
    },
    {
      "cell_type": "markdown",
      "metadata": {
        "id": "W0dabhCGFdPT",
        "colab_type": "text"
      },
      "source": [
        "#Micro-tutorial 2 - understanding background information\n"
      ]
    },
    {
      "cell_type": "code",
      "metadata": {
        "id": "a6GK1G7qbmg1",
        "colab_type": "code",
        "cellView": "form",
        "colab": {
          "base_uri": "https://localhost:8080/",
          "height": 518
        },
        "outputId": "3d497b1d-1d35-43bd-d4b4-01649909a615"
      },
      "source": [
        "#@title Video: Background\n",
        "from IPython.display import YouTubeVideo\n",
        "video = YouTubeVideo(id='yMb9IFH8gg0', width=854, height=480, fs=1)\n",
        "print(\"Video available at https://youtube.com/watch?v=\" + video.id)\n",
        "video"
      ],
      "execution_count": null,
      "outputs": [
        {
          "output_type": "stream",
          "text": [
            "Video available at https://youtube.com/watch?v=yMb9IFH8gg0\n"
          ],
          "name": "stdout"
        },
        {
          "output_type": "execute_result",
          "data": {
            "text/html": [
              "\n",
              "        <iframe\n",
              "            width=\"854\"\n",
              "            height=\"480\"\n",
              "            src=\"https://www.youtube.com/embed/yMb9IFH8gg0?fs=1\"\n",
              "            frameborder=\"0\"\n",
              "            allowfullscreen\n",
              "        ></iframe>\n",
              "        "
            ],
            "text/plain": [
              "<IPython.lib.display.YouTubeVideo at 0x7fa6b40f8390>"
            ],
            "image/jpeg": "[encoded data removed]"
          },
          "metadata": {
            "tags": []
          },
          "execution_count": 108
        }
      ]
    },
    {
      "cell_type": "markdown",
      "metadata": {
        "colab_type": "text",
        "id": "J0m93j0JqDcQ"
      },
      "source": [
        "**Goal:** Now that we have an interesting phenomenon, we gather background information which will refine our questions, and we lay the groundwork for developing scientific hypotheses. \n",
        "\n",
        "**Background: Motion Sensing**: \n",
        "We recall that our self-motion percepts are based on our visual (optic flow) and vestibular (inner ear) sensing. Optic flow is the moving image on the retina caused by either self or world-motion. Vestibular signals are related to bodily self- movements only.\n",
        "\n",
        "These two signals are used by people to make judgements about their self-motion velocity and the world/train's motion velocity, and when combined can lead to the illusory perceptions of world motion or self motion as in the train illusion. \n",
        "\n",
        "While the train illusion is poorly understood, a lot is known about these signals.\n",
        "\n",
        "**Background: Understanding the stimulus**:\n",
        "We'll first look at the ground truth which is stimulating the senses in our experiment: the world- and self-motion that the participants were exposed to in the experiment. \n",
        "\n",
        "These motion signals can be understood as velocity in $m/s$ (optic flow) and acceleration in $m/s^2$ (vestibular signal). \n",
        "\n"
      ]
    },
    {
      "cell_type": "markdown",
      "metadata": {
        "colab_type": "text",
        "id": "5u_j60ZlqDcR"
      },
      "source": [
        "These motion signals were used in the experimental conditions:"
      ]
    },
    {
      "cell_type": "code",
      "metadata": {
        "colab_type": "code",
        "cellView": "form",
        "id": "d5Q9C1FzqDcT",
        "colab": {
          "base_uri": "https://localhost:8080/",
          "height": 434
        },
        "outputId": "088ea615-f565-4a15-cafa-b2efefbd1333"
      },
      "source": [
        "#@title Run to plot motion signals\n",
        "my_plot_motion_signals()"
      ],
      "execution_count": null,
      "outputs": [
        {
          "output_type": "display_data",
          "data": {
            "image/png": "[encoded data removed]",
            "text/plain": [
              "<Figure size 1008x432 with 2 Axes>"
            ]
          },
          "metadata": {
            "tags": []
          }
        }
      ]
    },
    {
      "cell_type": "markdown",
      "metadata": {
        "colab_type": "text",
        "id": "jKy9JCefqDcZ"
      },
      "source": [
        "### **TD 2.1**: Examine the differences between the conditions:\n",
        "* how are the visual inputs (optic flow) different between the conditions?\n",
        "* how are the vestibular signals different between the conditions?\n",
        "* how might the brain use these signals to determine there is self motion?\n",
        "* how might the brain use these signals to determine there is world motion?\n",
        "\n",
        "We can see that, in theory, we have enough information to disambiguate self-motion from world-motion using these signals, so there should be no false illusory percepts like the train illusion. Let's go over the logic together:\n",
        "The visual signal is ambiguous, it will be non-zero when there is either self-motion or world-motion. The vestibular signal is specific, it’s only non-zero when there is self-motion, but it contains little information about world-motion. So combining these two signals should allow us to disambiguate the self-motion condition from the world-motion condition!\n",
        "\n",
        "* In the world-motion condition: The brain can simply compare the visual and vestibular signals. If there is visual motion AND NOT vestibular motion, it must be that the world is moving but not the body/self = world-motion judgement.\n",
        "* In the self-motion condition: We can make a similar comparison. If there is both visual signals AND vestibular signals, it must be that the body/self is moving = self-motion judgement.\n"
      ]
    },
    {
      "cell_type": "markdown",
      "metadata": {
        "id": "NG2y34BD1ul0",
        "colab_type": "text"
      },
      "source": [
        "**Background: Integrating signals**: \n",
        "\n",
        "To understand how the vestibular _acceleration_ signal could underlie the perception of self-motion _velocity_, we assume the brain integrates the signal.   This also allows comparing the vestibular signal to the visual signal, by getting them in the same units. \n",
        "\n",
        "Since acceleration is the derivative of velocity, we can integrate the vestibular acceleration signal to compare it to the visual velocity signal:\n",
        "\n",
        "$$v(t) = \\int_{0}^T a(t) \\cdot dt + v_0$$\n",
        "\n",
        "> * $a(t)$ is acceleration as a function of time\n",
        "* $v(t)$ is velocity as a function of time\n",
        "* $v_0$ is the _constant of integration_ which corresponds in the initial condition of the system at time $0$.\n",
        "\n",
        "In our experiment $v_0 = 0$, so we can safely leave it out from here on. For other experiments, the initial condition $v_0$ must be **remembered** or **known** - it represents remembering or knowing your motion when the trial starts.  \n",
        "\n",
        "We can approximate the integral using '_Euler Integration_', or discretizing the acceleration signal into $\\Delta t$, and summing over all the areas for each $\\Delta t$ starting at time 0 of our signal. The process of keeping a running sum, as done here, is known as cumulative summation.\n",
        "$$v_t = \\sum_{k=0}^t a_k\\cdot\\Delta t$$\n",
        ">* $\\Delta t$ is equal to the sample interval of our recorded visual and vestibular signals (0.1 s).\n",
        "\n",
        "In Python, we can use the `np.cumsum()` function on a signal to do definite integration using the Euler method.  \n",
        "\n",
        "To preserve the right timescale, you should multiply the acceleration signal by $\\Delta t$ = 100 ms, or 0.1 s. \n",
        "\n",
        "Below is a chunk of code where you should apply the `np.cumsum()` function to the acceleration that was used in our (simulated) experiment: `a` in order to get a velocity signal `v`.  "
      ]
    },
    {
      "cell_type": "markdown",
      "metadata": {
        "id": "xHQ8cP9ZQW4E",
        "colab_type": "text"
      },
      "source": [
        "### **TD 2.2**: Numerically Integrating a signal\n",
        "\n",
        "**Complete this code, to integrate acceleration**"
      ]
    },
    {
      "cell_type": "code",
      "metadata": {
        "colab_type": "code",
        "cellView": "both",
        "id": "bDO-7fzIqDcd",
        "colab": {}
      },
      "source": [
        "# Complete the code:\n",
        "dt = 1/10\n",
        "a = gamma.pdf(np.arange(0,10,dt), 2.5, 0 )\n",
        "t = np.arange(0,10,dt)\n",
        "\n",
        "######################################################\n",
        "# To complete the exercise, uncomment the code and fill missing parts (???)\n",
        "#v = np.cumsum(???)\n",
        "\n",
        "\n",
        "#plt.figure(figsize=(10,6))\n",
        "#plt.plot(t,a,label='acceleration [$m/s^2$]')\n",
        "#plt.plot(t,v,label='velocity [$m/s$]')\n",
        "#plt.xlabel('time [s]')\n",
        "#plt.ylabel('[motion]')\n",
        "#plt.legend(facecolor='xkcd:white')\n",
        "#plt.show()"
      ],
      "execution_count": null,
      "outputs": []
    },
    {
      "cell_type": "code",
      "metadata": {
        "colab_type": "code",
        "cellView": "both",
        "id": "k2imNoTuqDci",
        "colab": {
          "base_uri": "https://localhost:8080/",
          "height": 397
        },
        "outputId": "7c5af4f4-294a-4731-9750-5371d1fbcd67"
      },
      "source": [
        "# to_remove solution\n",
        "dt = 1/10\n",
        "a = gamma.pdf( np.arange(0,10,dt), 2.5, 0 )\n",
        "t = np.arange(0,10,dt)\n",
        "\n",
        "# what should go into the np.cumsum() function?\n",
        "v = np.cumsum(a*dt)\n",
        "\n",
        "# this just plots your velocity:\n",
        "with plt.xkcd():\n",
        "  plt.figure(figsize=(10,6))\n",
        "  plt.plot(t,a,label='acceleration [$m/s^2$]')\n",
        "  plt.plot(t,v,label='velocity [$m/s$]')\n",
        "  plt.xlabel('time [s]')\n",
        "  plt.ylabel('[motion]')\n",
        "  plt.legend(facecolor='xkcd:white')\n",
        "  plt.show()"
      ],
      "execution_count": null,
      "outputs": [
        {
          "output_type": "display_data",
          "data": {
            "image/png": "[encoded data removed]",
            "text/plain": [
              "<Figure size 720x432 with 1 Axes>"
            ]
          },
          "metadata": {
            "tags": []
          }
        }
      ]
    },
    {
      "cell_type": "markdown",
      "metadata": {
        "id": "-G9qzIuVMsEc",
        "colab_type": "text"
      },
      "source": [
        "**Background: Sensory signals are noisy**: \n",
        "\n",
        "In our experiment, in addition to judgements of world vs self-motion, we also recorded sensory signals of the participant. We will now also look at the sensory signals, by plotting the data. The data come in two matrices:\n",
        "\n",
        "`opticflow` (with the visual signals)\n",
        "\n",
        "and\n",
        "\n",
        "`vestibular` (with the vestibular signals)\n",
        "\n",
        "In each of the signal matrices _rows_ represent **trials**, while _columns_ are **time samples**. There are 100 columns, representing $10 s$ collected with a 100 ms time bin. \n",
        "\n",
        "Here we plot the data representing our 'sensory signals':\n",
        "\n",
        "* plot optic flow signals for self-motion vs world-motion conditions (should be the same)\n",
        "* plot vestibular signals for self-motion vs world-motion conditions (should be different)\n",
        "\n",
        "The x-axis is time in seconds, but the y-axis can be one of several, depending on what you do with the signals: $m/s^2$ (acceleration), $m/s$ (velocity) or $m$ (distance)."
      ]
    },
    {
      "cell_type": "code",
      "metadata": {
        "colab_type": "code",
        "cellView": "form",
        "id": "hphRL3XhqDcq",
        "colab": {}
      },
      "source": [
        "#@title Run to plot raw noisy sensory signals\n",
        "# signals as they are:\n",
        "my_plot_sensorysignals(judgments, opticflow, vestibular)"
      ],
      "execution_count": null,
      "outputs": []
    },
    {
      "cell_type": "markdown",
      "metadata": {
        "colab_type": "text",
        "id": "Sb_mLFbcqDcw"
      },
      "source": [
        "\n",
        "### **TD 2.3**: Understanding the problem of noisy sensory information\n",
        "\n",
        "**Answer the following questions:**\n",
        " * Is this what you expected?\n",
        " * In which of the two signals should we be able to see a difference between the conditions?\n",
        " * Can we use the data as it is to differentiate between the conditions? \n",
        " * Can we compare the the visual and vestibular motion signals when they're in different units?\n",
        " * What would the brain do differentiate the two conditions?\n"
      ]
    },
    {
      "cell_type": "markdown",
      "metadata": {
        "colab_type": "text",
        "id": "RZWi0ANGqDcx"
      },
      "source": [
        "Now that we know how to integrate the vestibular signal to get it into the same unit as the optic flow, we can see if it shows the pattern it should: a flat line in the world-motion condition and the correct velocity profile in the self-motion condition. Run the chunk of Python below to plot the sensory data again, but now with the vestibular signal integrated.\n"
      ]
    },
    {
      "cell_type": "code",
      "metadata": {
        "colab_type": "code",
        "cellView": "form",
        "id": "MqX30UpkqDc2",
        "colab": {}
      },
      "source": [
        "#@title Run to compare true signals to sensory data \n",
        "my_axes = my_plot_sensorysignals(judgments, opticflow, np.cumsum(vestibular*.1,axis=1), returnaxes=True, addaverages=False)\n",
        "\n",
        "my_axes[0][0].plot(t, -v, color='xkcd:red')\n",
        "my_axes[0][1].plot(t, -v, color='xkcd:blue')\n",
        "my_axes[1][0].plot(t, np.zeros(100), color='xkcd:red')\n",
        "my_axes[1][1].plot(t,  v, color='xkcd:blue')\n",
        "\n",
        "plt.show()"
      ],
      "execution_count": null,
      "outputs": []
    },
    {
      "cell_type": "markdown",
      "metadata": {
        "id": "2Cq6dyRYpRmY",
        "colab_type": "text"
      },
      "source": [
        "The thick lines are the ground truth: the actual velocities in each of the conditions. With some effort, we can make out that _on average_ the vestibular signal does show the expected pattern after all. But there is also a lot of noise in the data."
      ]
    },
    {
      "cell_type": "markdown",
      "metadata": {
        "colab_type": "text",
        "id": "-SjolGEsqDc8"
      },
      "source": [
        "### **TD 2.4**: Comparing sensory data to true signals\n",
        "\n",
        "**Now answer the following:**\n",
        "\n",
        "* How quickly do the sensory signals change, in other words how long (in s) does it take for the signal to change by a factor of 10 (1 order of magnitude)?\n",
        "* How quickly does your perception and judgements change (order of magnitude, in sec)?  _Use your intuition_"
      ]
    },
    {
      "cell_type": "markdown",
      "metadata": {
        "colab_type": "text",
        "id": "_HYdIbEAqDc8"
      },
      "source": [
        "**Background  Summary**:  \n",
        "\n",
        "Now that we have examined the sensory signals, and understand how they relate to the ground truth. We see that there is enough information to _in principle_ disambiguate true self-motion from true world motion (there should be no illusion!). However, because the sensory information contains a lot of noise, i.e. it is unreliable, it could result in ambiguity.\n",
        "\n",
        "**_It is time to refine our research question:_**\n",
        "\n",
        "* Does the self-motion illusion occur due to unreliable sensory information?"
      ]
    },
    {
      "cell_type": "markdown",
      "metadata": {
        "id": "ni2fNk6aFjfb",
        "colab_type": "text"
      },
      "source": [
        "# Micro-tutorial 3 - identify ingredients"
      ]
    },
    {
      "cell_type": "code",
      "metadata": {
        "id": "GMpJXCKkcbCY",
        "colab_type": "code",
        "cellView": "form",
        "colab": {}
      },
      "source": [
        "#@title Video: Ingredients\n",
        "from IPython.display import YouTubeVideo\n",
        "video = YouTubeVideo(id='Xn9culHqZ7U', width=854, height=480, fs=1)\n",
        "print(\"Video available at https://youtube.com/watch?v=\" + video.id)\n",
        "video"
      ],
      "execution_count": null,
      "outputs": []
    },
    {
      "cell_type": "markdown",
      "metadata": {
        "colab_type": "text",
        "id": "pHMpMeARqDc-"
      },
      "source": [
        "\n",
        "**Goal**: think about what ingredients we will need for our model\n",
        "\n",
        "We have access to sensory signals from the visual and vestibular systems. These are likely what the brain uses to estimate motion relative to ourselves and our self-motion.  \n",
        "\n",
        "1. **We need some way to relate sensory signals to percepts**  \n",
        "These are the key observations which help guide our thinking:\n",
        "\n",
        "   _Sensory input can be noisy_: \n",
        "> We saw this specially with the vestibular signals.\n",
        "\n",
        "   _Percepts are not as noisy as the sensory data_: \n",
        "> The brain regularly has to convert its sensory data into a more reliable and useful form. We don't experience illusory/false percepts that often.\n",
        "\n",
        " _In fact, percepts are fairly stable_:\n",
        ">The experiment lasts 10 sec, and people are happy making only **one** judgment all that time.  \n",
        "\n",
        " Understanding how the brain reduces noise in sensory signals to form stable and accurate percepts is complex, but we can represent this process using a simple statistical model:  **time averaging the signal** \n",
        "\n",
        " * Averaging reduces noise, smoothes signals and reduces timescale.  All these properties agree with our observation.\n",
        "\n",
        "2. **We need a way to best determine if we are moving from our vestibular input**\n",
        " \n",
        " Although the vestibular sensory information is unreliable, the brain somehow uses it to decide if the body is moving. This suggests the brain may implement a thresholding mechanism, which suppresses small fluctuations in sensory signals unlikely to be real.  \n",
        " * Thresholding an averaged vestibular signal can help distinguish the no self-motion from self-motion. \n",
        "\n",
        "\n",
        "We will learn how to implement:\n",
        "* _mean filter_ to smooth our sensory signals\n",
        "* _threshold function_ to help distinguish moving from non-moving.  \n",
        "\n",
        "\n",
        "\n",
        "\n",
        "\n",
        "\n"
      ]
    },
    {
      "cell_type": "markdown",
      "metadata": {
        "colab_type": "text",
        "id": "066SR72DqDdA"
      },
      "source": [
        "One of the simplest models of noise reduction is a moving average over the recent past. \n",
        "\n",
        "That is, to get an estimate $\\bar{s}(t)$ of a signal $s(t)$, we average over an interval of time of duration $w$ just preceding $t$:\n",
        "$$ \\bar{s}(t) = average(s[t-w, t])$$\n",
        "which takes the average of all the signal points in between $t-w$ and $t$. Note that our estimate will be somewhat in the past (centered at $t-(w/2)$). \n",
        "\n",
        "This operation is a simple example of **filtering**, and is called a **moving average**, (sometimes: moving mean or rolling mean). \n",
        "\n",
        "The **parameter** $w$ is often termed the _window size_.\n",
        "\n",
        "For more information on the moving average, check [this Wikipedia page](https://en.wikipedia.org/wiki/Moving_average)\n",
        "______\n",
        " In this tutorial there is a simple running average function available:\n",
        " > `my_moving_window(s,w)`: \n",
        "     takes a signal time series $s$ and a window size $w$ as input. The window size is the number of samples (including the current one) over which an average is taken.\n",
        "\n",
        "The code below picks one vestibular signal, integrates it to get a velocity estimate for self motion, and then filters it with several window sizes.\n",
        "\n"
      ]
    },
    {
      "cell_type": "markdown",
      "metadata": {
        "id": "yACi8M8kztre",
        "colab_type": "text"
      },
      "source": [
        "### **TD 3.1**: Understand the moving average function\n",
        "\n",
        "**Play with the code**\n",
        "\n",
        "Try different window sizes, then answer the following:\n",
        "\n",
        "* What is the maximum window size? The minimum?\n",
        "* Why are the larger window-size curves lower and shifted compared to the smaller $w$ curves? \n",
        "* How do the filtered estimates differ from the true signal?  \n",
        "\n",
        "Modify the code to answer the following questions [IF TIME PERMITS]:\n",
        "* Does the output change if you first filter and then integrate (reminder: here we integrated then filtered)?\n",
        "* Would some other operation like maximum velocity do better than the average? (set FUN=np.max)\n",
        "\n",
        "**Play with the moving average function**"
      ]
    },
    {
      "cell_type": "code",
      "metadata": {
        "colab_type": "code",
        "cellView": "both",
        "id": "nX-4zum7qDdD",
        "colab": {}
      },
      "source": [
        "# Understanding the windowed average function\n",
        "# filtering one signal:\n",
        "\n",
        "# pick a trial number\n",
        "trial_number = 100 # 100: first trial with self motion\n",
        "one_signal = vestibular[trial_number,:]\n",
        "\n",
        "# time on x-axis:\n",
        "t = np.arange(0,10,.1)\n",
        "# set up a figure\n",
        "fig = plt.figure(figsize=(12,8))\n",
        "\n",
        "######################################\n",
        "# test various other window sizes here\n",
        "for window in [1,2,5,10,20]:\n",
        "    my_signal = one_signal\n",
        "    # integrate:\n",
        "    my_signal = np.cumsum(my_signal*.1)\n",
        "    # filter:\n",
        "    my_signal = my_moving_window(my_signal,\n",
        "                                 window=window,\n",
        "                                 FUN=np.mean)\n",
        "    # plot\n",
        "    plt.plot(t, \n",
        "             my_signal,\n",
        "             label=f'window {window}')\n",
        "    \n",
        "# finish figure:\n",
        "plt.legend()\n",
        "plt.show()"
      ],
      "execution_count": null,
      "outputs": []
    },
    {
      "cell_type": "markdown",
      "metadata": {
        "id": "VRl-_vjFWXW5",
        "colab_type": "text"
      },
      "source": [
        "_Note: the function `my_moving_window()` is defined in this notebook in the code block at at the top called \"Convenience functions: Plotting and Filtering\". It should be the first function there, so feel free to check how it works._"
      ]
    },
    {
      "cell_type": "markdown",
      "metadata": {
        "id": "6siYiACF3luG",
        "colab_type": "text"
      },
      "source": [
        "### **TD 3.2**: Thresholding the self-motion vestibular signal\n",
        "\n",
        "\n",
        "We know that the vestibular signal is the only information available to estimate self motion, since the visual optic-flow signal is non-zero for both self and world motion. The mean integrated, filtered (accumulated) vestibular signals should be different between the two conditions (self-motion _or_ no self-motion). And the simplest way to decide if there was self motion or not, would be to use a threshold on those estimates of self motion. \n",
        "\n",
        "Here we:\n",
        "* 1) Integrate the vestibular signal, and use a moving average filter. We then take the last value of the vestibular signal as our estimate of self-motion velocity. \n",
        "* 2) We sort these estimates separately for conditions of real world-motion vs. real self-motion. Remember that this information is stored in the first column of our experiment data matrix (true condition = judgments[:,0]). We end up with two estimates of self-motion velocity, one for each condition (v_nomove_est and v_move_est )\n",
        "* 3) Transfor the two estimates of self-motion into binary (0,1) decisions by comparing them to a threshold. Remember the output of logical comparators (>=<) are logical (truth/1, false/0). 1 indicates we think there was self-motion and 0 indicates otherwise. YOUR CODE HERE.\n",
        "* 4) We then check this 'classified' decision against the ground truth to determine 'classification' accuracy.\n",
        "* 5) To understand how the threshold impacts classfication accuracy, we do 1-5  for a range of thresholds inside a for loop.\n",
        "\n",
        "First we do 1-2. Then we do 3-implement the threshold and check our classification.\n",
        "There are two lines of code to complete.\n"
      ]
    },
    {
      "cell_type": "markdown",
      "metadata": {
        "id": "u4-mj0F2JDuU",
        "colab_type": "text"
      },
      "source": [
        "####**Estimate self-motion velocity from vestibular signal**"
      ]
    },
    {
      "cell_type": "code",
      "metadata": {
        "id": "37SG7EiVA8_B",
        "colab_type": "code",
        "colab": {}
      },
      "source": [
        "# Clean up vestibular signal and use it to estimate self-motion velocity.\n",
        "# first we estimate self motion for all trials:\n",
        "# using the velocity accumulated across 10 seconds of vestibular signal\n",
        "v_ves = np.cumsum(vestibular*.1, axis=1);\n",
        "\n",
        "# Use the last sample as the \"judgment time\"\n",
        "# (the 100th sample has index 99: the 1st has index 0)\n",
        "judgeT = 99\n",
        "selfmotion_est = my_moving_window(v_ves,window=100,FUN=np.mean)[:,99]\n",
        "# this line would use the max acceleration:\n",
        "#selfmotion_est = my_moving_window(vestibular,window=100,FUN=np.max)[:,99]*10\n",
        "\n",
        "\n",
        "# Now we separate the trials by condition\n",
        "# no-move: judgments ==0 is the \"world-motion\" condition where there is no self-motion signal\n",
        "# move:    judgments ==1 is the \"self-motion\" condition with a self-motion signal\n",
        "v_nomove_est = selfmotion_est[np.where(judgments[:,0]==0)]\n",
        "v_move_est  = selfmotion_est[np.where(judgments[:,0]==1)]\n",
        "# and we get the number of trials:\n",
        "nomove_n, move_n = len(v_nomove_est), len(v_move_est)"
      ],
      "execution_count": null,
      "outputs": []
    },
    {
      "cell_type": "markdown",
      "metadata": {
        "id": "Rx_LSgpcI0tQ",
        "colab_type": "text"
      },
      "source": [
        "####**Threshold self-motion velocity into binary classifiction of self-motion**"
      ]
    },
    {
      "cell_type": "code",
      "metadata": {
        "colab_type": "code",
        "id": "NzfJm2STqDdK",
        "cellView": "both",
        "colab": {}
      },
      "source": [
        "#### Then we define and implement the threshold (fill in below!!)\n",
        "# for various thresholds:\n",
        "thresholds = np.arange(-.5,1.501,.001)\n",
        "# as well as the proportion classified correctly:\n",
        "prop_correct = np.empty(thresholds.shape)\n",
        "pselfmove_nomove = np.empty(thresholds.shape)\n",
        "pselfmove_move = np.empty(thresholds.shape)\n",
        "\n",
        "\n",
        "def threshold_classify(thresholds,pselfmove_nomove,pselfmove_move):\n",
        "\n",
        "\n",
        "  #uncomment below, and fill in your code\n",
        "\n",
        "  ## this loops through all the threshold values we're investigating:\n",
        "  #for thr_i, threshold in enumerate(thresholds):\n",
        "\n",
        "      ##############################################################\n",
        "      # compare the two self motion estimates to the threshold:\n",
        "        \n",
        "      ## 1: for v_nomove_est\n",
        "      #is_move = (...)  # YOUR CODE HERE. should return true or false.\n",
        "      #pselfmove_nomove[thr_i] = np.sum(is_move)/nomove_n;\n",
        "      \n",
        "      ## 2: for v_move_est\n",
        "      #is_move = (...)  #YOUR CODE HERE. should return true or false.\n",
        "      #pselfmove_move[thr_i] = np.sum(is_move)/move_n;\n",
        "      \n",
        "      ##############################################################\n",
        "\n",
        "      ## calculate the proportion classified correctly: (1-pselfmove_nomove) + () \n",
        "      ## Correct rejections:\n",
        "      #p_CR = (1-pselfmove_nomove[thr_i]);\n",
        "      ## correct detections:\n",
        "      #p_D = pselfmove_move[thr_i];\n",
        "      \n",
        "      ## this is corrected for proportion of trials in each condition:\n",
        "      #prop_correct[thr_i] = ((p_CR * nomove_n) + (p_D * move_n)) / (nomove_n + move_n)\n",
        "      ## the simpler line might just be:\n",
        "      ##prop_correct[thr_i] = (p_CR + p_D) / 2\n",
        "\n",
        "  # comment this out when you've filled\n",
        "  raise NotImplementedError(\"Student excercise: threshold and classify\")\n",
        "\n",
        "  return prop_correct\n",
        "\n",
        "##call the function to get classification accuracy for various threshold\n",
        "#prop_correct = threshold_classify(thresholds,pselfmove_nomove,pselfmove_move)\n",
        "## this plots the results for various thresholds:\n",
        "#my_plot_thresholds(thresholds, pselfmove_nomove, pselfmove_move, prop_correct)"
      ],
      "execution_count": null,
      "outputs": []
    },
    {
      "cell_type": "code",
      "metadata": {
        "id": "R4gHVYki-60D",
        "colab_type": "code",
        "cellView": "both",
        "colab": {}
      },
      "source": [
        "# to_remove solution\n",
        "\n",
        "\n",
        "#### Then we define and implement the threshold \n",
        "# for various thresholds:\n",
        "thresholds = np.arange(-.5,1.501,.001)\n",
        "# as well as the proportion classified correctly:\n",
        "prop_correct = np.empty(thresholds.shape)\n",
        "pselfmove_nomove = np.empty(thresholds.shape)\n",
        "pselfmove_move = np.empty(thresholds.shape)\n",
        "\n",
        "def threshold_classify(thresholds,pselfmove_nomove,pselfmove_move):\n",
        "\n",
        "  # this loops through all the threshold values we're investigating:\n",
        "  for thr_i, threshold in enumerate(thresholds):\n",
        "\n",
        "      ##############################################################\n",
        "      # compare the two self motion estimates to the threshold:\n",
        "        \n",
        "      # 1: for v_nomove_est\n",
        "      is_move = (v_nomove_est > threshold)  # should return true or false.\n",
        "      pselfmove_nomove[thr_i] = np.sum(is_move)/nomove_n;\n",
        "      \n",
        "      # 2: for v_move_est\n",
        "      is_move = (v_move_est > threshold)  # should return true or false.\n",
        "      pselfmove_move[thr_i] = np.sum(is_move)/move_n;\n",
        "      \n",
        "      ##############################################################\n",
        "\n",
        "      # calculate the proportion classified correctly: (1-pselfmove_nomove) + () \n",
        "      # Correct rejections:\n",
        "      p_CR = (1-pselfmove_nomove[thr_i]);\n",
        "      # correct detections:\n",
        "      p_D = pselfmove_move[thr_i];\n",
        "      \n",
        "      # this is corrected for proportion of trials in each condition:\n",
        "      prop_correct[thr_i] = ((p_CR * nomove_n) + (p_D * move_n)) / (nomove_n + move_n)\n",
        "      # the simpler line might just be:\n",
        "      #prop_correct[thr_i] = (p_CR + p_D) / 2\n",
        "\n",
        "  return prop_correct\n",
        "\n",
        "#call the function to get classification accuracy for various threshold\n",
        "prop_correct = threshold_classify(thresholds,pselfmove_nomove,pselfmove_move)\n",
        "# this plots the results for various thresholds:\n",
        "\n",
        "with plt.xkcd():\n",
        "  my_plot_thresholds(thresholds, pselfmove_nomove, pselfmove_move, prop_correct)"
      ],
      "execution_count": null,
      "outputs": []
    },
    {
      "cell_type": "markdown",
      "metadata": {
        "colab_type": "text",
        "id": "mSRY1wNLqDdO"
      },
      "source": [
        "Let's unpack this plot: \n",
        "\n",
        "Ideally, the blue line representing our estimate of self-motion when there was true self-motion should be a flat line at 1 (although we know it's dependent on the threshold because it's a noisy signal). The orange line representing our estimate of self-motion when there was NOT true self-motion, should ideally be a flat line at 0. So for real noisy sensory data, our estimates our not perfect.\n",
        "\n",
        "For low-thresholds, we always judge that there was self-motion. Which makes sense because the vestibular signal is noisy so we need to have a high threshold so we don't detect noise. But if we set the threshold too hight, that's not good either because we misjudge that there was no self-motion when in reality there was. The ideal threshold is somewhere between these two extremes. This threshold-dependent trade-off between correct detections and correct rejection is a hallmark of signal detection theory:\n",
        "\n",
        "Trials from the world-motion condition classified as having self motion, are incorrect, so we want that percentage low. Trials from the self-motion condition should be classified as having self motion, so we want that percentage high. It seems that the optimum threshold is around 0.33 m/s."
      ]
    },
    {
      "cell_type": "markdown",
      "metadata": {
        "colab_type": "text",
        "id": "6NTrAGQcqDdP"
      },
      "source": [
        "The ingredients we have collected for our model so far:\n",
        "* integration: get the vestibular signal in the same unit as the visual signal\n",
        "* running average: accumulate evidence over some time, so that perception is stable\n",
        "* decision if there was self motion (threshold)"
      ]
    },
    {
      "cell_type": "markdown",
      "metadata": {
        "id": "X9nbllBGwPvQ",
        "colab_type": "text"
      },
      "source": [
        "Since the velocity judgments are made at the end of the 10 second trials, it seems reasonable to use the sensory signals at the last sample to estimate what percept the participants said they had. "
      ]
    },
    {
      "cell_type": "markdown",
      "metadata": {
        "id": "8DdfGI2-F_fQ",
        "colab_type": "text"
      },
      "source": [
        "# Micro-tutorial 4 - formulating a hypotheses"
      ]
    },
    {
      "cell_type": "code",
      "metadata": {
        "id": "iXBSowqLcobw",
        "colab_type": "code",
        "cellView": "form",
        "colab": {}
      },
      "source": [
        "#@title Video: Hypothesis\n",
        "from IPython.display import YouTubeVideo\n",
        "video = YouTubeVideo(id='SxMeDSB6ujs', width=854, height=480, fs=1)\n",
        "print(\"Video available at https://youtube.com/watch?v=\" + video.id)\n",
        "video"
      ],
      "execution_count": null,
      "outputs": []
    },
    {
      "cell_type": "markdown",
      "metadata": {
        "id": "iZkxqYnHRs7R",
        "colab_type": "text"
      },
      "source": [
        "\n",
        "**Goal**: formulate reasonable hypotheses in mathematical language using the ingredients identified in step 3. Write hypotheses as a function that we evaluate the model against later...\n",
        "\n",
        "**Question:** _Why do we experience the illusion?_\n",
        "\n",
        "We've seen this has two ingredients.  \n",
        "* Optic flow is ambiguous: both world motion and self-motion drive visual motion\n",
        "* Vestibular signals _can_ be ambiguous when they are noisy. \n",
        "\n",
        "What are the relationships between sensory signals and the world motion? \n",
        "\n",
        "**Optic flow**\n",
        "\n",
        "Why is optic flow an ambiguous cue to world motion and self-motion?  Let's make this more precise by formalizing the relationships between these quantities. Let's introduce some notation:\n",
        "\n",
        "\n",
        "> $s_{visual}$: optic flow signal\n",
        ">\n",
        "> $w_v$:   world motion (velocity magnitude)\n",
        ">\n",
        "> $s_v$: self motion (velocity magnitude)\n",
        "\n",
        "> Note that $s_{visual}$ and $s_v$ will always have opposite signs. As you move forward through the world (+$s_v$), the image of the world on your eye ball (optic flow) moves backwards ($-s_{visual}$).\n",
        ">\n",
        "> $$s_{visual} = w_v - s_v + noise$$\n",
        "\n",
        "> You can intuit this by imagining that you're running along a train, at the same exact speed as the train. The image of the train on your eyeball will not change, because the world motion (train) is cancelled out by your self-motion.\n",
        "\n",
        "**Vestibular**\n",
        "\n",
        "Vestibular is similar but simpler.  It can be ambiguous, but only due to noise.\n",
        "\n",
        "> $s_{vestibular}$: vestibular signal\n",
        ">\n",
        "> $$s_{vestibular} = s_v + noise$$\n",
        "\n",
        "**Combining Relationships**\n",
        "\n",
        "Without the sensory noise, these two relations are two linear equations, with two unknowns!\n",
        "\n",
        "This suggests the brain could simply \"solve\" for $s_v$ and $w_v$.  \n",
        "\n",
        "However, given the noisy signals, sometimes these solutions will not be correct.  Perhaps that is enough to explain the illusion?\n"
      ]
    },
    {
      "cell_type": "markdown",
      "metadata": {
        "id": "jLVtyznk5VGr",
        "colab_type": "text"
      },
      "source": [
        "###**TD 4.1** Write out Hypothesis\n",
        "\n",
        "Use the discussion and framing to write out your hypothesis in the form:\n",
        "> Illusory self-motion occurs when (give preconditions).  We hypothesize it occurs because (explain how our hypothesized relationships work)\n",
        "\n",
        "* **SAMPLE ANSWER** Illusory self-motion occurs when noisy vestibular sensing falsely detects self-movement. We hypothesize it occurs because the brain perceives world motion through the optic flow signal after removing self-motion, using the relationship $w_v = s_{visual} + s_v$. Since $s_{visual}$ and $s_v$ always have opposite signs, these should cancel out when there is perceived self-motion."
      ]
    },
    {
      "cell_type": "markdown",
      "metadata": {
        "id": "I3hQiHf48I4Y",
        "colab_type": "text"
      },
      "source": [
        "### **TD 4.2** Relate hypothesis to ingredients\n",
        "\n",
        "Now it's time to pull together the ingredients and relate them to our hypothesis.  \n",
        "\n",
        "**For each trial we have:**\n",
        "\n",
        "| variable | description |\n",
        "| ---- | ---- |\n",
        "| $\\hat{v_s}$ | **self motion judgment** (in m/s)|\n",
        "| $\\hat{v_w}$ | **world motion judgment** (in m/s)|\n",
        "|  $s_{ves}$ | **vestibular info** filtered and integrated vestibular information  |\n",
        "|  $s_{opt}$ | **optic flow info** filtered optic flow estibular information  |\n",
        "| $z_s$ | **Self-motion detection** boolean value (True/False) indicating whether the vestibular info was above threshold or not |\n",
        "\n",
        "Answer the following questions by replotting your data and ingredients: \n",
        "\n",
        "* which of the 5 variables do our hypothesis say should be related?\n",
        "* what do you expect these plots to look like?  \n",
        "\n",
        " "
      ]
    },
    {
      "cell_type": "code",
      "metadata": {
        "id": "4kjKvSFUD7Vw",
        "colab_type": "code",
        "cellView": "form",
        "colab": {}
      },
      "source": [
        "#@title Run to calculate variables\n",
        "# these 5 lines calculate the main variables that we might use in the model\n",
        "s_ves = my_moving_window(np.cumsum(vestibular*.1, axis=1),window=100)[:,99]\n",
        "s_opt = my_moving_window(opticflow,50)[:,99]\n",
        "v_s = s_ves\n",
        "v_w = -s_opt - v_s\n",
        "z_s = (s_ves > 0.33)"
      ],
      "execution_count": null,
      "outputs": []
    },
    {
      "cell_type": "markdown",
      "metadata": {
        "id": "49ws94o-qLDh",
        "colab_type": "text"
      },
      "source": [
        "Below is a generic template to compare distributions of variables. For example, how variable are the estimates of velocity we get from each of the sensory signals?\n",
        "\n",
        "**Plot histograms**"
      ]
    },
    {
      "cell_type": "code",
      "metadata": {
        "id": "dZHe-U297s4V",
        "colab_type": "code",
        "cellView": "both",
        "colab": {}
      },
      "source": [
        "# Plot histograms\n",
        "\n",
        "#uncomment below and fill in with your code\n",
        "\n",
        "#plt.figure(figsize=(8,6))\n",
        "#####################################\n",
        "## determine which variables you want to look at, replace question marks\n",
        "\n",
        "#plt.hist(???, label='a', alpha=0.5) # YOUR CODE HERE\n",
        "#plt.hist(???, label='b', alpha=0.5) # YOUR CODE HERE\n",
        "\n",
        "# change labels if you need them\n",
        "#####################################\n",
        "\n",
        "#plt.legend(facecolor='xkcd:white')\n",
        "#plt.show()"
      ],
      "execution_count": null,
      "outputs": []
    },
    {
      "cell_type": "code",
      "metadata": {
        "id": "uSfRCpG3pg4W",
        "colab_type": "code",
        "cellView": "both",
        "colab": {}
      },
      "source": [
        "# to_remove solution\n",
        "with plt.xkcd():\n",
        "  plt.figure(figsize=(8,6))\n",
        "\n",
        "  #####################################\n",
        "  ## determine which variables you want to look at, replace question marks\n",
        "\n",
        "  # determine which variables you want to look at, replace question marks\n",
        "  plt.hist(s_ves, label='a', alpha=0.5) # set the first argument here\n",
        "  plt.hist(s_opt, label='b', alpha=0.5) # set the first argument here\n",
        "  # change labels if you need them\n",
        "  #####################################\n",
        "\n",
        "  plt.legend(facecolor='xkcd:white')\n",
        "  plt.show()"
      ],
      "execution_count": null,
      "outputs": []
    },
    {
      "cell_type": "markdown",
      "metadata": {
        "id": "kBkDPOhBidsj",
        "colab_type": "text"
      },
      "source": [
        "Below is generic code to create scatter diagrams. Use it to see if the relationships between variables are the way you expect them. For example, what is the relationship between the estimates of self motion and world motion, as we calculate them here?\n",
        "\n",
        "**Scatter plots**"
      ]
    },
    {
      "cell_type": "code",
      "metadata": {
        "id": "Ae0SInAi8A7E",
        "colab_type": "code",
        "cellView": "both",
        "colab": {}
      },
      "source": [
        "# Template for scatter plot\n",
        "\n",
        "# this sets up a figure with some dotted lines on y=0 and x=0 for reference\n",
        "plt.figure(figsize=(8,8))\n",
        "plt.plot([0,0],[-0.5,1.5],':',color='xkcd:black')\n",
        "plt.plot([-0.5,1.5],[0,0],':',color='xkcd:black')\n",
        "\n",
        "#############################################################################\n",
        "#uncomment below and fill in with your code\n",
        "## determine which variables you want to look at (replace question marks)\n",
        "#plt.scatter(???,     # variable on the abscissa / x-axis \n",
        "#            ???)     # variable on the ordinate / y-axis\n",
        "#plt.xlabel('a') # change axis labels if you need reminders\n",
        "#plt.ylabel('b')\n",
        "#plt.show()"
      ],
      "execution_count": null,
      "outputs": []
    },
    {
      "cell_type": "code",
      "metadata": {
        "id": "L7ARglE5ioMQ",
        "colab_type": "code",
        "cellView": "both",
        "colab": {}
      },
      "source": [
        "# to_remove solution\n",
        "\n",
        "# this sets up a figure with some dotted lines on y=0 and x=0 for reference\n",
        "with plt.xkcd():  # we plot solutions in xkcd format to set them apart from exercises\n",
        "\n",
        "  plt.figure(figsize=(8,8))\n",
        "  plt.plot([0,0],[-0.5,1.5],':',color='xkcd:black')\n",
        "  plt.plot([-0.5,1.5],[0,0],':',color='xkcd:black')\n",
        "\n",
        "#############################################################################\n",
        "# determine which variables you want to look at\n",
        "  plt.scatter(v_w,     # variable on the abscissa / x-axis \n",
        "              v_s)     # variable on the ordinate / y-axis\n",
        "  plt.xlabel('a') # change axis labels if you need reminders\n",
        "  plt.ylabel('b')\n",
        "  plt.show()"
      ],
      "execution_count": null,
      "outputs": []
    },
    {
      "cell_type": "markdown",
      "metadata": {
        "id": "f1Ad23GolDfH",
        "colab_type": "text"
      },
      "source": [
        "Below is code that uses $z_s$ to split the trials in into two categories (i.e. $s_{ves}$ below or above threshold) and plot the mean in each category.\n",
        "\n",
        "**Split variable means bar graph**"
      ]
    },
    {
      "cell_type": "code",
      "metadata": {
        "id": "UrnKQn1l8jg8",
        "colab_type": "code",
        "cellView": "both",
        "colab": {}
      },
      "source": [
        "# Split mean bar graph\n",
        "################################################\n",
        "#uncomment below and fill in with your code\n",
        "\n",
        "## fill in the source variable you want to check:\n",
        "#source_var = ???\n",
        "\n",
        "#below = np.mean( source_var[np.where(np.invert(z_s))[0]] )\n",
        "#above = np.mean( source_var[np.where(z_s)[0]] )\n",
        "\n",
        "#plt.figure()\n",
        "#plt.bar(x=[0,1],height=[below,above])\n",
        "#plt.xticks([0,1],['below','above'])\n",
        "#plt.show()"
      ],
      "execution_count": null,
      "outputs": []
    },
    {
      "cell_type": "code",
      "metadata": {
        "id": "vVE4zwHFlzrR",
        "colab_type": "code",
        "cellView": "both",
        "colab": {}
      },
      "source": [
        "# to_remove solution\n",
        "################################################\n",
        "# fill in the source variable you want to check:\n",
        "\n",
        "source_var = v_w\n",
        "\n",
        "below = np.mean( source_var[np.where(np.invert(z_s))[0]] )\n",
        "above = np.mean( source_var[np.where(z_s)[0]] )\n",
        "\n",
        "# we plot solutions in xkcd format to set them apart from exercises\n",
        "with plt.xkcd():\n",
        "  plt.figure()\n",
        "  plt.bar(x=[0,1],height=[below,above])\n",
        "  plt.xticks([0,1],['below','above'])\n",
        "  plt.show()"
      ],
      "execution_count": null,
      "outputs": []
    },
    {
      "cell_type": "markdown",
      "metadata": {
        "id": "MMTAtjMjGDVC",
        "colab_type": "text"
      },
      "source": [
        "# Micro-tutorial 5 - toolkit selection"
      ]
    },
    {
      "cell_type": "code",
      "metadata": {
        "id": "go0tApj4c-Ds",
        "colab_type": "code",
        "cellView": "form",
        "colab": {}
      },
      "source": [
        "#@title Video: Toolkit\n",
        "from IPython.display import YouTubeVideo\n",
        "video = YouTubeVideo(id='HQjMU3TXvyY', width=854, height=480, fs=1)\n",
        "print(\"Video available at https://youtube.com/watch?v=\" + video.id)\n",
        "video"
      ],
      "execution_count": null,
      "outputs": []
    },
    {
      "cell_type": "markdown",
      "metadata": {
        "colab_type": "text",
        "id": "ybeg3QBR5u7D"
      },
      "source": [
        "\n",
        "**Goal**: with the question, ingredients and hypotheses in mind, which toolkit (modeling approach) would be best to use?\n",
        "\n",
        "## Toolkits\n",
        "\n",
        "The lecture covers the notion of toolkit.  Here we explain the toolkit we use in our simulation.\n",
        "\n",
        "**Simulation as a generic tool** \n",
        "\n",
        "Because our data provides per trial data of both inputs and outputs, designing a _simulation_ is a powerful method.  \n",
        "\n",
        "In general, simulation models have a typical structure:\n",
        "\n",
        "![Generic Simulation](https://i.ibb.co/y8j7Y9C/Copy-of-W1-D2-Tutorials-micro-lectures.jpg)\n",
        "\n",
        "\n",
        "Simulation models have:\n",
        "\n",
        "* **inputs** including input variables, _and_ the ingredients needed to build the simulation functions.\n",
        "* **simulation** which runs the model _many times_ on the inputs, over a range of scenarios (typically different parameter or model choices).  \n",
        "\n",
        " In addition, many simulations run _replications_, which are useful if components of your input or model are _stochastic_.\n",
        "* **outputs** the output variables.  these may have replicas if the simulations are repeated to account for stochastic elements, which are perfect for statistical analysis.\n",
        "\n",
        "\n",
        "_____\n",
        "The elements of a simulation model are quite generic and occur in most models.  The most important considerations in deciding a toolkit are: \n",
        "* What types of mechanisms (causes, processes, systems) will you need to consider in your model?\n",
        "* What aspects of the data and ingredients are _essential_ which are clearly _irrelevant_, and which can be abstracted over.\n",
        "\n",
        "These considerations are completely determined by your research question.  To better understand this, we will engage you in a TA-led discussion."
      ]
    },
    {
      "cell_type": "markdown",
      "metadata": {
        "colab_type": "text",
        "id": "nyCFLiTn5u7S"
      },
      "source": [
        "### **TD 5.1** Here we will have a TA-guided discussion about how questions drive toolkit selection.  \n",
        "\n",
        "\n",
        "NOTES:   [See slides:](https://docs.google.com/presentation/d/1jn5YyzNqUJloi42TaUDpwXnnU_EI9OJxClvd4s1ismM/edit?usp=sharing)\n",
        "\n",
        "1. **DISCUSS MECHANISMS/INGREDIENTS NEEDED FOR QUESTIONS: what kinds of mechanisms and ingredients are needed for the discussion questions**\n",
        "\n",
        "2. **DISCUSS WHAT INGREDIENTS DONT MATTER: simulation / level of abstraction (depends on what is measured & is irrelevant to the question)**\n",
        "\n",
        "\n",
        "\n"
      ]
    },
    {
      "cell_type": "markdown",
      "metadata": {
        "colab_type": "text",
        "id": "cx2xSy4EqDdT"
      },
      "source": [
        "# Break"
      ]
    },
    {
      "cell_type": "markdown",
      "metadata": {
        "id": "41UU4oWvRmo6",
        "colab_type": "text"
      },
      "source": [
        "# Reading\n",
        "\n",
        "Blohm G, Kording KP, Schrater PR (2020). _A How-to-Model Guide for Neuroscience_ eNeuro, 7(1) ENEURO.0352-19.2019. https://doi.org/10.1523/ENEURO.0352-19.2019 \n",
        "\n",
        "Dokka K, Park H, Jansen M, DeAngelis GC, Angelaki DE (2019). _Causal inference accounts for heading perception in the presence of object motion._ PNAS, 116(18):9060-9065. https://doi.org/10.1073/pnas.1820373116\n",
        "\n",
        "Drugowitsch J, DeAngelis GC, Klier EM, Angelaki DE, Pouget A (2014). _Optimal Multisensory Decision-Making in a Reaction-Time Task._ eLife, 3:e03005. https://doi.org/10.7554/eLife.03005\n",
        "\n",
        "Hartmann, M, Haller K, Moser I, Hossner E-J, Mast FW  (2014). _Direction detection thresholds of passive self-motion in artistic gymnasts._ Exp Brain Res, 232:1249–1258. https://doi.org/10.1007/s00221-014-3841-0\n",
        "\n",
        "Mensh B, Kording K (2017). _Ten simple rules for structuring papers._ PLoS Comput Biol 13(9): e1005619. https://doi.org/10.1371/journal.pcbi.1005619\n",
        "\n",
        "Seno T, Fukuda H (2012). _Stimulus Meanings Alter Illusory Self-Motion (Vection) - Experimental Examination of the Train Illusion._ Seeing Perceiving, 25(6):631-45. https://doi.org/10.1163/18784763-00002394\n"
      ]
    }
  ]
}